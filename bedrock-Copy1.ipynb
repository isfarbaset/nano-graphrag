{
 "cells": [
  {
   "cell_type": "markdown",
   "id": "1ffc8cb7-8099-45ab-be48-2da43a93d051",
   "metadata": {},
   "source": [
    "# FM inference through Amazon Bedrock\n",
    "In this notebook we will try out several FMs available through Amazon Bedrock. We will use **Amazon Bedrock in a cross-account way** i.e. we will assume an IAM role in a different account that does have Amazon Bedrock access enabled and use that role to run inferences (in other words we will be invoking the foundation models in the other account and all the costs for using Bedrock would be going into that account and not in this account)."
   ]
  },
  {
   "cell_type": "markdown",
   "id": "af4d652e-df47-43e7-a380-b443c04e0274",
   "metadata": {},
   "source": [
    "<div style=\"background-color: #B0E0E6; padding: 10px; border-radius: 5px;\">\n",
    "<p style=\"margin: 0;\">💡 <strong>Important Note:</strong> \n",
    "    \n",
    "<ol style=\"margin: 10px 0 0 20px;\">\n",
    "   <li> Using Amazon Bedrock in a cross-account way from this notebook requires that you have a `BedrockCrossAccount.txt` file in your home directory, this would have been set through the LCC (Lifecycle configuration) script thyat runs automatically when you started this notebook. If the `BedrockCrossAccount.txt` is not present then you will get an error and will not be able to use Amazon Bedrock.</li>\n",
    "   <li>The LCC also installs all relevant libraries such as `litellm`, `langchain`, `boto3` etc. in the `conda_python3` environment so that this notebook is ready to go without needing any more Python package installs</li>\n",
    "</ol></p>\n",
    "</div>"
   ]
  },
  {
   "cell_type": "markdown",
   "id": "a1a0f32d-fe50-45bd-bf09-7bdace79ffbb",
   "metadata": {},
   "source": [
    "We will be using [`LiteLLM`](https://github.com/BerriAI/litellm) for interacting with Amazon Bedrock. LiteLLM provides a consistent interface for multiple model providers."
   ]
  },
  {
   "cell_type": "markdown",
   "id": "690b66d7-86d9-4cc7-9a8b-807cfbb844f7",
   "metadata": {},
   "source": [
    "## Setup imports"
   ]
  },
  {
   "cell_type": "code",
   "execution_count": 1,
   "id": "34a88e11-ece6-4530-a12a-75d476951148",
   "metadata": {
    "tags": []
   },
   "outputs": [],
   "source": [
    "import os\n",
    "import time\n",
    "import json\n",
    "import boto3\n",
    "import litellm\n",
    "import logging\n",
    "from pathlib import Path\n",
    "from litellm import completion\n",
    "from litellm import RateLimitError"
   ]
  },
  {
   "cell_type": "markdown",
   "id": "64a7f88f-ba84-4f35-a089-4586eb53aeb6",
   "metadata": {},
   "source": [
    "## Setup logging"
   ]
  },
  {
   "cell_type": "code",
   "execution_count": 2,
   "id": "b4fad217-de3b-4bca-9cb7-896feb4c2954",
   "metadata": {
    "tags": []
   },
   "outputs": [],
   "source": [
    "# Setup logging\n",
    "logging.basicConfig(format='[%(asctime)s] p%(process)s {%(filename)s:%(lineno)d} %(levelname)s - %(message)s', level=logging.INFO)\n",
    "logger = logging.getLogger(__name__)\n"
   ]
  },
  {
   "cell_type": "markdown",
   "id": "38af1a81-49c0-4d97-8956-a2923b60e11f",
   "metadata": {},
   "source": [
    "## Setup environment variables needed by `LiteLLM`"
   ]
  },
  {
   "cell_type": "code",
   "execution_count": 3,
   "id": "dd2ca5d5-5d81-478d-85a8-7c5f6b80a5bf",
   "metadata": {},
   "outputs": [],
   "source": [
    "os.environ[\"AWS_REGION_NAME\"] = \"us-east-1\""
   ]
  },
  {
   "cell_type": "markdown",
   "id": "c0013f15-ca51-4105-bc64-89ecbbf8e91f",
   "metadata": {},
   "source": [
    "## Assume cross-account role"
   ]
  },
  {
   "cell_type": "markdown",
   "id": "3d577124-77f7-47a2-bd2d-3a368dc0530f",
   "metadata": {},
   "source": [
    "<div style=\"background-color: #B0E0E6; padding: 10px; border-radius: 5px;\">\n",
    "<p style=\"margin: 0;\">💡 <strong>Important Note:</strong>The credentials being retrieved here only last for about 60 minutes, so if you keep your notebook running for longer than that then you would need to run this cell again to refresh the credentials.</p>\n",
    "</div>"
   ]
  },
  {
   "cell_type": "code",
   "execution_count": 4,
   "id": "3a060db4-29f1-4732-948b-51f9039b9629",
   "metadata": {},
   "outputs": [
    {
     "name": "stderr",
     "output_type": "stream",
     "text": [
      "[2025-02-13 23:33:58,676] p1310 {4181295245.py:2} INFO - ROLE_TO_ASSUME=arn:aws:iam::605134468121:role/BedrockCrossAccount\n",
      "[2025-02-13 23:33:58,721] p1310 {credentials.py:1075} INFO - Found credentials from IAM Role: BaseNotebookInstanceEc2InstanceRole\n"
     ]
    }
   ],
   "source": [
    "ROLE_TO_ASSUME = Path(os.path.join(os.environ[\"HOME\"],\"BedrockCrossAccount.txt\")).read_text().strip()\n",
    "logger.info(f\"ROLE_TO_ASSUME={ROLE_TO_ASSUME}\")\n",
    "  \n",
    "# Use STS to assume role  \n",
    "credentials = boto3.client('sts').assume_role(  \n",
    "    RoleArn=ROLE_TO_ASSUME,  \n",
    "    RoleSessionName='RoleBSession'  \n",
    ")['Credentials']  \n",
    "os.environ[\"AWS_ACCESS_KEY_ID\"] = credentials['AccessKeyId']\n",
    "os.environ[\"AWS_SECRET_ACCESS_KEY\"] = credentials['SecretAccessKey']\n",
    "os.environ[\"AWS_SESSION_TOKEN\"] = credentials['SessionToken']"
   ]
  },
  {
   "cell_type": "markdown",
   "id": "d4196f43-3d3d-44aa-bcc2-798f7cb2a94f",
   "metadata": {},
   "source": [
    "## A wrapper function to invoke LiteLLM\n",
    "Keep the following code handy, we will be using this whenever we need to invoke Amazon Bedrock."
   ]
  },
  {
   "cell_type": "markdown",
   "id": "9cfcb077-7806-4ea8-b839-7f62b1f254b5",
   "metadata": {},
   "source": [
    "Set the `verbose` option to `True` just for now to see what goes on under the hood while invoking Amazon Bedrock from `LiteLLM`. This provides additional insights such as pricing information that are not available otherwise."
   ]
  },
  {
   "cell_type": "code",
   "execution_count": 5,
   "id": "9b6a41b7-6081-4047-86af-7356ed3755c4",
   "metadata": {},
   "outputs": [],
   "source": [
    "litellm.set_verbose=True"
   ]
  },
  {
   "cell_type": "markdown",
   "id": "48353c16-4383-4e70-accd-db7841de1865",
   "metadata": {},
   "source": [
    "<div style=\"background-color: #B0E0E6; padding: 10px; border-radius: 5px;\">\n",
    "<p style=\"margin: 0;\">💡 <strong>Important Note:</strong>The code below also has retry mechanism built-in to automatically retry the call after a wait time in case we get throttling errors from Amazon Bedrock (it is possible that you make too many calls in a short duration and some service quota limit gets hit, especially since we are all using the same Bedrock account, remember we are using Bedriock in a cross-account way)</p>\n",
    "</div>"
   ]
  },
  {
   "cell_type": "code",
   "execution_count": 6,
   "id": "7a5312ba-d8d9-4871-9dae-f3d1db79fa2a",
   "metadata": {},
   "outputs": [],
   "source": [
    "import litellm\n",
    "from typing import Tuple\n",
    "def get_inference(model_name: str, prompt: str, max_tokens: int = 100, temperature: float = 0.7, n: int = 1, top_p: float = 1, stream: bool = False) -> Tuple[litellm.types.utils.ModelResponse, float]:\n",
    "    import sys\n",
    "    import time\n",
    "    max_retries = 10\n",
    "    retry_delay = 60  # seconds\n",
    "    \n",
    "    for attempt in range(max_retries):\n",
    "        try:\n",
    "            # Your task processing code here\n",
    "            print(f\"model_name={model_name}\")\n",
    "            st = time.perf_counter()\n",
    "            response = completion(\n",
    "                    model=model_name,\n",
    "                    model_id=None,\n",
    "                    messages=[{\"role\": \"user\", \"content\": prompt}],\n",
    "                    max_tokens=max_tokens,\n",
    "                    temperature=temperature,\n",
    "                    n=n,\n",
    "                    top_p=top_p,\n",
    "                    stream=stream\n",
    "                )\n",
    "            latency = time.perf_counter() - st\n",
    "            print(f\"got response in {latency:0.2f}s\")\n",
    "            return response, latency\n",
    "        except RateLimitError as e:\n",
    "            if attempt < max_retries - 1:\n",
    "                this_retry_delay = retry_delay * (attempt + 1) + random.randint(1, 10)\n",
    "                print(f\"rate limit hit for model_id {model_id} on attempt {attempt + 1}. Waiting {this_retry_delay} seconds...\", file=sys.stderr, flush=True)\n",
    "                time.sleep(this_retry_delay)\n",
    "                continue\n",
    "            else:\n",
    "                print(f\"max retries exceeded for model_id {model_id}\", file=sys.stderr, flush=True)\n",
    "                raise  # Re-raise the exception if we've exhausted all retries\n",
    "                \n",
    "        except Exception as e:\n",
    "            print(f\"Unexpected error processing model_id {model_id}: {e}\", file=sys.stderr, flush=True)\n",
    "            raise"
   ]
  },
  {
   "cell_type": "markdown",
   "id": "01882d7c-61fb-475b-8181-06e964e1f678",
   "metadata": {
    "tags": []
   },
   "source": [
    "## Our first inference with Amazon Bedrock\n",
    "\n",
    "We try this with a simple prompt. Try changing the prompt to generate different outputs."
   ]
  },
  {
   "cell_type": "code",
   "execution_count": 7,
   "id": "6500bb92-5bd9-4743-bd6b-f8819d47cc39",
   "metadata": {
    "tags": []
   },
   "outputs": [
    {
     "name": "stderr",
     "output_type": "stream",
     "text": [
      "\u001b[92m23:34:07 - LiteLLM:WARNING\u001b[0m: utils.py:460 - `litellm.set_verbose` is deprecated. Please set `os.environ['LITELLM_LOG'] = 'DEBUG'` for debug logs.\n",
      "[2025-02-13 23:34:07,164] p1310 {utils.py:460} WARNING - `litellm.set_verbose` is deprecated. Please set `os.environ['LITELLM_LOG'] = 'DEBUG'` for debug logs.\n",
      "\u001b[92m23:34:07 - LiteLLM:INFO\u001b[0m: utils.py:2944 - \n",
      "LiteLLM completion() model= us.meta.llama3-1-8b-instruct-v1:0; provider = bedrock\n",
      "[2025-02-13 23:34:07,174] p1310 {utils.py:2944} INFO - \n",
      "LiteLLM completion() model= us.meta.llama3-1-8b-instruct-v1:0; provider = bedrock\n",
      "[2025-02-13 23:34:07,189] p1310 {credentials.py:1147} INFO - Found credentials in environment variables.\n"
     ]
    },
    {
     "name": "stdout",
     "output_type": "stream",
     "text": [
      "model_name=us.meta.llama3-1-8b-instruct-v1:0\n",
      "SYNC kwargs[caching]: False; litellm.cache: None; kwargs.get('cache')['no-cache']: False\n",
      "Final returned optional params: {'temperature': 0.7, 'topP': 1, 'stream': False, 'maxTokens': 100, 'model_id': None}\n"
     ]
    },
    {
     "name": "stderr",
     "output_type": "stream",
     "text": [
      "[2025-02-13 23:34:08,686] p1310 {_client.py:1038} INFO - HTTP Request: POST https://bedrock-runtime.us-east-1.amazonaws.com/model/us.meta.llama3-1-8b-instruct-v1:0/converse \"HTTP/1.1 200 OK\"\n",
      "\u001b[92m23:34:08 - LiteLLM:INFO\u001b[0m: utils.py:1120 - Wrapper: Completed Call, calling success_handler\n",
      "[2025-02-13 23:34:08,688] p1310 {utils.py:1120} INFO - Wrapper: Completed Call, calling success_handler\n"
     ]
    },
    {
     "name": "stdout",
     "output_type": "stream",
     "text": [
      "RAW RESPONSE:\n",
      "{\"metrics\":{\"latencyMs\":1473},\"output\":{\"message\":{\"content\":[{\"text\":\"\\n\\n\\\"The Little Red Riding Hood\\\" is a classic European fairy tale collected by the Brothers Grimm. The story revolves around a young girl named Little Red Riding Hood, who is tasked by her mother to take a basket of food to her sick grandmother who lives in a nearby village.\\n\\nAs Little Red Riding Hood walks through the forest, she encounters a sly and cunning wolf. The wolf tricks her by asking her where she is going and what she is carrying, and then runs ahead to grandmother's house to eat\"}],\"role\":\"assistant\"}},\"stopReason\":\"max_tokens\",\"usage\":{\"inputTokens\":19,\"outputTokens\":100,\"totalTokens\":119}}\n",
      "\n",
      "\n",
      "got response in 1.53s\n"
     ]
    }
   ],
   "source": [
    "prompt = \"the little red riding hood\"\n",
    "model_id = \"us.meta.llama3-1-8b-instruct-v1:0\"\n",
    "max_tokens = 100\n",
    "temperature = 0.7\n",
    "n = 1\n",
    "top_p = 1\n",
    "stream = False\n",
    "response, latency = get_inference(model_id, prompt, max_tokens, temperature, n, top_p, stream)"
   ]
  },
  {
   "cell_type": "markdown",
   "id": "a8272c23-e2b3-4b35-9fa4-d22e8a94dc43",
   "metadata": {},
   "source": [
    "Examine all the fields of the output above. Lets parse out these fields by converting the output to a JSON structure."
   ]
  },
  {
   "cell_type": "code",
   "execution_count": 8,
   "id": "096f5950-70f1-46df-8497-8f945d5994ed",
   "metadata": {
    "tags": []
   },
   "outputs": [
    {
     "name": "stderr",
     "output_type": "stream",
     "text": [
      "[2025-02-13 23:34:26,076] p1310 {3777671960.py:1} INFO - {\n",
      "  \"id\": \"chatcmpl-fa856d8d-a8eb-41ee-a1fb-6e8a0a2a40f3\",\n",
      "  \"created\": 1739489648,\n",
      "  \"model\": \"us.meta.llama3-1-8b-instruct-v1:0\",\n",
      "  \"object\": \"chat.completion\",\n",
      "  \"system_fingerprint\": null,\n",
      "  \"choices\": [\n",
      "    {\n",
      "      \"finish_reason\": \"length\",\n",
      "      \"index\": 0,\n",
      "      \"message\": {\n",
      "        \"content\": \"\\n\\n\\\"The Little Red Riding Hood\\\" is a classic European fairy tale collected by the Brothers Grimm. The story revolves around a young girl named Little Red Riding Hood, who is tasked by her mother to take a basket of food to her sick grandmother who lives in a nearby village.\\n\\nAs Little Red Riding Hood walks through the forest, she encounters a sly and cunning wolf. The wolf tricks her by asking her where she is going and what she is carrying, and then runs ahead to grandmother's house to eat\",\n",
      "        \"role\": \"assistant\",\n",
      "        \"tool_calls\": null,\n",
      "        \"function_call\": null\n",
      "      }\n",
      "    }\n",
      "  ],\n",
      "  \"usage\": {\n",
      "    \"completion_tokens\": 100,\n",
      "    \"prompt_tokens\": 19,\n",
      "    \"total_tokens\": 119,\n",
      "    \"completion_tokens_details\": null,\n",
      "    \"prompt_tokens_details\": null\n",
      "  }\n",
      "}\n"
     ]
    }
   ],
   "source": [
    "logger.info(response.to_json())"
   ]
  },
  {
   "cell_type": "code",
   "execution_count": 9,
   "id": "ab2ca9f0-20e6-4f96-b104-7539c29d9d9b",
   "metadata": {
    "tags": []
   },
   "outputs": [
    {
     "name": "stderr",
     "output_type": "stream",
     "text": [
      "[2025-02-13 23:34:32,184] p1310 {3558623115.py:1} INFO - response: \n",
      "\n",
      "\"The Little Red Riding Hood\" is a classic European fairy tale collected by the Brothers Grimm. The story revolves around a young girl named Little Red Riding Hood, who is tasked by her mother to take a basket of food to her sick grandmother who lives in a nearby village.\n",
      "\n",
      "As Little Red Riding Hood walks through the forest, she encounters a sly and cunning wolf. The wolf tricks her by asking her where she is going and what she is carrying, and then runs ahead to grandmother's house to eat\n"
     ]
    }
   ],
   "source": [
    "logger.info(f\"response: {response.choices[0].message.content}\")"
   ]
  },
  {
   "cell_type": "markdown",
   "id": "2e66ae1b-8417-4ce2-b60a-b70c1a949798",
   "metadata": {},
   "source": [
    "### Token counts\n",
    "Pricing for most LLM providers such as Amazon Bedrock happens on the basis of token counts so it is very important to track them. We can do this by examining the `usage` field of the `LiteLLM` response."
   ]
  },
  {
   "cell_type": "code",
   "execution_count": 10,
   "id": "e402fa0f-2e20-45f5-bf42-d169be1528a4",
   "metadata": {
    "tags": []
   },
   "outputs": [
    {
     "name": "stderr",
     "output_type": "stream",
     "text": [
      "[2025-02-13 23:35:37,318] p1310 {4289907064.py:1} INFO - response: Usage(completion_tokens=100, prompt_tokens=19, total_tokens=119, completion_tokens_details=None, prompt_tokens_details=None)\n"
     ]
    }
   ],
   "source": [
    "logger.info(f\"response: {response.usage}\")"
   ]
  },
  {
   "cell_type": "markdown",
   "id": "8fb604d1-907d-4b37-b0a5-7f19c92f1564",
   "metadata": {},
   "source": [
    "### Streaming response\n",
    "In a real-time application such as a customer service chatbot we need to start responding immediately rather than waiting for the entire response especially if the response is going to be long. We can do this by enabling streaming, this is simple, just set `stream=True`. We will generate a much longer response now by setting the `max_tokens=500` so that we can see the _response chunks_ being printed out."
   ]
  },
  {
   "cell_type": "markdown",
   "id": "c67e50b5-5fa6-43d3-a2d1-787ef6c39e3d",
   "metadata": {},
   "source": [
    "**But first, set `verbose=False` otherwise we will get a lot of output which will clutter up the notebook**."
   ]
  },
  {
   "cell_type": "code",
   "execution_count": 11,
   "id": "fef5ad95-f16b-4d1a-a353-ab0d8ccee4d1",
   "metadata": {
    "tags": []
   },
   "outputs": [],
   "source": [
    "litellm.set_verbose=False"
   ]
  },
  {
   "cell_type": "code",
   "execution_count": 12,
   "id": "d38bd320-3fb5-408a-93a1-3178066fcc48",
   "metadata": {
    "tags": []
   },
   "outputs": [
    {
     "name": "stderr",
     "output_type": "stream",
     "text": [
      "\u001b[92m23:35:42 - LiteLLM:INFO\u001b[0m: utils.py:2944 - \n",
      "LiteLLM completion() model= us.meta.llama3-1-8b-instruct-v1:0; provider = bedrock\n",
      "[2025-02-13 23:35:42,710] p1310 {utils.py:2944} INFO - \n",
      "LiteLLM completion() model= us.meta.llama3-1-8b-instruct-v1:0; provider = bedrock\n"
     ]
    },
    {
     "name": "stdout",
     "output_type": "stream",
     "text": [
      "model_name=us.meta.llama3-1-8b-instruct-v1:0\n"
     ]
    },
    {
     "name": "stderr",
     "output_type": "stream",
     "text": [
      "[2025-02-13 23:35:43,104] p1310 {_client.py:1038} INFO - HTTP Request: POST https://bedrock-runtime.us-east-1.amazonaws.com/model/us.meta.llama3-1-8b-instruct-v1:0/converse-stream \"HTTP/1.1 200 OK\"\n"
     ]
    },
    {
     "name": "stdout",
     "output_type": "stream",
     "text": [
      "got response in 0.40s\n",
      "\n",
      "\n",
      "\"The Little Red Riding Hood\" is a classic European folk tale collected by the Brothers Grimm. The story revolves around a young girl named Little Red Riding Hood, who is tasked by her mother to take a basket of food to her sick grandmother who lives in a nearby village.\n",
      "\n",
      "As Little Red Riding Hood walks through the forest, she encounters a sly and cunning wolf. The wolf tricks her into giving him her basket and then runs ahead to Grandmother's house. When he arrives, he eats the grandmother and disguises himself as her.\n",
      "\n",
      "Meanwhile, Little Red Riding Hood continues on her way, unaware of the wolf's plan. When she arrives at Grandmother's house, the wolf, dressed as Grandmother, greets her and asks her to come closer. Little Red Riding Hood notices that something is amiss, but the wolf convinces her to come closer.\n",
      "\n",
      "Just as the wolf is about to pounce, a woodsman arrives and saves the day by cutting open the wolf's stomach with his axe. Little Red Riding Hood and her grandmother emerge unharmed, and the wolf is punished for his cruel actions.\n",
      "\n",
      "The story has been interpreted in many ways over the years, but some possible themes include:\n",
      "\n",
      "* The dangers of talking to strangers and the importance of being cautious in unfamiliar situations\n",
      "* The power of good over evil and the consequences of bad behavior\n",
      "* The importance of family and the love between Little Red Riding Hood and her grandmother\n",
      "* The symbolism of the wolf as a representation of the unknown or the dangers of the forest\n",
      "\n",
      "The story has been retold and adapted in many different ways, including films, stage productions, and children's books. It remains one of the most beloved and enduring fairy tales of all time.\n",
      "\n",
      "Some interesting facts about \"The Little Red Riding Hood\" include:\n",
      "\n",
      "* The story was first published by the Brothers Grimm in 1812 as part of their collection of Germanic and European folk tales.\n",
      "* The story has been translated into over 100 languages and has been adapted into countless films, stage productions, and children's books.\n",
      "* The character of Little Red Riding Hood has been depicted in many different ways over the years, including as a brave and resourceful heroine, a naive and innocent child, and even as a symbol of feminism and female empowerment.\n",
      "* The story has been interpreted as a cautionary tale about the dangers of the forest and the importance of being prepared for the unknown.\n",
      "* The story has also been seen as a reflection of the societal"
     ]
    }
   ],
   "source": [
    "stream = True\n",
    "max_tokens = 500\n",
    "response, latency = get_inference(model_id, prompt, max_tokens, temperature, n, top_p, stream)\n",
    "if stream is True:\n",
    "    for part in response:\n",
    "        print(part.choices[0].delta.content or \"\", end='', flush=True)"
   ]
  },
  {
   "cell_type": "markdown",
   "id": "6940b03c-1b7d-4fd1-84d4-92cfa69ed9fd",
   "metadata": {
    "tags": []
   },
   "source": [
    "## Task 1: try out different models available in Amazon Bedrock and analyze the output\n",
    "\n",
    "1. Run the following prompt _\"Pros and cons of Python Vs Golang as a first programming language for high school students\"_ through model list provided below. \n",
    "1. Set **max_tokens to 100, stream=False, temperature=0.7, top_p=1, n=1**.\n",
    "1. Print out the outputs as in the example code provided above. **Your notebook should show the output printed out in a readable fashion**.\n",
    "1. Create a Pandas dataframe by combining the responses from all the models. The dataframe should contain the following fields: **model_id**, **response**, **latency**, **prompt_tokens**, **completion_tokens**.\n",
    "1. Sort the dataframe in ascending order of the `latency` field.\n",
    "1. Save the dataframe to a csv file called `problem1_task1.csv`. **Commit and push this file to repo**.\n",
    "\n"
   ]
  },
  {
   "cell_type": "code",
   "execution_count": 13,
   "id": "f2d61f81-dcd0-465e-82c7-e3bc50679566",
   "metadata": {
    "tags": []
   },
   "outputs": [],
   "source": [
    "model_id_list = [\"bedrock/us.meta.llama3-1-70b-instruct-v1:0\",\n",
    "                 \"bedrock/us.meta.llama3-2-1b-instruct-v1:0\",\n",
    "                 \"bedrock/us.meta.llama3-2-3b-instruct-v1:0\",\n",
    "                 \"bedrock/us.meta.llama3-2-11b-instruct-v1:0\",\n",
    "                 \"bedrock/us.meta.llama3-2-90b-instruct-v1:0\",\n",
    "                 \"bedrock/us.anthropic.claude-3-5-sonnet-20241022-v2:0\",\n",
    "                 \"bedrock/us.anthropic.claude-3-5-haiku-20241022-v1:0\",\n",
    "                 \"bedrock/amazon.nova-lite-v1:0\",\n",
    "                 \"bedrock/amazon.nova-micro-v1:0\",\n",
    "                 \"bedrock/amazon.nova-pro-v1:0\"]"
   ]
  },
  {
   "cell_type": "code",
   "execution_count": 14,
   "id": "db56d11a-3717-48b9-b9ad-cb0884d6a4af",
   "metadata": {
    "tags": []
   },
   "outputs": [],
   "source": [
    "prompt: str = \"Pros and cons of Python Vs Golang as a first programming language for high school students\""
   ]
  },
  {
   "cell_type": "code",
   "execution_count": 15,
   "id": "bced66eb-b2b4-495e-a6ce-39800f662043",
   "metadata": {
    "tags": []
   },
   "outputs": [],
   "source": [
    "max_tokens: int = 500\n",
    "stream: bool = False\n",
    "temperature: int = 0.7\n",
    "top_p=1\n",
    "n=1"
   ]
  },
  {
   "cell_type": "code",
   "execution_count": 16,
   "id": "779b18a0-e283-4532-b858-49980de33e5e",
   "metadata": {
    "tags": []
   },
   "outputs": [
    {
     "name": "stderr",
     "output_type": "stream",
     "text": [
      "\u001b[92m23:36:13 - LiteLLM:INFO\u001b[0m: utils.py:2944 - \n",
      "LiteLLM completion() model= us.meta.llama3-1-70b-instruct-v1:0; provider = bedrock\n",
      "[2025-02-13 23:36:13,476] p1310 {utils.py:2944} INFO - \n",
      "LiteLLM completion() model= us.meta.llama3-1-70b-instruct-v1:0; provider = bedrock\n"
     ]
    },
    {
     "name": "stdout",
     "output_type": "stream",
     "text": [
      "model_name=bedrock/us.meta.llama3-1-70b-instruct-v1:0\n"
     ]
    },
    {
     "name": "stderr",
     "output_type": "stream",
     "text": [
      "[2025-02-13 23:36:29,892] p1310 {_client.py:1038} INFO - HTTP Request: POST https://bedrock-runtime.us-east-1.amazonaws.com/model/us.meta.llama3-1-70b-instruct-v1:0/converse \"HTTP/1.1 200 OK\"\n",
      "\u001b[92m23:36:29 - LiteLLM:INFO\u001b[0m: utils.py:1120 - Wrapper: Completed Call, calling success_handler\n",
      "[2025-02-13 23:36:29,894] p1310 {utils.py:1120} INFO - Wrapper: Completed Call, calling success_handler\n",
      "[2025-02-13 23:36:29,902] p1310 {2326171432.py:9} INFO - model_id=bedrock/us.meta.llama3-1-70b-instruct-v1:0\n",
      "response=\n",
      "\n",
      "Choosing the first programming language for high school students can be a crucial decision, as it can affect their learning experience, motivation, and future career prospects. Here's a balanced comparison of Python and Go (also known as Golang) as a first programming language for high school students:\n",
      "\n",
      "**Python:**\n",
      "\n",
      "Pros:\n",
      "\n",
      "1. **Easy to learn**: Python has a simple syntax, making it an excellent language for beginners. Its readability and concise code structure help students grasp programming concepts quickly.\n",
      "2. **Versatile**: Python is a general-purpose language, suitable for various applications, including web development, data analysis, artificial intelligence, and more.\n",
      "3. **Large community**: Python has a massive, supportive community, with numerous resources, libraries, and frameworks available.\n",
      "4. **Cross-platform**: Python can run on multiple operating systems, including Windows, macOS, and Linux.\n",
      "5. **Extensive libraries**: Python has a vast collection of libraries and frameworks, such as NumPy, pandas, and scikit-learn, making it ideal for data science and scientific computing.\n",
      "\n",
      "Cons:\n",
      "\n",
      "1. **Slow performance**: Python is an interpreted language, which can result in slower execution speeds compared to compiled languages like Go.\n",
      "2. **Limited support for parallel processing**: Python's Global Interpreter Lock (GIL) can limit parallel processing capabilities, making it less suitable for high-performance computing applications.\n",
      "\n",
      "**Go:**\n",
      "\n",
      "Pros:\n",
      "\n",
      "1. **Fast performance**: Go is a compiled language, which means it can run faster than interpreted languages like Python.\n",
      "2. **Concurrency support**: Go has built-in concurrency features, making it well-suited for modern, distributed systems and parallel processing applications.\n",
      "3. **Growing ecosystem**: Although Go's community is smaller than Python's, it's growing rapidly, with a increasing number of libraries and frameworks.\n",
      "4. **Simple and clean syntax**: Go's syntax is designed to be easy to read and write, making it a great language for beginners.\n",
      "5. **Built-in support for networking**: Go has a net package that provides a simple, efficient way to build networked applications.\n",
      "\n",
      "Cons:\n",
      "\n",
      "1. **Steeper learning curve**: Go's syntax and concepts, such as goroutines and channels, can be more challenging for beginners to grasp.\n",
      "2. **Smaller community**: Although Go's community is growing, it's still smaller than Python's, which can limit the availability of resources and libraries.\n",
      "3. **Limited support for data science**: Go's standard library doesn't have\n",
      "\u001b[92m23:36:29 - LiteLLM:INFO\u001b[0m: utils.py:2944 - \n",
      "LiteLLM completion() model= us.meta.llama3-2-1b-instruct-v1:0; provider = bedrock\n",
      "[2025-02-13 23:36:29,904] p1310 {utils.py:2944} INFO - \n",
      "LiteLLM completion() model= us.meta.llama3-2-1b-instruct-v1:0; provider = bedrock\n"
     ]
    },
    {
     "name": "stdout",
     "output_type": "stream",
     "text": [
      "got response in 16.43s\n",
      "model_name=bedrock/us.meta.llama3-2-1b-instruct-v1:0\n"
     ]
    },
    {
     "name": "stderr",
     "output_type": "stream",
     "text": [
      "[2025-02-13 23:36:35,300] p1310 {_client.py:1038} INFO - HTTP Request: POST https://bedrock-runtime.us-east-1.amazonaws.com/model/us.meta.llama3-2-1b-instruct-v1:0/converse \"HTTP/1.1 200 OK\"\n",
      "\u001b[92m23:36:35 - LiteLLM:INFO\u001b[0m: utils.py:1120 - Wrapper: Completed Call, calling success_handler\n",
      "[2025-02-13 23:36:35,302] p1310 {utils.py:1120} INFO - Wrapper: Completed Call, calling success_handler\n",
      "[2025-02-13 23:36:35,304] p1310 {2326171432.py:9} INFO - model_id=bedrock/us.meta.llama3-2-1b-instruct-v1:0\n",
      "response=**Introduction**\n",
      "\n",
      "As a high school student, choosing a programming language to learn can be a daunting task. Both Python and Go are popular languages, but they have different strengths and weaknesses. In this comparison, we'll highlight the pros and cons of each language, helping you decide which one is the best fit for your learning journey.\n",
      "\n",
      "**Python**\n",
      "\n",
      "**Pros:**\n",
      "\n",
      "1. **Easy to learn**: Python has a simple syntax and is relatively easy to read and write, making it an excellent choice for beginners.\n",
      "2. **Versatile**: Python can be used for web development, data analysis, machine learning, and more, with extensive libraries and frameworks available.\n",
      "3. **Large community**: Python has a massive and active community, ensuring there are many resources available for learning and troubleshooting.\n",
      "4. **Cross-platform**: Python can run on multiple operating systems, including Windows, macOS, and Linux.\n",
      "5. **Forgiving**: Python is a dynamically-typed language, which means it's more flexible and forgiving than statically-typed languages like C++ or Java.\n",
      "\n",
      "**Cons:**\n",
      "\n",
      "1. **Slow performance**: Python is an interpreted language, which means it can be slower than compiled languages like C++ or Go.\n",
      "2. **Limited concurrency**: Python can have issues with concurrency, which can make it challenging to write efficient code for multi-threaded applications.\n",
      "3. **Dependence on third-party libraries**: Python's vast array of libraries and frameworks can add complexity to your projects and require additional setup.\n",
      "\n",
      "**Go**\n",
      "\n",
      "**Pros:**\n",
      "\n",
      "1. **Fast performance**: Go is a compiled language, which means it's faster than Python and provides better performance for real-world applications.\n",
      "2. **Concurrent programming**: Go's concurrency features make it ideal for writing efficient and scalable code for multi-threaded and distributed systems.\n",
      "3. **Low-level memory management**: Go's garbage collection mechanism and lack of runtime type checking allow for low-level memory management, which can be beneficial for building systems software.\n",
      "4. **Multi-platform**: Go can run on multiple operating systems, including Windows, macOS, and Linux.\n",
      "5. **Growing ecosystem**: Go has a rapidly growing ecosystem, with many libraries and frameworks available for various domains, including web development, networking, and data processing.\n",
      "\n",
      "**Cons:**\n",
      "\n",
      "1. **Steep learning curve**: Go has a unique syntax and requires a good understanding of concurrency and memory management to write efficient code.\n",
      "2. **Limited standard library**: While Go's standard library is growing\n",
      "\u001b[92m23:36:35 - LiteLLM:INFO\u001b[0m: utils.py:2944 - \n",
      "LiteLLM completion() model= us.meta.llama3-2-3b-instruct-v1:0; provider = bedrock\n",
      "[2025-02-13 23:36:35,307] p1310 {utils.py:2944} INFO - \n",
      "LiteLLM completion() model= us.meta.llama3-2-3b-instruct-v1:0; provider = bedrock\n"
     ]
    },
    {
     "name": "stdout",
     "output_type": "stream",
     "text": [
      "got response in 5.40s\n",
      "model_name=bedrock/us.meta.llama3-2-3b-instruct-v1:0\n"
     ]
    },
    {
     "name": "stderr",
     "output_type": "stream",
     "text": [
      "[2025-02-13 23:36:42,602] p1310 {_client.py:1038} INFO - HTTP Request: POST https://bedrock-runtime.us-east-1.amazonaws.com/model/us.meta.llama3-2-3b-instruct-v1:0/converse \"HTTP/1.1 200 OK\"\n",
      "\u001b[92m23:36:42 - LiteLLM:INFO\u001b[0m: utils.py:1120 - Wrapper: Completed Call, calling success_handler\n",
      "[2025-02-13 23:36:42,607] p1310 {utils.py:1120} INFO - Wrapper: Completed Call, calling success_handler\n",
      "[2025-02-13 23:36:42,612] p1310 {2326171432.py:9} INFO - model_id=bedrock/us.meta.llama3-2-3b-instruct-v1:0\n",
      "response=**Introduction**\n",
      "\n",
      "Choosing a programming language as a first language for high school students can be a crucial decision. Both Python and Golang have their unique strengths and weaknesses. Here's a comparison of the two languages, highlighting their pros and cons as a first language for high school students:\n",
      "\n",
      "**Python**\n",
      "\n",
      "Pros:\n",
      "\n",
      "1. **Easy to learn**: Python has a simple syntax and is relatively easy to read and write, making it perfect for beginners.\n",
      "2. **High-level language**: Python is a high-level language, which means it abstracts away many low-level details, allowing students to focus on programming concepts rather than memory management.\n",
      "3. **Versatile**: Python can be used for a wide range of applications, including web development, data analysis, machine learning, and more.\n",
      "4. **Large community**: Python has a vast and active community, which means there are many resources available for learning and troubleshooting.\n",
      "5. **Cross-platform**: Python can run on multiple operating systems, including Windows, macOS, and Linux.\n",
      "\n",
      "Cons:\n",
      "\n",
      "1. **Slow performance**: Python is an interpreted language, which means it can be slower than compiled languages like Golang.\n",
      "2. **Limited support for parallel processing**: Python's Global Interpreter Lock (GIL) can make it difficult to take full advantage of multi-core processors.\n",
      "\n",
      "**Golang**\n",
      "\n",
      "Pros:\n",
      "\n",
      "1. **Fast performance**: Golang is a compiled language, which means it can be faster than interpreted languages like Python.\n",
      "2. **Built-in concurrency**: Golang has built-in support for concurrency, which makes it easy to write programs that can take advantage of multi-core processors.\n",
      "3. **Memory safety**: Golang has strong memory safety features, which can help prevent common programming errors like memory leaks and null pointer dereferences.\n",
      "4. **Growing ecosystem**: Golang's ecosystem is growing rapidly, with many libraries and frameworks available for web development, networking, and more.\n",
      "\n",
      "Cons:\n",
      "\n",
      "1. **Steeper learning curve**: Golang has a more complex syntax than Python, which can make it more difficult for beginners to learn.\n",
      "2. **Limited libraries and frameworks**: While Golang's ecosystem is growing, it still lags behind Python in terms of the number of libraries and frameworks available.\n",
      "3. **Limited support for dynamic typing**: Golang is a statically typed language, which means it can be more difficult to write programs that require dynamic typing.\n",
      "\n",
      "**Recommendation for High School Students**\n",
      "\n",
      "Based on the pros and cons, I would recommend Python as a\n",
      "\u001b[92m23:36:42 - LiteLLM:INFO\u001b[0m: utils.py:2944 - \n",
      "LiteLLM completion() model= us.meta.llama3-2-11b-instruct-v1:0; provider = bedrock\n",
      "[2025-02-13 23:36:42,615] p1310 {utils.py:2944} INFO - \n",
      "LiteLLM completion() model= us.meta.llama3-2-11b-instruct-v1:0; provider = bedrock\n"
     ]
    },
    {
     "name": "stdout",
     "output_type": "stream",
     "text": [
      "got response in 7.31s\n",
      "model_name=bedrock/us.meta.llama3-2-11b-instruct-v1:0\n"
     ]
    },
    {
     "name": "stderr",
     "output_type": "stream",
     "text": [
      "[2025-02-13 23:36:46,609] p1310 {_client.py:1038} INFO - HTTP Request: POST https://bedrock-runtime.us-east-1.amazonaws.com/model/us.meta.llama3-2-11b-instruct-v1:0/converse \"HTTP/1.1 200 OK\"\n",
      "\u001b[92m23:36:46 - LiteLLM:INFO\u001b[0m: utils.py:1120 - Wrapper: Completed Call, calling success_handler\n",
      "[2025-02-13 23:36:46,616] p1310 {utils.py:1120} INFO - Wrapper: Completed Call, calling success_handler\n",
      "[2025-02-13 23:36:46,621] p1310 {2326171432.py:9} INFO - model_id=bedrock/us.meta.llama3-2-11b-instruct-v1:0\n",
      "response=**Introduction**\n",
      "\n",
      "When it comes to teaching programming to high school students, the choice of language can significantly impact their learning experience and future career prospects. Python and Go (also known as Golang) are two popular programming languages that are often considered for beginners. Here, we'll discuss the pros and cons of each language as a first programming language for high school students.\n",
      "\n",
      "**Python**\n",
      "\n",
      "**Pros:**\n",
      "\n",
      "1. **Easy to read and write**: Python's syntax is simple and intuitive, making it an excellent language for beginners.\n",
      "2. **Large standard library**: Python has a vast collection of libraries and modules that can be easily imported and used, reducing the need to write custom code.\n",
      "3. **Cross-platform**: Python can run on multiple operating systems, including Windows, macOS, and Linux.\n",
      "4. **Versatile**: Python can be used for various applications, such as web development, data analysis, machine learning, and more.\n",
      "5. **Large community**: Python has a massive and active community, which means there are many resources available for learning and troubleshooting.\n",
      "\n",
      "**Cons:**\n",
      "\n",
      "1. **Slow performance**: Python's dynamic typing and interpretation can lead to slower performance compared to compiled languages like Go.\n",
      "2. **Memory-intensive**: Python's garbage collection can lead to higher memory usage, which may cause issues with resource-constrained systems.\n",
      "\n",
      "**Go**\n",
      "\n",
      "**Pros:**\n",
      "\n",
      "1. **Simple syntax**: Go's syntax is straightforward and easy to learn, making it an excellent language for beginners.\n",
      "2. **Performance**: Go's compiled nature and concurrency features make it a fast and efficient language.\n",
      "3. **Memory-efficient**: Go's garbage collection and memory management are designed to minimize memory usage.\n",
      "4. **Growing ecosystem**: Go's ecosystem is growing rapidly, with many libraries and frameworks available for various applications.\n",
      "5. **Concurrency**: Go's concurrency features make it an excellent language for parallelizing tasks and writing concurrent programs.\n",
      "\n",
      "**Cons:**\n",
      "\n",
      "1. **Steeper learning curve**: While Go's syntax is simple, its concurrency features and error handling can be challenging for beginners to grasp.\n",
      "2. **Smaller community**: Go's community is smaller compared to Python's, which may limit the availability of resources and libraries.\n",
      "3. **Limited support for certain applications**: Go's focus on concurrency and performance may make it less suitable for certain applications, such as web development or data analysis.\n",
      "\n",
      "**Recommendation**\n",
      "\n",
      "Based on the pros and cons, I would recommend Python as a first programming language for high\n",
      "\u001b[92m23:36:46 - LiteLLM:INFO\u001b[0m: utils.py:2944 - \n",
      "LiteLLM completion() model= us.meta.llama3-2-90b-instruct-v1:0; provider = bedrock\n",
      "[2025-02-13 23:36:46,623] p1310 {utils.py:2944} INFO - \n",
      "LiteLLM completion() model= us.meta.llama3-2-90b-instruct-v1:0; provider = bedrock\n"
     ]
    },
    {
     "name": "stdout",
     "output_type": "stream",
     "text": [
      "got response in 4.01s\n",
      "model_name=bedrock/us.meta.llama3-2-90b-instruct-v1:0\n"
     ]
    },
    {
     "name": "stderr",
     "output_type": "stream",
     "text": [
      "[2025-02-13 23:37:00,748] p1310 {_client.py:1038} INFO - HTTP Request: POST https://bedrock-runtime.us-east-1.amazonaws.com/model/us.meta.llama3-2-90b-instruct-v1:0/converse \"HTTP/1.1 200 OK\"\n",
      "\u001b[92m23:37:00 - LiteLLM:INFO\u001b[0m: utils.py:1120 - Wrapper: Completed Call, calling success_handler\n",
      "[2025-02-13 23:37:00,751] p1310 {utils.py:1120} INFO - Wrapper: Completed Call, calling success_handler\n",
      "[2025-02-13 23:37:00,754] p1310 {2326171432.py:9} INFO - model_id=bedrock/us.meta.llama3-2-90b-instruct-v1:0\n",
      "response=**Python vs Golang as a First Programming Language for High School Students**\n",
      "===========================================================\n",
      "\n",
      "When it comes to choosing a first programming language for high school students, Python and Golang (also known as Go) are two popular options. Here are some pros and cons of each language to help you decide:\n",
      "\n",
      "**Python**\n",
      "-----------\n",
      "\n",
      "### Pros:\n",
      "\n",
      "1. **Easy to learn**: Python has a simple syntax and is often taught in introductory programming courses due to its readability and ease of use.\n",
      "2. **Versatile**: Python can be used for web development, data analysis, machine learning, and more.\n",
      "3. **Large community**: Python has a massive community of developers, which means there are plenty of resources available for learning and troubleshooting.\n",
      "4. **Cross-platform**: Python can run on multiple operating systems, including Windows, macOS, and Linux.\n",
      "5. **Extensive libraries**: Python has a vast collection of libraries and frameworks that make it easy to perform various tasks.\n",
      "\n",
      "### Cons:\n",
      "\n",
      "1. **Slow performance**: Python is an interpreted language, which means it can be slower than compiled languages like Golang.\n",
      "2. **Limited multithreading**: Python's Global Interpreter Lock (GIL) can make it difficult to take full advantage of multi-core processors.\n",
      "\n",
      "**Golang**\n",
      "----------\n",
      "\n",
      "### Pros:\n",
      "\n",
      "1. **Fast performance**: Golang is a compiled language, which means it can be faster than Python.\n",
      "2. **Concurrent programming**: Golang has built-in support for concurrency, making it well-suited for applications that require simultaneous execution of multiple tasks.\n",
      "3. **Simple and clean syntax**: Golang's syntax is designed to be easy to read and write.\n",
      "4. **Growing community**: Golang's community is growing rapidly, with many resources available for learning and troubleshooting.\n",
      "\n",
      "### Cons:\n",
      "\n",
      "1. **Steeper learning curve**: Golang's syntax and concepts may be unfamiliar to beginners, making it more challenging to learn.\n",
      "2. **Fewer libraries**: Golang's library ecosystem is still developing, which means there may be fewer resources available for certain tasks.\n",
      "3. **Error handling**: Golang's error handling system can be verbose and may require more code than other languages.\n",
      "\n",
      "**Recommendation**\n",
      "-----------------\n",
      "\n",
      "Based on the pros and cons, I would recommend **Python** as a first programming language for high school students. Here's why:\n",
      "\n",
      "1. **Ease of learning**: Python is generally easier to learn, especially for beginners.\n",
      "2. **Versatility**: Python can be\n",
      "\u001b[92m23:37:00 - LiteLLM:INFO\u001b[0m: utils.py:2944 - \n",
      "LiteLLM completion() model= us.anthropic.claude-3-5-sonnet-20241022-v2:0; provider = bedrock\n",
      "[2025-02-13 23:37:00,757] p1310 {utils.py:2944} INFO - \n",
      "LiteLLM completion() model= us.anthropic.claude-3-5-sonnet-20241022-v2:0; provider = bedrock\n"
     ]
    },
    {
     "name": "stdout",
     "output_type": "stream",
     "text": [
      "got response in 14.13s\n",
      "model_name=bedrock/us.anthropic.claude-3-5-sonnet-20241022-v2:0\n"
     ]
    },
    {
     "name": "stderr",
     "output_type": "stream",
     "text": [
      "[2025-02-13 23:37:15,773] p1310 {_client.py:1038} INFO - HTTP Request: POST https://bedrock-runtime.us-east-1.amazonaws.com/model/us.anthropic.claude-3-5-sonnet-20241022-v2:0/converse \"HTTP/1.1 200 OK\"\n",
      "\u001b[92m23:37:15 - LiteLLM:INFO\u001b[0m: utils.py:1120 - Wrapper: Completed Call, calling success_handler\n",
      "[2025-02-13 23:37:15,775] p1310 {utils.py:1120} INFO - Wrapper: Completed Call, calling success_handler\n",
      "[2025-02-13 23:37:15,777] p1310 {2326171432.py:9} INFO - model_id=bedrock/us.anthropic.claude-3-5-sonnet-20241022-v2:0\n",
      "response=Here's a comparison of Python and Golang as first programming languages for high school students:\n",
      "\n",
      "Python Pros:\n",
      "1. Easy to learn\n",
      "- Simple, readable syntax\n",
      "- Less boilerplate code\n",
      "- Whitespace-based indentation enforces clean code\n",
      "- English-like syntax is intuitive\n",
      "\n",
      "2. Large community & resources\n",
      "- Abundant learning materials\n",
      "- Extensive libraries\n",
      "- Many tutorials and examples\n",
      "- Active Stack Overflow community\n",
      "\n",
      "3. Versatility\n",
      "- Suitable for web, data science, AI/ML\n",
      "- Can build desktop applications\n",
      "- Good for automation and scripting\n",
      "- Popular in academics\n",
      "\n",
      "4. Immediate feedback\n",
      "- Interactive shell (REPL)\n",
      "- Quick to write and test code\n",
      "- Interpreted language (no compilation)\n",
      "\n",
      "Python Cons:\n",
      "1. Performance\n",
      "- Relatively slower execution\n",
      "- Not ideal for system-level programming\n",
      "- Memory intensive\n",
      "\n",
      "2. Dynamic typing\n",
      "- Can lead to runtime errors\n",
      "- May develop bad habits\n",
      "- Type-related bugs\n",
      "\n",
      "3. GIL limitations\n",
      "- Limited true multithreading\n",
      "- Concurrent programming complexities\n",
      "\n",
      "Golang Pros:\n",
      "1. Strong fundamentals\n",
      "- Static typing teaches type awareness\n",
      "- Explicit error handling\n",
      "- Clean concurrency model\n",
      "- Memory management concepts\n",
      "\n",
      "2. Performance\n",
      "- Fast execution\n",
      "- Efficient memory usage\n",
      "- Quick compilation\n",
      "\n",
      "3. Modern features\n",
      "- Built-in testing\n",
      "- Good package management\n",
      "- Strong standard library\n",
      "- Cross-platform support\n",
      "\n",
      "4. Industry relevance\n",
      "- Growing demand\n",
      "- Used in cloud/DevOps\n",
      "- Popular in tech companies\n",
      "\n",
      "Golang Cons:\n",
      "1. Steeper learning curve\n",
      "- More complex syntax\n",
      "- Requires understanding of types\n",
      "- Error handling verbose\n",
      "- Compilation step required\n",
      "\n",
      "2. Less forgiving\n",
      "- Strict compilation rules\n",
      "- Explicit variable declaration\n",
      "- Rigid formatting requirements\n",
      "\n",
      "3. Smaller ecosystem\n",
      "- Fewer learning resources\n",
      "- Less third-party libraries\n",
      "- Smaller community\n",
      "\n",
      "4. Less immediate gratification\n",
      "- More setup required\n",
      "- Takes longer to build first programs\n",
      "- More code needed for simple tasks\n",
      "\n",
      "Recommendation:\n",
      "Python is generally better as a first programming language for high school students because:\n",
      "1. Lower barrier to entry\n",
      "2. Faster progress in early stages\n",
      "3. More resources for\n",
      "\u001b[92m23:37:15 - LiteLLM:INFO\u001b[0m: utils.py:2944 - \n",
      "LiteLLM completion() model= us.anthropic.claude-3-5-haiku-20241022-v1:0; provider = bedrock\n",
      "[2025-02-13 23:37:15,780] p1310 {utils.py:2944} INFO - \n",
      "LiteLLM completion() model= us.anthropic.claude-3-5-haiku-20241022-v1:0; provider = bedrock\n"
     ]
    },
    {
     "name": "stdout",
     "output_type": "stream",
     "text": [
      "got response in 15.02s\n",
      "model_name=bedrock/us.anthropic.claude-3-5-haiku-20241022-v1:0\n"
     ]
    },
    {
     "name": "stderr",
     "output_type": "stream",
     "text": [
      "[2025-02-13 23:37:24,027] p1310 {_client.py:1038} INFO - HTTP Request: POST https://bedrock-runtime.us-east-1.amazonaws.com/model/us.anthropic.claude-3-5-haiku-20241022-v1:0/converse \"HTTP/1.1 200 OK\"\n",
      "\u001b[92m23:37:24 - LiteLLM:INFO\u001b[0m: utils.py:1120 - Wrapper: Completed Call, calling success_handler\n",
      "[2025-02-13 23:37:24,029] p1310 {utils.py:1120} INFO - Wrapper: Completed Call, calling success_handler\n",
      "[2025-02-13 23:37:24,032] p1310 {2326171432.py:9} INFO - model_id=bedrock/us.anthropic.claude-3-5-haiku-20241022-v1:0\n",
      "response=Here's a comparison of Python and Golang for high school students:\n",
      "\n",
      "Python Pros:\n",
      "1. Easier learning curve\n",
      "2. More beginner-friendly syntax\n",
      "3. Extensive libraries and resources\n",
      "4. Wide application domains (web, data science, AI, scripting)\n",
      "5. Large community support\n",
      "6. Faster development speed\n",
      "7. More forgiving for beginners\n",
      "8. Interpreted language\n",
      "9. Excellent documentation\n",
      "10. Used in many academic and industry settings\n",
      "\n",
      "Python Cons:\n",
      "1. Slower performance\n",
      "2. Global Interpreter Lock (GIL) limitations\n",
      "3. Dynamic typing can lead to runtime errors\n",
      "4. Less suitable for systems programming\n",
      "5. Higher memory consumption\n",
      "\n",
      "Golang Pros:\n",
      "1. Excellent performance\n",
      "2. Strong typing\n",
      "3. Built-in concurrency support\n",
      "4. Compiled language\n",
      "5. Efficient memory management\n",
      "6. Simple and clean syntax\n",
      "7. Strong standard library\n",
      "8. Good for systems and network programming\n",
      "9. Supported by Google\n",
      "10. Scalable for large projects\n",
      "\n",
      "Golang Cons:\n",
      "1. Steeper learning curve\n",
      "2. Less beginner-friendly\n",
      "3. Fewer learning resources\n",
      "4. Limited library ecosystem\n",
      "5. More verbose syntax\n",
      "6. Less flexibility compared to Python\n",
      "7. Less popular in data science/AI\n",
      "\n",
      "Recommendation:\n",
      "- For absolute beginners: Python\n",
      "- For students interested in systems/performance: Golang\n",
      "- Balanced approach: Start with Python, transition to Golang later\n",
      "\u001b[92m23:37:24 - LiteLLM:INFO\u001b[0m: utils.py:2944 - \n",
      "LiteLLM completion() model= amazon.nova-lite-v1:0; provider = bedrock\n",
      "[2025-02-13 23:37:24,037] p1310 {utils.py:2944} INFO - \n",
      "LiteLLM completion() model= amazon.nova-lite-v1:0; provider = bedrock\n"
     ]
    },
    {
     "name": "stdout",
     "output_type": "stream",
     "text": [
      "got response in 8.25s\n",
      "model_name=bedrock/amazon.nova-lite-v1:0\n"
     ]
    },
    {
     "name": "stderr",
     "output_type": "stream",
     "text": [
      "[2025-02-13 23:37:28,513] p1310 {_client.py:1038} INFO - HTTP Request: POST https://bedrock-runtime.us-east-1.amazonaws.com/model/amazon.nova-lite-v1:0/converse \"HTTP/1.1 200 OK\"\n",
      "\u001b[92m23:37:28 - LiteLLM:INFO\u001b[0m: utils.py:1120 - Wrapper: Completed Call, calling success_handler\n",
      "[2025-02-13 23:37:28,515] p1310 {utils.py:1120} INFO - Wrapper: Completed Call, calling success_handler\n",
      "[2025-02-13 23:37:28,517] p1310 {2326171432.py:9} INFO - model_id=bedrock/amazon.nova-lite-v1:0\n",
      "response=Choosing a first programming language for high school students is a significant decision that can influence their future interests and abilities in the field of computer science. Here are the pros and cons of using Python and Golang as introductory programming languages:\n",
      "\n",
      "### Python\n",
      "\n",
      "#### Pros:\n",
      "1. **Ease of Learning**:\n",
      "   - Python's syntax is very readable and similar to plain English, making it easier for beginners to understand.\n",
      "   - It has a simple and concise structure, which helps students focus on understanding fundamental programming concepts without being overwhelmed by syntax.\n",
      "\n",
      "2. **Versatility**:\n",
      "   - Python is used in a wide range of applications, including web development, data science, artificial intelligence, automation, and more.\n",
      "   - There are plenty of libraries and frameworks available that can help students explore different areas of programming.\n",
      "\n",
      "3. **Strong Community Support**:\n",
      "   - Python has a large and active community, which means there are many resources, tutorials, and forums available for students to learn from.\n",
      "   - Many educational platforms and institutions use Python as a teaching tool, which makes it easier for students to find learning materials.\n",
      "\n",
      "4. **Rapid Prototyping**:\n",
      "   - Python allows for rapid development and prototyping, which can be very motivating for students to see their ideas come to life quickly.\n",
      "\n",
      "#### Cons:\n",
      "1. **Performance**:\n",
      "   - Python is an interpreted language, which makes it slower compared to compiled languages like Go.\n",
      "   - This can be a limitation for performance-critical applications.\n",
      "\n",
      "2. **Verbosity**:\n",
      "   - While Python is considered easy to read, it can also be somewhat verbose, which might lead to longer code for certain tasks.\n",
      "\n",
      "3. **Memory Consumption**:\n",
      "   - Python can be less efficient in terms of memory usage compared to some other languages, which might be a concern for students learning about resource management.\n",
      "\n",
      "### Golang (Go)\n",
      "\n",
      "#### Pros:\n",
      "1. **Performance**:\n",
      "   - Go is a compiled language, offering better performance and efficiency than Python.\n",
      "   - It’s well-suited for systems programming, such as network servers and other high-performance applications.\n",
      "\n",
      "2. **Concurrency**:\n",
      "   - Go has built-in support for concurrent programming through goroutines and channels, which can be an excellent educational tool for understanding how to write efficient, multi-threaded programs.\n",
      "   \n",
      "3. **Simplicity and Clean Syntax**:\n",
      "   - Go has a clean and minimalist syntax that is easy to learn and understand\n",
      "\u001b[92m23:37:28 - LiteLLM:INFO\u001b[0m: utils.py:2944 - \n",
      "LiteLLM completion() model= amazon.nova-micro-v1:0; provider = bedrock\n",
      "[2025-02-13 23:37:28,520] p1310 {utils.py:2944} INFO - \n",
      "LiteLLM completion() model= amazon.nova-micro-v1:0; provider = bedrock\n"
     ]
    },
    {
     "name": "stdout",
     "output_type": "stream",
     "text": [
      "got response in 4.48s\n",
      "model_name=bedrock/amazon.nova-micro-v1:0\n"
     ]
    },
    {
     "name": "stderr",
     "output_type": "stream",
     "text": [
      "[2025-02-13 23:37:31,622] p1310 {_client.py:1038} INFO - HTTP Request: POST https://bedrock-runtime.us-east-1.amazonaws.com/model/amazon.nova-micro-v1:0/converse \"HTTP/1.1 200 OK\"\n",
      "\u001b[92m23:37:31 - LiteLLM:INFO\u001b[0m: utils.py:1120 - Wrapper: Completed Call, calling success_handler\n",
      "[2025-02-13 23:37:31,624] p1310 {utils.py:1120} INFO - Wrapper: Completed Call, calling success_handler\n",
      "[2025-02-13 23:37:31,626] p1310 {2326171432.py:9} INFO - model_id=bedrock/amazon.nova-micro-v1:0\n",
      "response=Choosing a first programming language for high school students is a significant decision that can shape their enthusiasm for coding and set the foundation for future learning. Here are the pros and cons of Python versus Golang as a first choice:\n",
      "\n",
      "### Python\n",
      "\n",
      "**Pros:**\n",
      "\n",
      "1. **Ease of Learning**: Python is known for its simple and readable syntax, which makes it an excellent choice for beginners. The straightforward code can help students grasp basic programming concepts without getting bogged down by complex syntax.\n",
      "   \n",
      "2. **Community and Resources**: Python has a vast community and a wealth of educational resources, tutorials, and books aimed at beginners. This makes it easier for students to find help when they encounter difficulties.\n",
      "\n",
      "3. **Versatility**: Python is used in a wide range of applications including web development, data science, artificial intelligence, automation, and more. This versatility can motivate students by showing them the many paths they can explore with Python.\n",
      "\n",
      "4. **Interactive Environment**: Python’s interactive shell allows students to write and execute code immediately, which can provide instant feedback and make learning more engaging.\n",
      "\n",
      "5. **Libraries and Frameworks**: Python has many beginner-friendly libraries and frameworks such as `Pandas` for data analysis and `Django` or `Flask` for web development that can be very appealing to students.\n",
      "\n",
      "**Cons:**\n",
      "\n",
      "1. **Performance**: Python is an interpreted language and generally slower than compiled languages like Go. This might not be a concern for beginners but could be a drawback as they delve deeper into performance-critical applications.\n",
      "\n",
      "2. **Memory Management**: Python handles memory management automatically, which might not teach students the fundamentals of how memory is managed in more low-level languages.\n",
      "\n",
      "### Golang (Go)\n",
      "\n",
      "**Pros:**\n",
      "\n",
      "1. **Simplicity and Clarity**: Go has a simpler syntax compared to many other languages, which can make it approachable for beginners. The language focuses on simplicity and reducing complexity.\n",
      "\n",
      "2. **Concurrency Support**: Go has built-in support for concurrent programming, which can be a fascinating topic for students to learn early on. Go’s goroutines make it relatively easy to write concurrent code.\n",
      "\n",
      "3. **Performance**: Go is a compiled language, which generally results in faster and more efficient programs. This could be an excellent motivation for students interested in performance optimization.\n",
      "\n",
      "4. **Strong Typing**: Go has a strong and static type system, which can help students understand type safety and the importance of correct data types\n",
      "\u001b[92m23:37:31 - LiteLLM:INFO\u001b[0m: utils.py:2944 - \n",
      "LiteLLM completion() model= amazon.nova-pro-v1:0; provider = bedrock\n",
      "[2025-02-13 23:37:31,630] p1310 {utils.py:2944} INFO - \n",
      "LiteLLM completion() model= amazon.nova-pro-v1:0; provider = bedrock\n"
     ]
    },
    {
     "name": "stdout",
     "output_type": "stream",
     "text": [
      "got response in 3.11s\n",
      "model_name=bedrock/amazon.nova-pro-v1:0\n"
     ]
    },
    {
     "name": "stderr",
     "output_type": "stream",
     "text": [
      "[2025-02-13 23:37:38,130] p1310 {_client.py:1038} INFO - HTTP Request: POST https://bedrock-runtime.us-east-1.amazonaws.com/model/amazon.nova-pro-v1:0/converse \"HTTP/1.1 200 OK\"\n",
      "\u001b[92m23:37:38 - LiteLLM:INFO\u001b[0m: utils.py:1120 - Wrapper: Completed Call, calling success_handler\n",
      "[2025-02-13 23:37:38,132] p1310 {utils.py:1120} INFO - Wrapper: Completed Call, calling success_handler\n",
      "[2025-02-13 23:37:38,134] p1310 {2326171432.py:9} INFO - model_id=bedrock/amazon.nova-pro-v1:0\n",
      "response=Choosing a first programming language for high school students involves considering factors such as ease of learning, community support, versatility, and the type of projects they might want to undertake. Here’s a comparison of Python and Golang in this context:\n",
      "\n",
      "### Python\n",
      "\n",
      "#### Pros:\n",
      "1. **Ease of Learning**:\n",
      "   - Python has a simple and readable syntax, making it easy for beginners to understand and write code.\n",
      "   - The language emphasizes readability and reduces the cost of program maintenance.\n",
      "\n",
      "2. **Versatility**:\n",
      "   - Python can be used for web development, data analysis, machine learning, automation, and more.\n",
      "   - It has a wide range of libraries and frameworks (e.g., Django, Flask, Pandas, TensorFlow) that can help students explore different areas of programming.\n",
      "\n",
      "3. **Strong Community Support**:\n",
      "   - A large and active community provides ample resources, tutorials, and forums for help.\n",
      "   - Many educational institutions and online courses use Python, making it easier for students to find learning materials.\n",
      "\n",
      "4. **Interactive Environment**:\n",
      "   - Python’s interactive shell and Jupyter Notebooks allow for immediate feedback and experimentation, which is great for learning.\n",
      "\n",
      "5. **Cross-Platform**:\n",
      "   - Python programs can run on various operating systems without modification.\n",
      "\n",
      "#### Cons:\n",
      "1. **Performance**:\n",
      "   - Python is an interpreted language and can be slower than compiled languages like Golang.\n",
      "   - It may not be the best choice for performance-critical applications.\n",
      "\n",
      "2. **Dynamic Typing**:\n",
      "   - While dynamic typing can make writing code faster, it can also lead to runtime errors that are harder to debug.\n",
      "\n",
      "### Golang (Go)\n",
      "\n",
      "#### Pros:\n",
      "1. **Performance**:\n",
      "   - Go is a statically typed and compiled language, which generally results in faster execution times compared to Python.\n",
      "   - It has efficient memory usage and concurrency features built-in, making it suitable for high-performance applications.\n",
      "\n",
      "2. **Concurrency**:\n",
      "   - Go’s goroutines and channels make it easy to write concurrent programs, which can be a valuable skill for students interested in systems programming or web servers.\n",
      "\n",
      "3. **Simple Syntax**:\n",
      "   - Go’s syntax is clean and straightforward, though it’s slightly more complex than Python’s.\n",
      "   - The language design encourages good practices and reduces the likelihood of certain types of errors.\n",
      "\n",
      "4. **Modern Language Features**:\n",
      "   - Go includes\n"
     ]
    },
    {
     "name": "stdout",
     "output_type": "stream",
     "text": [
      "got response in 6.51s\n"
     ]
    }
   ],
   "source": [
    "response_list = []\n",
    "for model_id in model_id_list:\n",
    "    response, latency = get_inference(model_id, prompt, max_tokens, temperature, n, top_p, stream)\n",
    "    response_dict = dict(model_id=model_id,\n",
    "                         response=response.choices[0].message.content,\n",
    "                         latency=latency,\n",
    "                         prompt_tokens=response.usage.prompt_tokens,\n",
    "                         completion_tokens=response.usage.completion_tokens)\n",
    "    logger.info(f\"model_id={model_id}\\nresponse={response.choices[0].message.content}\")\n",
    "    response_list.append(response_dict)\n",
    "    \n"
   ]
  },
  {
   "cell_type": "code",
   "execution_count": 17,
   "id": "5cb3c9eb-4b51-496d-ab9f-82fc25530cc9",
   "metadata": {
    "tags": []
   },
   "outputs": [
    {
     "name": "stderr",
     "output_type": "stream",
     "text": [
      "[2025-02-13 23:37:38,270] p1310 {utils.py:162} INFO - NumExpr defaulting to 4 threads.\n"
     ]
    }
   ],
   "source": [
    "import pandas as pd\n",
    "df = pd.DataFrame(response_list)\n",
    "df = df.sort_values(by='latency')"
   ]
  },
  {
   "cell_type": "code",
   "execution_count": 18,
   "id": "291972e9-1997-4975-afd3-619234b2bfad",
   "metadata": {
    "tags": []
   },
   "outputs": [
    {
     "data": {
      "text/html": [
       "<div>\n",
       "<style scoped>\n",
       "    .dataframe tbody tr th:only-of-type {\n",
       "        vertical-align: middle;\n",
       "    }\n",
       "\n",
       "    .dataframe tbody tr th {\n",
       "        vertical-align: top;\n",
       "    }\n",
       "\n",
       "    .dataframe thead th {\n",
       "        text-align: right;\n",
       "    }\n",
       "</style>\n",
       "<table border=\"1\" class=\"dataframe\">\n",
       "  <thead>\n",
       "    <tr style=\"text-align: right;\">\n",
       "      <th></th>\n",
       "      <th>model_id</th>\n",
       "      <th>response</th>\n",
       "      <th>latency</th>\n",
       "      <th>prompt_tokens</th>\n",
       "      <th>completion_tokens</th>\n",
       "    </tr>\n",
       "  </thead>\n",
       "  <tbody>\n",
       "    <tr>\n",
       "      <th>8</th>\n",
       "      <td>bedrock/amazon.nova-micro-v1:0</td>\n",
       "      <td>Choosing a first programming language for high...</td>\n",
       "      <td>3.106886</td>\n",
       "      <td>18</td>\n",
       "      <td>500</td>\n",
       "    </tr>\n",
       "    <tr>\n",
       "      <th>3</th>\n",
       "      <td>bedrock/us.meta.llama3-2-11b-instruct-v1:0</td>\n",
       "      <td>**Introduction**\\n\\nWhen it comes to teaching ...</td>\n",
       "      <td>4.006783</td>\n",
       "      <td>52</td>\n",
       "      <td>500</td>\n",
       "    </tr>\n",
       "    <tr>\n",
       "      <th>7</th>\n",
       "      <td>bedrock/amazon.nova-lite-v1:0</td>\n",
       "      <td>Choosing a first programming language for high...</td>\n",
       "      <td>4.483899</td>\n",
       "      <td>18</td>\n",
       "      <td>500</td>\n",
       "    </tr>\n",
       "    <tr>\n",
       "      <th>1</th>\n",
       "      <td>bedrock/us.meta.llama3-2-1b-instruct-v1:0</td>\n",
       "      <td>**Introduction**\\n\\nAs a high school student, ...</td>\n",
       "      <td>5.400780</td>\n",
       "      <td>52</td>\n",
       "      <td>500</td>\n",
       "    </tr>\n",
       "    <tr>\n",
       "      <th>9</th>\n",
       "      <td>bedrock/amazon.nova-pro-v1:0</td>\n",
       "      <td>Choosing a first programming language for high...</td>\n",
       "      <td>6.505722</td>\n",
       "      <td>18</td>\n",
       "      <td>500</td>\n",
       "    </tr>\n",
       "    <tr>\n",
       "      <th>2</th>\n",
       "      <td>bedrock/us.meta.llama3-2-3b-instruct-v1:0</td>\n",
       "      <td>**Introduction**\\n\\nChoosing a programming lan...</td>\n",
       "      <td>7.305999</td>\n",
       "      <td>52</td>\n",
       "      <td>500</td>\n",
       "    </tr>\n",
       "    <tr>\n",
       "      <th>6</th>\n",
       "      <td>bedrock/us.anthropic.claude-3-5-haiku-20241022...</td>\n",
       "      <td>Here's a comparison of Python and Golang for h...</td>\n",
       "      <td>8.251509</td>\n",
       "      <td>26</td>\n",
       "      <td>331</td>\n",
       "    </tr>\n",
       "    <tr>\n",
       "      <th>4</th>\n",
       "      <td>bedrock/us.meta.llama3-2-90b-instruct-v1:0</td>\n",
       "      <td>**Python vs Golang as a First Programming Lang...</td>\n",
       "      <td>14.131035</td>\n",
       "      <td>52</td>\n",
       "      <td>500</td>\n",
       "    </tr>\n",
       "    <tr>\n",
       "      <th>5</th>\n",
       "      <td>bedrock/us.anthropic.claude-3-5-sonnet-2024102...</td>\n",
       "      <td>Here's a comparison of Python and Golang as fi...</td>\n",
       "      <td>15.021307</td>\n",
       "      <td>26</td>\n",
       "      <td>500</td>\n",
       "    </tr>\n",
       "    <tr>\n",
       "      <th>0</th>\n",
       "      <td>bedrock/us.meta.llama3-1-70b-instruct-v1:0</td>\n",
       "      <td>\\n\\nChoosing the first programming language fo...</td>\n",
       "      <td>16.427210</td>\n",
       "      <td>31</td>\n",
       "      <td>500</td>\n",
       "    </tr>\n",
       "  </tbody>\n",
       "</table>\n",
       "</div>"
      ],
      "text/plain": [
       "                                            model_id  \\\n",
       "8                     bedrock/amazon.nova-micro-v1:0   \n",
       "3         bedrock/us.meta.llama3-2-11b-instruct-v1:0   \n",
       "7                      bedrock/amazon.nova-lite-v1:0   \n",
       "1          bedrock/us.meta.llama3-2-1b-instruct-v1:0   \n",
       "9                       bedrock/amazon.nova-pro-v1:0   \n",
       "2          bedrock/us.meta.llama3-2-3b-instruct-v1:0   \n",
       "6  bedrock/us.anthropic.claude-3-5-haiku-20241022...   \n",
       "4         bedrock/us.meta.llama3-2-90b-instruct-v1:0   \n",
       "5  bedrock/us.anthropic.claude-3-5-sonnet-2024102...   \n",
       "0         bedrock/us.meta.llama3-1-70b-instruct-v1:0   \n",
       "\n",
       "                                            response    latency  \\\n",
       "8  Choosing a first programming language for high...   3.106886   \n",
       "3  **Introduction**\\n\\nWhen it comes to teaching ...   4.006783   \n",
       "7  Choosing a first programming language for high...   4.483899   \n",
       "1  **Introduction**\\n\\nAs a high school student, ...   5.400780   \n",
       "9  Choosing a first programming language for high...   6.505722   \n",
       "2  **Introduction**\\n\\nChoosing a programming lan...   7.305999   \n",
       "6  Here's a comparison of Python and Golang for h...   8.251509   \n",
       "4  **Python vs Golang as a First Programming Lang...  14.131035   \n",
       "5  Here's a comparison of Python and Golang as fi...  15.021307   \n",
       "0  \\n\\nChoosing the first programming language fo...  16.427210   \n",
       "\n",
       "   prompt_tokens  completion_tokens  \n",
       "8             18                500  \n",
       "3             52                500  \n",
       "7             18                500  \n",
       "1             52                500  \n",
       "9             18                500  \n",
       "2             52                500  \n",
       "6             26                331  \n",
       "4             52                500  \n",
       "5             26                500  \n",
       "0             31                500  "
      ]
     },
     "metadata": {},
     "output_type": "display_data"
    }
   ],
   "source": [
    "display(df)"
   ]
  },
  {
   "cell_type": "code",
   "execution_count": 19,
   "id": "de160b12-fbea-4709-9040-7c33af886e3d",
   "metadata": {},
   "outputs": [],
   "source": [
    "df.to_csv(\"problem1_task1.csv\")"
   ]
  },
  {
   "cell_type": "markdown",
   "id": "f3d16651-217f-4922-8c66-b0fae3a1405d",
   "metadata": {},
   "source": [
    "## Task 2 - Vibe check the model outputs\n",
    "Examine the output generated by all models and write a very short summary (5 to 10 lines) about how you compare the outputs across model families i.e. how does the output generated by the Llama family of models compare with the Claude family of models comparte with the Nova family of models. You don't have to over think this, think of this like a [vibe check](https://www.linkedin.com/pulse/vibecheck-discover-quantify-qualitative-differences-large-bogolin-c4awe/). Write your thoughts in a file called `problem1_task2.txt`. **Commit and push this file to repo**.\n"
   ]
  },
  {
   "cell_type": "markdown",
   "id": "ad1cd4da-9465-4dda-b8c7-ca33090d0025",
   "metadata": {
    "tags": []
   },
   "source": [
    "## Task 3 - Create a chart comparing latency across models\n",
    "\n",
    "As you would have seen that different models we tried abovew have very different latencies. The latency and the quality of the output (along with the dollar cost of course) is critical in deciding which model to use for which task.\n",
    "\n",
    "1. Create a bar chart for visualizing model latencies.\n",
    "1. Color code the bar chart by model families i.e. the bars for the Claude models are in one color, LLama models in another color and so on and so forth.\n",
    "1. Save the plot in a file called `problem1_task3.png`. **Commit and push this file to repo**.\n",
    "1. Write a couple of lines of description in the notebook itself as to what is your interpretation from this chart that you created."
   ]
  },
  {
   "cell_type": "code",
   "execution_count": 20,
   "id": "f1826538-bdc0-4b19-b6b0-7e9b959d2ced",
   "metadata": {
    "tags": []
   },
   "outputs": [
    {
     "name": "stderr",
     "output_type": "stream",
     "text": [
      "[2025-02-13 23:37:44,930] p1310 {font_manager.py:1639} INFO - generated new fontManager\n"
     ]
    },
    {
     "data": {
      "image/png": "[encoded data removed]",
      "text/plain": [
       "<Figure size 1200x600 with 1 Axes>"
      ]
     },
     "metadata": {},
     "output_type": "display_data"
    }
   ],
   "source": [
    "import matplotlib.pyplot as plt\n",
    "import numpy as np\n",
    "\n",
    "# Create figure and axis objects\n",
    "fig, ax = plt.subplots(figsize=(12, 6))\n",
    "\n",
    "# Define color mapping for model families\n",
    "color_map = {\n",
    "   'llama': 'lightblue',\n",
    "   'claude': 'lightgreen',\n",
    "   'nova': 'salmon'\n",
    "}\n",
    "\n",
    "# Function to determine model family from model_id\n",
    "def get_model_family(model_id):\n",
    "   model_id = model_id.lower()\n",
    "   if 'llama' in model_id:\n",
    "       return 'llama'\n",
    "   elif 'claude' in model_id:\n",
    "       return 'claude'\n",
    "   elif 'nova' in model_id:\n",
    "       return 'nova'\n",
    "   return 'other'\n",
    "\n",
    "# Create bars with colors based on model family\n",
    "bars = []\n",
    "for i, (model_id, latency) in enumerate(zip(df['model_id'], df['latency'])):\n",
    "   family = get_model_family(model_id)\n",
    "   bar = ax.bar(model_id, latency, color=color_map.get(family, 'gray'))\n",
    "   bars.extend(bar)\n",
    "\n",
    "# Customize the chart\n",
    "ax.set_title('Model Latency Comparison by Family', fontsize=14, pad=20)\n",
    "ax.set_xlabel('Model ID', fontsize=12)\n",
    "ax.set_ylabel('Latency (seconds)', fontsize=12)\n",
    "\n",
    "# Add grid\n",
    "ax.yaxis.grid(True, linestyle='--', alpha=0.7)\n",
    "ax.set_axisbelow(True)\n",
    "\n",
    "# Rotate x-axis labels\n",
    "plt.xticks(rotation=45, ha='right')\n",
    "\n",
    "# Add value labels on top of each bar\n",
    "for bar in bars:\n",
    "   height = bar.get_height()\n",
    "   ax.text(bar.get_x() + bar.get_width()/2., height,\n",
    "           f'{height:.2f}s',\n",
    "           ha='center', va='bottom')\n",
    "\n",
    "# Add legend\n",
    "legend_elements = [plt.Rectangle((0,0),1,1, color=color) \n",
    "                 for color in color_map.values()]\n",
    "ax.legend(legend_elements, color_map.keys(), title=\"Model Families\")\n",
    "\n",
    "# Adjust layout\n",
    "plt.tight_layout()\n",
    "plt.savefig(\"problem1_task3.png\")\n",
    "plt.show()"
   ]
  },
  {
   "cell_type": "markdown",
   "id": "c10798aa-c4f4-4630-b220-4b3eed81a0a3",
   "metadata": {},
   "source": [
    "#### Observations from the latency visualization\n",
    "(write your thoughts here)"
   ]
  },
  {
   "cell_type": "markdown",
   "id": "3783611a-fa12-4bcb-9be0-655921b7263b",
   "metadata": {},
   "source": [
    "## GraphRAG"
   ]
  },
  {
   "cell_type": "code",
   "execution_count": 21,
   "id": "24929774-47a0-4596-a94d-1c750601324d",
   "metadata": {},
   "outputs": [],
   "source": [
    "import nest_asyncio\n",
    "import asyncio\n",
    "from nano_graphrag import GraphRAG, QueryParam"
   ]
  },
  {
   "cell_type": "code",
   "execution_count": 28,
   "id": "44701e3f-e38e-4e2f-a8d8-749e0018ba39",
   "metadata": {},
   "outputs": [
    {
     "name": "stdout",
     "output_type": "stream",
     "text": [
      "  % Total    % Received % Xferd  Average Speed   Time    Time     Time  Current\n",
      "                                 Dload  Upload   Total   Spent    Left  Speed\n",
      "100  184k  100  184k    0     0  1712k      0 --:--:-- --:--:-- --:--:-- 1727k\n"
     ]
    }
   ],
   "source": [
    "!curl https://raw.githubusercontent.com/gusye1234/nano-graphrag/main/tests/mock_data.txt > book.txt"
   ]
  },
  {
   "cell_type": "code",
   "execution_count": 22,
   "id": "b9289af2-1f25-415a-b14e-4d66e4f2fc5b",
   "metadata": {},
   "outputs": [],
   "source": [
    "# Apply nest_asyncio to allow nested event loops in SageMaker\n",
    "nest_asyncio.apply()"
   ]
  },
  {
   "cell_type": "code",
   "execution_count": 23,
   "id": "39643604-ba5a-4b6f-bf9f-5ec31cfa1445",
   "metadata": {},
   "outputs": [],
   "source": [
    "# Select a model from the provided list\n",
    "best_model_id = \"bedrock/us.anthropic.claude-3-5-sonnet-20241022-v2:0\"\n",
    "cheap_model_id = \"bedrock/us.anthropic.claude-3-5-haiku-20241022-v1:0\""
   ]
  },
  {
   "cell_type": "code",
   "execution_count": 24,
   "id": "db3abe45-8b5c-4428-8874-7b6d1297e049",
   "metadata": {},
   "outputs": [
    {
     "name": "stderr",
     "output_type": "stream",
     "text": [
      "[2025-02-13 23:38:33,460] p1310 {graphrag.py:157} INFO - Switched the default openai funcs to Amazon Bedrock\n",
      "[2025-02-13 23:38:33,463] p1310 {graphrag.py:162} INFO - Creating working directory ./dickens\n",
      "[2025-02-13 23:38:33,471] p1310 {kv_json.py:16} INFO - Load KV full_docs with 0 data\n",
      "[2025-02-13 23:38:33,476] p1310 {kv_json.py:16} INFO - Load KV text_chunks with 0 data\n",
      "[2025-02-13 23:38:33,478] p1310 {kv_json.py:16} INFO - Load KV llm_response_cache with 0 data\n",
      "[2025-02-13 23:38:33,481] p1310 {kv_json.py:16} INFO - Load KV community_reports with 0 data\n",
      "[2025-02-13 23:38:33,483] p1310 {dbs.py:81} INFO - Init {'embedding_dim': 1024, 'metric': 'cosine', 'storage_file': './dickens/vdb_entities.json'} 0 data\n"
     ]
    }
   ],
   "source": [
    "# Initialize GraphRAG with Amazon Bedrock\n",
    "graph_func = GraphRAG(\n",
    "    working_dir=\"./dickens\",\n",
    "    using_amazon_bedrock=True,\n",
    "    best_model_id=best_model_id,\n",
    "    cheap_model_id=cheap_model_id,\n",
    ")"
   ]
  },
  {
   "cell_type": "code",
   "execution_count": 29,
   "id": "93283841-15f2-4429-bea7-6bb52219876e",
   "metadata": {},
   "outputs": [],
   "source": [
    "# Load text from book.txt\n",
    "with open(\"./book.txt\") as f:\n",
    "    data = f.read()\n",
    "\n",
    "# Check if the file is empty\n",
    "if not data.strip():\n",
    "    raise ValueError(\"Error: book.txt is empty! Make sure it contains text.\")"
   ]
  },
  {
   "cell_type": "code",
   "execution_count": 30,
   "id": "4396fe43-f015-4dc9-929c-ee4e8a3e193d",
   "metadata": {},
   "outputs": [
    {
     "name": "stderr",
     "output_type": "stream",
     "text": [
      "[2025-02-13 23:40:40,817] p1310 {graphrag.py:279} INFO - [New Docs] inserting 1 docs\n",
      "[2025-02-13 23:40:41,404] p1310 {graphrag.py:299} INFO - [New Chunks] inserting 42 chunks\n",
      "[2025-02-13 23:40:41,405] p1310 {graphrag.py:308} INFO - [Entity Extraction]...\n",
      "[2025-02-13 23:40:41,422] p1310 {credentials.py:567} INFO - Found credentials in environment variables.\n",
      "[2025-02-13 23:40:41,761] p1310 {gdb_networkx.py:28} INFO - Writing graph with 0 nodes, 0 edges\n"
     ]
    },
    {
     "ename": "ValidationException",
     "evalue": "An error occurred (ValidationException) when calling the Converse operation: Your account is not authorized to invoke this API operation.",
     "output_type": "error",
     "traceback": [
      "\u001b[0;31m---------------------------------------------------------------------------\u001b[0m",
      "\u001b[0;31mValidationException\u001b[0m                       Traceback (most recent call last)",
      "Cell \u001b[0;32mIn[30], line 16\u001b[0m\n\u001b[1;32m     13\u001b[0m     \u001b[38;5;28mprint\u001b[39m(\u001b[38;5;124m\"\u001b[39m\u001b[38;5;130;01m\\n\u001b[39;00m\u001b[38;5;124m🏠 Local GraphRAG Search Result:\u001b[39m\u001b[38;5;130;01m\\n\u001b[39;00m\u001b[38;5;124m\"\u001b[39m, local_result)\n\u001b[1;32m     15\u001b[0m \u001b[38;5;66;03m# Run the async function properly\u001b[39;00m\n\u001b[0;32m---> 16\u001b[0m \u001b[38;5;28;01mawait\u001b[39;00m insert_and_query()\n",
      "Cell \u001b[0;32mIn[30], line 4\u001b[0m, in \u001b[0;36minsert_and_query\u001b[0;34m()\u001b[0m\n\u001b[1;32m      2\u001b[0m \u001b[38;5;28;01masync\u001b[39;00m \u001b[38;5;28;01mdef\u001b[39;00m\u001b[38;5;250m \u001b[39m\u001b[38;5;21minsert_and_query\u001b[39m():\n\u001b[1;32m      3\u001b[0m     \u001b[38;5;66;03m# Insert text into GraphRAG\u001b[39;00m\n\u001b[0;32m----> 4\u001b[0m     \u001b[38;5;28;01mawait\u001b[39;00m graph_func\u001b[38;5;241m.\u001b[39mainsert(data)\n\u001b[1;32m      6\u001b[0m     \u001b[38;5;66;03m# Run global GraphRAG search\u001b[39;00m\n\u001b[1;32m      7\u001b[0m     prompt \u001b[38;5;241m=\u001b[39m \u001b[38;5;124m\"\u001b[39m\u001b[38;5;124mWhat are the top themes in this story?\u001b[39m\u001b[38;5;124m\"\u001b[39m\n",
      "File \u001b[0;32m~/SageMaker/nano-graphrag/nano_graphrag/graphrag.py:309\u001b[0m, in \u001b[0;36mGraphRAG.ainsert\u001b[0;34m(self, string_or_strings)\u001b[0m\n\u001b[1;32m    307\u001b[0m \u001b[38;5;66;03m# ---------- extract/summary entity and upsert to graph\u001b[39;00m\n\u001b[1;32m    308\u001b[0m logger\u001b[38;5;241m.\u001b[39minfo(\u001b[38;5;124m\"\u001b[39m\u001b[38;5;124m[Entity Extraction]...\u001b[39m\u001b[38;5;124m\"\u001b[39m)\n\u001b[0;32m--> 309\u001b[0m maybe_new_kg \u001b[38;5;241m=\u001b[39m \u001b[38;5;28;01mawait\u001b[39;00m \u001b[38;5;28mself\u001b[39m\u001b[38;5;241m.\u001b[39mentity_extraction_func(\n\u001b[1;32m    310\u001b[0m     inserting_chunks,\n\u001b[1;32m    311\u001b[0m     knwoledge_graph_inst\u001b[38;5;241m=\u001b[39m\u001b[38;5;28mself\u001b[39m\u001b[38;5;241m.\u001b[39mchunk_entity_relation_graph,\n\u001b[1;32m    312\u001b[0m     entity_vdb\u001b[38;5;241m=\u001b[39m\u001b[38;5;28mself\u001b[39m\u001b[38;5;241m.\u001b[39mentities_vdb,\n\u001b[1;32m    313\u001b[0m     global_config\u001b[38;5;241m=\u001b[39masdict(\u001b[38;5;28mself\u001b[39m),\n\u001b[1;32m    314\u001b[0m     using_amazon_bedrock\u001b[38;5;241m=\u001b[39m\u001b[38;5;28mself\u001b[39m\u001b[38;5;241m.\u001b[39musing_amazon_bedrock,\n\u001b[1;32m    315\u001b[0m )\n\u001b[1;32m    316\u001b[0m \u001b[38;5;28;01mif\u001b[39;00m maybe_new_kg \u001b[38;5;129;01mis\u001b[39;00m \u001b[38;5;28;01mNone\u001b[39;00m:\n\u001b[1;32m    317\u001b[0m     logger\u001b[38;5;241m.\u001b[39mwarning(\u001b[38;5;124m\"\u001b[39m\u001b[38;5;124mNo new entities found\u001b[39m\u001b[38;5;124m\"\u001b[39m)\n",
      "File \u001b[0;32m~/SageMaker/nano-graphrag/nano_graphrag/_op.py:386\u001b[0m, in \u001b[0;36mextract_entities\u001b[0;34m(chunks, knwoledge_graph_inst, entity_vdb, global_config, using_amazon_bedrock)\u001b[0m\n\u001b[1;32m    383\u001b[0m     \u001b[38;5;28;01mreturn\u001b[39;00m \u001b[38;5;28mdict\u001b[39m(maybe_nodes), \u001b[38;5;28mdict\u001b[39m(maybe_edges)\n\u001b[1;32m    385\u001b[0m \u001b[38;5;66;03m# use_llm_func is wrapped in ascynio.Semaphore, limiting max_async callings\u001b[39;00m\n\u001b[0;32m--> 386\u001b[0m results \u001b[38;5;241m=\u001b[39m \u001b[38;5;28;01mawait\u001b[39;00m asyncio\u001b[38;5;241m.\u001b[39mgather(\n\u001b[1;32m    387\u001b[0m     \u001b[38;5;241m*\u001b[39m[_process_single_content(c) \u001b[38;5;28;01mfor\u001b[39;00m c \u001b[38;5;129;01min\u001b[39;00m ordered_chunks]\n\u001b[1;32m    388\u001b[0m )\n\u001b[1;32m    389\u001b[0m \u001b[38;5;28mprint\u001b[39m()  \u001b[38;5;66;03m# clear the progress bar\u001b[39;00m\n\u001b[1;32m    390\u001b[0m maybe_nodes \u001b[38;5;241m=\u001b[39m defaultdict(\u001b[38;5;28mlist\u001b[39m)\n",
      "File \u001b[0;32m~/anaconda3/envs/python3/lib/python3.10/asyncio/tasks.py:304\u001b[0m, in \u001b[0;36mTask.__wakeup\u001b[0;34m(self, future)\u001b[0m\n\u001b[1;32m    302\u001b[0m \u001b[38;5;28;01mdef\u001b[39;00m\u001b[38;5;250m \u001b[39m\u001b[38;5;21m__wakeup\u001b[39m(\u001b[38;5;28mself\u001b[39m, future):\n\u001b[1;32m    303\u001b[0m     \u001b[38;5;28;01mtry\u001b[39;00m:\n\u001b[0;32m--> 304\u001b[0m         \u001b[43mfuture\u001b[49m\u001b[38;5;241;43m.\u001b[39;49m\u001b[43mresult\u001b[49m\u001b[43m(\u001b[49m\u001b[43m)\u001b[49m\n\u001b[1;32m    305\u001b[0m     \u001b[38;5;28;01mexcept\u001b[39;00m \u001b[38;5;167;01mBaseException\u001b[39;00m \u001b[38;5;28;01mas\u001b[39;00m exc:\n\u001b[1;32m    306\u001b[0m         \u001b[38;5;66;03m# This may also be a cancellation.\u001b[39;00m\n\u001b[1;32m    307\u001b[0m         \u001b[38;5;28mself\u001b[39m\u001b[38;5;241m.\u001b[39m__step(exc)\n",
      "File \u001b[0;32m~/anaconda3/envs/python3/lib/python3.10/asyncio/tasks.py:232\u001b[0m, in \u001b[0;36mTask.__step\u001b[0;34m(***failed resolving arguments***)\u001b[0m\n\u001b[1;32m    228\u001b[0m \u001b[38;5;28;01mtry\u001b[39;00m:\n\u001b[1;32m    229\u001b[0m     \u001b[38;5;28;01mif\u001b[39;00m exc \u001b[38;5;129;01mis\u001b[39;00m \u001b[38;5;28;01mNone\u001b[39;00m:\n\u001b[1;32m    230\u001b[0m         \u001b[38;5;66;03m# We use the `send` method directly, because coroutines\u001b[39;00m\n\u001b[1;32m    231\u001b[0m         \u001b[38;5;66;03m# don't have `__iter__` and `__next__` methods.\u001b[39;00m\n\u001b[0;32m--> 232\u001b[0m         result \u001b[38;5;241m=\u001b[39m \u001b[43mcoro\u001b[49m\u001b[38;5;241;43m.\u001b[39;49m\u001b[43msend\u001b[49m\u001b[43m(\u001b[49m\u001b[38;5;28;43;01mNone\u001b[39;49;00m\u001b[43m)\u001b[49m\n\u001b[1;32m    233\u001b[0m     \u001b[38;5;28;01melse\u001b[39;00m:\n\u001b[1;32m    234\u001b[0m         result \u001b[38;5;241m=\u001b[39m coro\u001b[38;5;241m.\u001b[39mthrow(exc)\n",
      "File \u001b[0;32m~/SageMaker/nano-graphrag/nano_graphrag/_op.py:323\u001b[0m, in \u001b[0;36mextract_entities.<locals>._process_single_content\u001b[0;34m(chunk_key_dp)\u001b[0m\n\u001b[1;32m    321\u001b[0m content \u001b[38;5;241m=\u001b[39m chunk_dp[\u001b[38;5;124m\"\u001b[39m\u001b[38;5;124mcontent\u001b[39m\u001b[38;5;124m\"\u001b[39m]\n\u001b[1;32m    322\u001b[0m hint_prompt \u001b[38;5;241m=\u001b[39m entity_extract_prompt\u001b[38;5;241m.\u001b[39mformat(\u001b[38;5;241m*\u001b[39m\u001b[38;5;241m*\u001b[39mcontext_base, input_text\u001b[38;5;241m=\u001b[39mcontent)\n\u001b[0;32m--> 323\u001b[0m final_result \u001b[38;5;241m=\u001b[39m \u001b[38;5;28;01mawait\u001b[39;00m use_llm_func(hint_prompt)\n\u001b[1;32m    324\u001b[0m \u001b[38;5;28;01mif\u001b[39;00m \u001b[38;5;28misinstance\u001b[39m(final_result, \u001b[38;5;28mlist\u001b[39m):\n\u001b[1;32m    325\u001b[0m     final_result \u001b[38;5;241m=\u001b[39m final_result[\u001b[38;5;241m0\u001b[39m][\u001b[38;5;124m\"\u001b[39m\u001b[38;5;124mtext\u001b[39m\u001b[38;5;124m\"\u001b[39m]\n",
      "File \u001b[0;32m~/SageMaker/nano-graphrag/nano_graphrag/_utils.py:251\u001b[0m, in \u001b[0;36mlimit_async_func_call.<locals>.final_decro.<locals>.wait_func\u001b[0;34m(*args, **kwargs)\u001b[0m\n\u001b[1;32m    249\u001b[0m     \u001b[38;5;28;01mawait\u001b[39;00m asyncio\u001b[38;5;241m.\u001b[39msleep(waitting_time)\n\u001b[1;32m    250\u001b[0m __current_size \u001b[38;5;241m+\u001b[39m\u001b[38;5;241m=\u001b[39m \u001b[38;5;241m1\u001b[39m\n\u001b[0;32m--> 251\u001b[0m result \u001b[38;5;241m=\u001b[39m \u001b[38;5;28;01mawait\u001b[39;00m func(\u001b[38;5;241m*\u001b[39margs, \u001b[38;5;241m*\u001b[39m\u001b[38;5;241m*\u001b[39mkwargs)\n\u001b[1;32m    252\u001b[0m __current_size \u001b[38;5;241m-\u001b[39m\u001b[38;5;241m=\u001b[39m \u001b[38;5;241m1\u001b[39m\n\u001b[1;32m    253\u001b[0m \u001b[38;5;28;01mreturn\u001b[39;00m result\n",
      "File \u001b[0;32m~/SageMaker/nano-graphrag/nano_graphrag/_llm.py:140\u001b[0m, in \u001b[0;36mcreate_amazon_bedrock_complete_function.<locals>.bedrock_complete\u001b[0;34m(prompt, system_prompt, history_messages, **kwargs)\u001b[0m\n\u001b[1;32m    134\u001b[0m \u001b[38;5;28;01masync\u001b[39;00m \u001b[38;5;28;01mdef\u001b[39;00m\u001b[38;5;250m \u001b[39m\u001b[38;5;21mbedrock_complete\u001b[39m(\n\u001b[1;32m    135\u001b[0m     prompt: \u001b[38;5;28mstr\u001b[39m,\n\u001b[1;32m    136\u001b[0m     system_prompt: Optional[\u001b[38;5;28mstr\u001b[39m] \u001b[38;5;241m=\u001b[39m \u001b[38;5;28;01mNone\u001b[39;00m,\n\u001b[1;32m    137\u001b[0m     history_messages: List[Any] \u001b[38;5;241m=\u001b[39m [],\n\u001b[1;32m    138\u001b[0m     \u001b[38;5;241m*\u001b[39m\u001b[38;5;241m*\u001b[39mkwargs\n\u001b[1;32m    139\u001b[0m ) \u001b[38;5;241m-\u001b[39m\u001b[38;5;241m>\u001b[39m \u001b[38;5;28mstr\u001b[39m:\n\u001b[0;32m--> 140\u001b[0m     \u001b[38;5;28;01mreturn\u001b[39;00m \u001b[38;5;28;01mawait\u001b[39;00m amazon_bedrock_complete_if_cache(\n\u001b[1;32m    141\u001b[0m         model_id,\n\u001b[1;32m    142\u001b[0m         prompt,\n\u001b[1;32m    143\u001b[0m         system_prompt\u001b[38;5;241m=\u001b[39msystem_prompt,\n\u001b[1;32m    144\u001b[0m         history_messages\u001b[38;5;241m=\u001b[39mhistory_messages,\n\u001b[1;32m    145\u001b[0m         \u001b[38;5;241m*\u001b[39m\u001b[38;5;241m*\u001b[39mkwargs\n\u001b[1;32m    146\u001b[0m     )\n",
      "File \u001b[0;32m~/anaconda3/envs/python3/lib/python3.10/site-packages/tenacity/asyncio/__init__.py:189\u001b[0m, in \u001b[0;36mAsyncRetrying.wraps.<locals>.async_wrapped\u001b[0;34m(*args, **kwargs)\u001b[0m\n\u001b[1;32m    187\u001b[0m copy \u001b[38;5;241m=\u001b[39m \u001b[38;5;28mself\u001b[39m\u001b[38;5;241m.\u001b[39mcopy()\n\u001b[1;32m    188\u001b[0m async_wrapped\u001b[38;5;241m.\u001b[39mstatistics \u001b[38;5;241m=\u001b[39m copy\u001b[38;5;241m.\u001b[39mstatistics  \u001b[38;5;66;03m# type: ignore[attr-defined]\u001b[39;00m\n\u001b[0;32m--> 189\u001b[0m \u001b[38;5;28;01mreturn\u001b[39;00m \u001b[38;5;28;01mawait\u001b[39;00m copy(fn, \u001b[38;5;241m*\u001b[39margs, \u001b[38;5;241m*\u001b[39m\u001b[38;5;241m*\u001b[39mkwargs)\n",
      "File \u001b[0;32m~/anaconda3/envs/python3/lib/python3.10/site-packages/tenacity/asyncio/__init__.py:111\u001b[0m, in \u001b[0;36mAsyncRetrying.__call__\u001b[0;34m(self, fn, *args, **kwargs)\u001b[0m\n\u001b[1;32m    109\u001b[0m retry_state \u001b[38;5;241m=\u001b[39m RetryCallState(retry_object\u001b[38;5;241m=\u001b[39m\u001b[38;5;28mself\u001b[39m, fn\u001b[38;5;241m=\u001b[39mfn, args\u001b[38;5;241m=\u001b[39margs, kwargs\u001b[38;5;241m=\u001b[39mkwargs)\n\u001b[1;32m    110\u001b[0m \u001b[38;5;28;01mwhile\u001b[39;00m \u001b[38;5;28;01mTrue\u001b[39;00m:\n\u001b[0;32m--> 111\u001b[0m     do \u001b[38;5;241m=\u001b[39m \u001b[38;5;28;01mawait\u001b[39;00m \u001b[38;5;28mself\u001b[39m\u001b[38;5;241m.\u001b[39miter(retry_state\u001b[38;5;241m=\u001b[39mretry_state)\n\u001b[1;32m    112\u001b[0m     \u001b[38;5;28;01mif\u001b[39;00m \u001b[38;5;28misinstance\u001b[39m(do, DoAttempt):\n\u001b[1;32m    113\u001b[0m         \u001b[38;5;28;01mtry\u001b[39;00m:\n",
      "File \u001b[0;32m~/anaconda3/envs/python3/lib/python3.10/site-packages/tenacity/asyncio/__init__.py:153\u001b[0m, in \u001b[0;36mAsyncRetrying.iter\u001b[0;34m(self, retry_state)\u001b[0m\n\u001b[1;32m    151\u001b[0m result \u001b[38;5;241m=\u001b[39m \u001b[38;5;28;01mNone\u001b[39;00m\n\u001b[1;32m    152\u001b[0m \u001b[38;5;28;01mfor\u001b[39;00m action \u001b[38;5;129;01min\u001b[39;00m \u001b[38;5;28mself\u001b[39m\u001b[38;5;241m.\u001b[39miter_state\u001b[38;5;241m.\u001b[39mactions:\n\u001b[0;32m--> 153\u001b[0m     result \u001b[38;5;241m=\u001b[39m \u001b[38;5;28;01mawait\u001b[39;00m action(retry_state)\n\u001b[1;32m    154\u001b[0m \u001b[38;5;28;01mreturn\u001b[39;00m result\n",
      "File \u001b[0;32m~/anaconda3/envs/python3/lib/python3.10/site-packages/tenacity/_utils.py:99\u001b[0m, in \u001b[0;36mwrap_to_async_func.<locals>.inner\u001b[0;34m(*args, **kwargs)\u001b[0m\n\u001b[1;32m     98\u001b[0m \u001b[38;5;28;01masync\u001b[39;00m \u001b[38;5;28;01mdef\u001b[39;00m\u001b[38;5;250m \u001b[39m\u001b[38;5;21minner\u001b[39m(\u001b[38;5;241m*\u001b[39margs: typing\u001b[38;5;241m.\u001b[39mAny, \u001b[38;5;241m*\u001b[39m\u001b[38;5;241m*\u001b[39mkwargs: typing\u001b[38;5;241m.\u001b[39mAny) \u001b[38;5;241m-\u001b[39m\u001b[38;5;241m>\u001b[39m typing\u001b[38;5;241m.\u001b[39mAny:\n\u001b[0;32m---> 99\u001b[0m     \u001b[38;5;28;01mreturn\u001b[39;00m \u001b[43mcall\u001b[49m\u001b[43m(\u001b[49m\u001b[38;5;241;43m*\u001b[39;49m\u001b[43margs\u001b[49m\u001b[43m,\u001b[49m\u001b[43m \u001b[49m\u001b[38;5;241;43m*\u001b[39;49m\u001b[38;5;241;43m*\u001b[39;49m\u001b[43mkwargs\u001b[49m\u001b[43m)\u001b[49m\n",
      "File \u001b[0;32m~/anaconda3/envs/python3/lib/python3.10/site-packages/tenacity/__init__.py:398\u001b[0m, in \u001b[0;36mBaseRetrying._post_retry_check_actions.<locals>.<lambda>\u001b[0;34m(rs)\u001b[0m\n\u001b[1;32m    396\u001b[0m \u001b[38;5;28;01mdef\u001b[39;00m\u001b[38;5;250m \u001b[39m\u001b[38;5;21m_post_retry_check_actions\u001b[39m(\u001b[38;5;28mself\u001b[39m, retry_state: \u001b[38;5;124m\"\u001b[39m\u001b[38;5;124mRetryCallState\u001b[39m\u001b[38;5;124m\"\u001b[39m) \u001b[38;5;241m-\u001b[39m\u001b[38;5;241m>\u001b[39m \u001b[38;5;28;01mNone\u001b[39;00m:\n\u001b[1;32m    397\u001b[0m     \u001b[38;5;28;01mif\u001b[39;00m \u001b[38;5;129;01mnot\u001b[39;00m (\u001b[38;5;28mself\u001b[39m\u001b[38;5;241m.\u001b[39miter_state\u001b[38;5;241m.\u001b[39mis_explicit_retry \u001b[38;5;129;01mor\u001b[39;00m \u001b[38;5;28mself\u001b[39m\u001b[38;5;241m.\u001b[39miter_state\u001b[38;5;241m.\u001b[39mretry_run_result):\n\u001b[0;32m--> 398\u001b[0m         \u001b[38;5;28mself\u001b[39m\u001b[38;5;241m.\u001b[39m_add_action_func(\u001b[38;5;28;01mlambda\u001b[39;00m rs: \u001b[43mrs\u001b[49m\u001b[38;5;241;43m.\u001b[39;49m\u001b[43moutcome\u001b[49m\u001b[38;5;241;43m.\u001b[39;49m\u001b[43mresult\u001b[49m\u001b[43m(\u001b[49m\u001b[43m)\u001b[49m)\n\u001b[1;32m    399\u001b[0m         \u001b[38;5;28;01mreturn\u001b[39;00m\n\u001b[1;32m    401\u001b[0m     \u001b[38;5;28;01mif\u001b[39;00m \u001b[38;5;28mself\u001b[39m\u001b[38;5;241m.\u001b[39mafter \u001b[38;5;129;01mis\u001b[39;00m \u001b[38;5;129;01mnot\u001b[39;00m \u001b[38;5;28;01mNone\u001b[39;00m:\n",
      "File \u001b[0;32m~/anaconda3/envs/python3/lib/python3.10/concurrent/futures/_base.py:451\u001b[0m, in \u001b[0;36mFuture.result\u001b[0;34m(self, timeout)\u001b[0m\n\u001b[1;32m    449\u001b[0m     \u001b[38;5;28;01mraise\u001b[39;00m CancelledError()\n\u001b[1;32m    450\u001b[0m \u001b[38;5;28;01melif\u001b[39;00m \u001b[38;5;28mself\u001b[39m\u001b[38;5;241m.\u001b[39m_state \u001b[38;5;241m==\u001b[39m FINISHED:\n\u001b[0;32m--> 451\u001b[0m     \u001b[38;5;28;01mreturn\u001b[39;00m \u001b[38;5;28;43mself\u001b[39;49m\u001b[38;5;241;43m.\u001b[39;49m\u001b[43m__get_result\u001b[49m\u001b[43m(\u001b[49m\u001b[43m)\u001b[49m\n\u001b[1;32m    453\u001b[0m \u001b[38;5;28mself\u001b[39m\u001b[38;5;241m.\u001b[39m_condition\u001b[38;5;241m.\u001b[39mwait(timeout)\n\u001b[1;32m    455\u001b[0m \u001b[38;5;28;01mif\u001b[39;00m \u001b[38;5;28mself\u001b[39m\u001b[38;5;241m.\u001b[39m_state \u001b[38;5;129;01min\u001b[39;00m [CANCELLED, CANCELLED_AND_NOTIFIED]:\n",
      "File \u001b[0;32m~/anaconda3/envs/python3/lib/python3.10/concurrent/futures/_base.py:403\u001b[0m, in \u001b[0;36mFuture.__get_result\u001b[0;34m(self)\u001b[0m\n\u001b[1;32m    401\u001b[0m \u001b[38;5;28;01mif\u001b[39;00m \u001b[38;5;28mself\u001b[39m\u001b[38;5;241m.\u001b[39m_exception:\n\u001b[1;32m    402\u001b[0m     \u001b[38;5;28;01mtry\u001b[39;00m:\n\u001b[0;32m--> 403\u001b[0m         \u001b[38;5;28;01mraise\u001b[39;00m \u001b[38;5;28mself\u001b[39m\u001b[38;5;241m.\u001b[39m_exception\n\u001b[1;32m    404\u001b[0m     \u001b[38;5;28;01mfinally\u001b[39;00m:\n\u001b[1;32m    405\u001b[0m         \u001b[38;5;66;03m# Break a reference cycle with the exception in self._exception\u001b[39;00m\n\u001b[1;32m    406\u001b[0m         \u001b[38;5;28mself\u001b[39m \u001b[38;5;241m=\u001b[39m \u001b[38;5;28;01mNone\u001b[39;00m\n",
      "File \u001b[0;32m~/anaconda3/envs/python3/lib/python3.10/site-packages/tenacity/asyncio/__init__.py:114\u001b[0m, in \u001b[0;36mAsyncRetrying.__call__\u001b[0;34m(self, fn, *args, **kwargs)\u001b[0m\n\u001b[1;32m    112\u001b[0m \u001b[38;5;28;01mif\u001b[39;00m \u001b[38;5;28misinstance\u001b[39m(do, DoAttempt):\n\u001b[1;32m    113\u001b[0m     \u001b[38;5;28;01mtry\u001b[39;00m:\n\u001b[0;32m--> 114\u001b[0m         result \u001b[38;5;241m=\u001b[39m \u001b[38;5;28;01mawait\u001b[39;00m fn(\u001b[38;5;241m*\u001b[39margs, \u001b[38;5;241m*\u001b[39m\u001b[38;5;241m*\u001b[39mkwargs)\n\u001b[1;32m    115\u001b[0m     \u001b[38;5;28;01mexcept\u001b[39;00m \u001b[38;5;167;01mBaseException\u001b[39;00m:  \u001b[38;5;66;03m# noqa: B902\u001b[39;00m\n\u001b[1;32m    116\u001b[0m         retry_state\u001b[38;5;241m.\u001b[39mset_exception(sys\u001b[38;5;241m.\u001b[39mexc_info())  \u001b[38;5;66;03m# type: ignore[arg-type]\u001b[39;00m\n",
      "File \u001b[0;32m~/SageMaker/nano-graphrag/nano_graphrag/_llm.py:112\u001b[0m, in \u001b[0;36mamazon_bedrock_complete_if_cache\u001b[0;34m(model, prompt, system_prompt, history_messages, **kwargs)\u001b[0m\n\u001b[1;32m    107\u001b[0m         response \u001b[38;5;241m=\u001b[39m \u001b[38;5;28;01mawait\u001b[39;00m bedrock_runtime\u001b[38;5;241m.\u001b[39mconverse(\n\u001b[1;32m    108\u001b[0m             modelId\u001b[38;5;241m=\u001b[39mmodel, messages\u001b[38;5;241m=\u001b[39mmessages, inferenceConfig\u001b[38;5;241m=\u001b[39minference_config,\n\u001b[1;32m    109\u001b[0m             system\u001b[38;5;241m=\u001b[39m[{\u001b[38;5;124m\"\u001b[39m\u001b[38;5;124mtext\u001b[39m\u001b[38;5;124m\"\u001b[39m: system_prompt}]\n\u001b[1;32m    110\u001b[0m         )\n\u001b[1;32m    111\u001b[0m     \u001b[38;5;28;01melse\u001b[39;00m:\n\u001b[0;32m--> 112\u001b[0m         response \u001b[38;5;241m=\u001b[39m \u001b[38;5;28;01mawait\u001b[39;00m bedrock_runtime\u001b[38;5;241m.\u001b[39mconverse(\n\u001b[1;32m    113\u001b[0m             modelId\u001b[38;5;241m=\u001b[39mmodel, messages\u001b[38;5;241m=\u001b[39mmessages, inferenceConfig\u001b[38;5;241m=\u001b[39minference_config,\n\u001b[1;32m    114\u001b[0m         )\n\u001b[1;32m    116\u001b[0m \u001b[38;5;28;01mif\u001b[39;00m hashing_kv \u001b[38;5;129;01mis\u001b[39;00m \u001b[38;5;129;01mnot\u001b[39;00m \u001b[38;5;28;01mNone\u001b[39;00m:\n\u001b[1;32m    117\u001b[0m     \u001b[38;5;28;01mawait\u001b[39;00m hashing_kv\u001b[38;5;241m.\u001b[39mupsert(\n\u001b[1;32m    118\u001b[0m         {args_hash: {\u001b[38;5;124m\"\u001b[39m\u001b[38;5;124mreturn\u001b[39m\u001b[38;5;124m\"\u001b[39m: response[\u001b[38;5;124m\"\u001b[39m\u001b[38;5;124moutput\u001b[39m\u001b[38;5;124m\"\u001b[39m][\u001b[38;5;124m\"\u001b[39m\u001b[38;5;124mmessage\u001b[39m\u001b[38;5;124m\"\u001b[39m][\u001b[38;5;124m\"\u001b[39m\u001b[38;5;124mcontent\u001b[39m\u001b[38;5;124m\"\u001b[39m][\u001b[38;5;241m0\u001b[39m][\u001b[38;5;124m\"\u001b[39m\u001b[38;5;124mtext\u001b[39m\u001b[38;5;124m\"\u001b[39m], \u001b[38;5;124m\"\u001b[39m\u001b[38;5;124mmodel\u001b[39m\u001b[38;5;124m\"\u001b[39m: model}}\n\u001b[1;32m    119\u001b[0m     )\n",
      "File \u001b[0;32m~/anaconda3/envs/python3/lib/python3.10/site-packages/aiobotocore/client.py:412\u001b[0m, in \u001b[0;36mAioBaseClient._make_api_call\u001b[0;34m(self, operation_name, api_params)\u001b[0m\n\u001b[1;32m    408\u001b[0m     error_code \u001b[38;5;241m=\u001b[39m error_info\u001b[38;5;241m.\u001b[39mget(\u001b[38;5;124m\"\u001b[39m\u001b[38;5;124mQueryErrorCode\u001b[39m\u001b[38;5;124m\"\u001b[39m) \u001b[38;5;129;01mor\u001b[39;00m error_info\u001b[38;5;241m.\u001b[39mget(\n\u001b[1;32m    409\u001b[0m         \u001b[38;5;124m\"\u001b[39m\u001b[38;5;124mCode\u001b[39m\u001b[38;5;124m\"\u001b[39m\n\u001b[1;32m    410\u001b[0m     )\n\u001b[1;32m    411\u001b[0m     error_class \u001b[38;5;241m=\u001b[39m \u001b[38;5;28mself\u001b[39m\u001b[38;5;241m.\u001b[39mexceptions\u001b[38;5;241m.\u001b[39mfrom_code(error_code)\n\u001b[0;32m--> 412\u001b[0m     \u001b[38;5;28;01mraise\u001b[39;00m error_class(parsed_response, operation_name)\n\u001b[1;32m    413\u001b[0m \u001b[38;5;28;01melse\u001b[39;00m:\n\u001b[1;32m    414\u001b[0m     \u001b[38;5;28;01mreturn\u001b[39;00m parsed_response\n",
      "\u001b[0;31mValidationException\u001b[0m: An error occurred (ValidationException) when calling the Converse operation: Your account is not authorized to invoke this API operation."
     ]
    }
   ],
   "source": [
    "# Ensure text processing works properly\n",
    "async def insert_and_query():\n",
    "    # Insert text into GraphRAG\n",
    "    await graph_func.ainsert(data)\n",
    "\n",
    "    # Run global GraphRAG search\n",
    "    prompt = \"What are the top themes in this story?\"\n",
    "    global_result = await graph_func.aquery(prompt, param=QueryParam(mode=\"global\"))\n",
    "    print(\"\\n🌍 Global GraphRAG Search Result:\\n\", global_result)\n",
    "\n",
    "    # Run local GraphRAG search (preferred for scalability)\n",
    "    local_result = await graph_func.aquery(prompt, param=QueryParam(mode=\"local\"))\n",
    "    print(\"\\n🏠 Local GraphRAG Search Result:\\n\", local_result)\n",
    "\n",
    "# Run the async function properly\n",
    "await insert_and_query()"
   ]
  },
  {
   "cell_type": "code",
   "execution_count": 33,
   "id": "d9926edf-a8fa-4f98-92d9-957c0cfaa921",
   "metadata": {},
   "outputs": [
    {
     "ename": "ValidationException",
     "evalue": "An error occurred (ValidationException) when calling the InvokeModel operation: Your account is not authorized to invoke this API operation.",
     "output_type": "error",
     "traceback": [
      "\u001b[0;31m---------------------------------------------------------------------------\u001b[0m",
      "\u001b[0;31mValidationException\u001b[0m                       Traceback (most recent call last)",
      "Cell \u001b[0;32mIn[33], line 21\u001b[0m\n\u001b[1;32m     18\u001b[0m model_id \u001b[38;5;241m=\u001b[39m \u001b[38;5;124m\"\u001b[39m\u001b[38;5;124mbedrock/us.meta.llama3-1-70b-instruct-v1:0\u001b[39m\u001b[38;5;124m\"\u001b[39m  \u001b[38;5;66;03m# Adjust as needed\u001b[39;00m\n\u001b[1;32m     19\u001b[0m prompt \u001b[38;5;241m=\u001b[39m \u001b[38;5;124m\"\u001b[39m\u001b[38;5;124mExtract key themes from this text: AI and data science are transforming the world.\u001b[39m\u001b[38;5;124m\"\u001b[39m\n\u001b[0;32m---> 21\u001b[0m \u001b[38;5;28mprint\u001b[39m(\u001b[43mget_bedrock_response\u001b[49m\u001b[43m(\u001b[49m\u001b[43mmodel_id\u001b[49m\u001b[43m,\u001b[49m\u001b[43m \u001b[49m\u001b[43mprompt\u001b[49m\u001b[43m)\u001b[49m)\n",
      "Cell \u001b[0;32mIn[33], line 7\u001b[0m, in \u001b[0;36mget_bedrock_response\u001b[0;34m(model_id, prompt, max_tokens)\u001b[0m\n\u001b[1;32m      6\u001b[0m \u001b[38;5;28;01mdef\u001b[39;00m\u001b[38;5;250m \u001b[39m\u001b[38;5;21mget_bedrock_response\u001b[39m(model_id, prompt, max_tokens\u001b[38;5;241m=\u001b[39m\u001b[38;5;241m100\u001b[39m):\n\u001b[0;32m----> 7\u001b[0m     response \u001b[38;5;241m=\u001b[39m \u001b[43mclient\u001b[49m\u001b[38;5;241;43m.\u001b[39;49m\u001b[43minvoke_model\u001b[49m\u001b[43m(\u001b[49m\n\u001b[1;32m      8\u001b[0m \u001b[43m        \u001b[49m\u001b[43mmodelId\u001b[49m\u001b[38;5;241;43m=\u001b[39;49m\u001b[43mmodel_id\u001b[49m\u001b[43m,\u001b[49m\n\u001b[1;32m      9\u001b[0m \u001b[43m        \u001b[49m\u001b[43mbody\u001b[49m\u001b[38;5;241;43m=\u001b[39;49m\u001b[43mjson\u001b[49m\u001b[38;5;241;43m.\u001b[39;49m\u001b[43mdumps\u001b[49m\u001b[43m(\u001b[49m\u001b[43m{\u001b[49m\n\u001b[1;32m     10\u001b[0m \u001b[43m            \u001b[49m\u001b[38;5;124;43m\"\u001b[39;49m\u001b[38;5;124;43mprompt\u001b[39;49m\u001b[38;5;124;43m\"\u001b[39;49m\u001b[43m:\u001b[49m\u001b[43m \u001b[49m\u001b[43mprompt\u001b[49m\u001b[43m,\u001b[49m\n\u001b[1;32m     11\u001b[0m \u001b[43m            \u001b[49m\u001b[38;5;124;43m\"\u001b[39;49m\u001b[38;5;124;43mmax_tokens\u001b[39;49m\u001b[38;5;124;43m\"\u001b[39;49m\u001b[43m:\u001b[49m\u001b[43m \u001b[49m\u001b[43mmax_tokens\u001b[49m\n\u001b[1;32m     12\u001b[0m \u001b[43m        \u001b[49m\u001b[43m}\u001b[49m\u001b[43m)\u001b[49m\u001b[38;5;241;43m.\u001b[39;49m\u001b[43mencode\u001b[49m\u001b[43m(\u001b[49m\u001b[38;5;124;43m\"\u001b[39;49m\u001b[38;5;124;43mutf-8\u001b[39;49m\u001b[38;5;124;43m\"\u001b[39;49m\u001b[43m)\u001b[49m\u001b[43m  \u001b[49m\u001b[38;5;66;43;03m# Convert to JSON and encode as bytes\u001b[39;49;00m\n\u001b[1;32m     13\u001b[0m \u001b[43m    \u001b[49m\u001b[43m)\u001b[49m\n\u001b[1;32m     14\u001b[0m     response_body \u001b[38;5;241m=\u001b[39m json\u001b[38;5;241m.\u001b[39mloads(response[\u001b[38;5;124m'\u001b[39m\u001b[38;5;124mbody\u001b[39m\u001b[38;5;124m'\u001b[39m]\u001b[38;5;241m.\u001b[39mread()\u001b[38;5;241m.\u001b[39mdecode(\u001b[38;5;124m'\u001b[39m\u001b[38;5;124mutf-8\u001b[39m\u001b[38;5;124m'\u001b[39m))\n\u001b[1;32m     15\u001b[0m     \u001b[38;5;28;01mreturn\u001b[39;00m response_body\n",
      "File \u001b[0;32m~/anaconda3/envs/python3/lib/python3.10/site-packages/botocore/client.py:569\u001b[0m, in \u001b[0;36mClientCreator._create_api_method.<locals>._api_call\u001b[0;34m(self, *args, **kwargs)\u001b[0m\n\u001b[1;32m    565\u001b[0m     \u001b[38;5;28;01mraise\u001b[39;00m \u001b[38;5;167;01mTypeError\u001b[39;00m(\n\u001b[1;32m    566\u001b[0m         \u001b[38;5;124mf\u001b[39m\u001b[38;5;124m\"\u001b[39m\u001b[38;5;132;01m{\u001b[39;00mpy_operation_name\u001b[38;5;132;01m}\u001b[39;00m\u001b[38;5;124m() only accepts keyword arguments.\u001b[39m\u001b[38;5;124m\"\u001b[39m\n\u001b[1;32m    567\u001b[0m     )\n\u001b[1;32m    568\u001b[0m \u001b[38;5;66;03m# The \"self\" in this scope is referring to the BaseClient.\u001b[39;00m\n\u001b[0;32m--> 569\u001b[0m \u001b[38;5;28;01mreturn\u001b[39;00m \u001b[38;5;28;43mself\u001b[39;49m\u001b[38;5;241;43m.\u001b[39;49m\u001b[43m_make_api_call\u001b[49m\u001b[43m(\u001b[49m\u001b[43moperation_name\u001b[49m\u001b[43m,\u001b[49m\u001b[43m \u001b[49m\u001b[43mkwargs\u001b[49m\u001b[43m)\u001b[49m\n",
      "File \u001b[0;32m~/anaconda3/envs/python3/lib/python3.10/site-packages/botocore/client.py:1023\u001b[0m, in \u001b[0;36mBaseClient._make_api_call\u001b[0;34m(self, operation_name, api_params)\u001b[0m\n\u001b[1;32m   1019\u001b[0m     error_code \u001b[38;5;241m=\u001b[39m error_info\u001b[38;5;241m.\u001b[39mget(\u001b[38;5;124m\"\u001b[39m\u001b[38;5;124mQueryErrorCode\u001b[39m\u001b[38;5;124m\"\u001b[39m) \u001b[38;5;129;01mor\u001b[39;00m error_info\u001b[38;5;241m.\u001b[39mget(\n\u001b[1;32m   1020\u001b[0m         \u001b[38;5;124m\"\u001b[39m\u001b[38;5;124mCode\u001b[39m\u001b[38;5;124m\"\u001b[39m\n\u001b[1;32m   1021\u001b[0m     )\n\u001b[1;32m   1022\u001b[0m     error_class \u001b[38;5;241m=\u001b[39m \u001b[38;5;28mself\u001b[39m\u001b[38;5;241m.\u001b[39mexceptions\u001b[38;5;241m.\u001b[39mfrom_code(error_code)\n\u001b[0;32m-> 1023\u001b[0m     \u001b[38;5;28;01mraise\u001b[39;00m error_class(parsed_response, operation_name)\n\u001b[1;32m   1024\u001b[0m \u001b[38;5;28;01melse\u001b[39;00m:\n\u001b[1;32m   1025\u001b[0m     \u001b[38;5;28;01mreturn\u001b[39;00m parsed_response\n",
      "\u001b[0;31mValidationException\u001b[0m: An error occurred (ValidationException) when calling the InvokeModel operation: Your account is not authorized to invoke this API operation."
     ]
    }
   ],
   "source": [
    "import boto3\n",
    "import json\n",
    "\n",
    "client = boto3.client(\"bedrock-runtime\")\n",
    "\n",
    "def get_bedrock_response(model_id, prompt, max_tokens=100):\n",
    "    response = client.invoke_model(\n",
    "        modelId=model_id,\n",
    "        body=json.dumps({\n",
    "            \"prompt\": prompt,\n",
    "            \"max_tokens\": max_tokens\n",
    "        }).encode(\"utf-8\")  # Convert to JSON and encode as bytes\n",
    "    )\n",
    "    response_body = json.loads(response['body'].read().decode('utf-8'))\n",
    "    return response_body\n",
    "\n",
    "# Test with GraphRAG\n",
    "model_id = \"bedrock/us.meta.llama3-1-70b-instruct-v1:0\"  # Adjust as needed\n",
    "prompt = \"Extract key themes from this text: AI and data science are transforming the world.\"\n",
    "\n",
    "print(get_bedrock_response(model_id, prompt))"
   ]
  },
  {
   "cell_type": "code",
   "execution_count": 35,
   "id": "610ad4fb-c995-4473-9108-5d9aecc6f876",
   "metadata": {},
   "outputs": [],
   "source": [
    "async def amazon_bedrock_complete(model, prompt, max_tokens=500, temperature=0.7, top_p=1):\n",
    "    \"\"\"\n",
    "    Queries Amazon Bedrock with the specified model and parameters.\n",
    "    \"\"\"\n",
    "    request_payload = {\n",
    "        \"prompt\": prompt,\n",
    "        \"max_tokens\": max_tokens,\n",
    "        \"temperature\": temperature,\n",
    "        \"top_p\": top_p\n",
    "    }\n",
    "\n",
    "    # Make the API call\n",
    "    response = client.invoke_model(\n",
    "        modelId=model,\n",
    "        body=json.dumps(request_payload).encode(\"utf-8\")\n",
    "    )\n",
    "\n",
    "    # Read and decode response\n",
    "    response_body = json.loads(response['body'].read().decode('utf-8'))\n",
    "    return response_body.get(\"output\", {}).get(\"message\", {}).get(\"content\", \"\")"
   ]
  },
  {
   "cell_type": "code",
   "execution_count": 36,
   "id": "41b30029-d133-4157-b312-6bd3925e0c7e",
   "metadata": {},
   "outputs": [],
   "source": [
    "class GraphRAG:\n",
    "    def __init__(self):\n",
    "        self.chunk_entity_relation_graph = {}  # Placeholder for KG updates\n",
    "        self.entities_vdb = {}  # Virtual database for entity storage\n",
    "\n",
    "    async def ainsert(self, inserting_chunks):\n",
    "        \"\"\"\n",
    "        Inserts new data into the knowledge graph.\n",
    "        \"\"\"\n",
    "        logger.info(\"[Entity Extraction] Extracting entities...\")\n",
    "        \n",
    "        # Extract entities using Bedrock\n",
    "        maybe_new_kg = await self.extract_entities(inserting_chunks)\n",
    "\n",
    "        if not maybe_new_kg:\n",
    "            logger.warning(\"No new entities found\")\n",
    "            return\n",
    "\n",
    "        # Update the knowledge graph\n",
    "        self.chunk_entity_relation_graph.update(maybe_new_kg)\n",
    "        logger.info(f\"Updated Graph with {len(maybe_new_kg)} new entities.\")\n",
    "\n",
    "    async def extract_entities(self, chunks):\n",
    "        \"\"\"\n",
    "        Extracts entities from given text chunks using LLM.\n",
    "        \"\"\"\n",
    "        maybe_nodes = defaultdict(list)\n",
    "        maybe_edges = defaultdict(list)\n",
    "\n",
    "        async def process_single_content(chunk):\n",
    "            content = chunk[\"content\"]\n",
    "            prompt = f\"Extract key entities from the following text:\\n\\n{content}\"\n",
    "\n",
    "            # Query Bedrock\n",
    "            result = await amazon_bedrock_complete(\n",
    "                model=\"bedrock/us.meta.llama3-1-70b-instruct-v1:0\",\n",
    "                prompt=prompt\n",
    "            )\n",
    "\n",
    "            return result\n",
    "\n",
    "        # Run entity extraction in parallel\n",
    "        results = await asyncio.gather(*[process_single_content(c) for c in chunks])\n",
    "\n",
    "        for result in results:\n",
    "            # Parse result if it's structured as JSON\n",
    "            try:\n",
    "                extracted_data = json.loads(result)\n",
    "                maybe_nodes.update(extracted_data.get(\"nodes\", {}))\n",
    "                maybe_edges.update(extracted_data.get(\"edges\", {}))\n",
    "            except json.JSONDecodeError:\n",
    "                logger.warning(f\"Could not parse entity extraction result: {result}\")\n",
    "\n",
    "        return dict(maybe_nodes), dict(maybe_edges)\n",
    "\n",
    "    async def query(self, question):\n",
    "        \"\"\"\n",
    "        Queries the knowledge graph.\n",
    "        \"\"\"\n",
    "        prompt = f\"Based on the following knowledge graph, answer: {question}\"\n",
    "        response = await amazon_bedrock_complete(\n",
    "            model=\"bedrock/us.meta.llama3-1-70b-instruct-v1:0\",\n",
    "            prompt=prompt\n",
    "        )\n",
    "        return response"
   ]
  },
  {
   "cell_type": "code",
   "execution_count": 38,
   "id": "db0d3357-1eb5-4a18-90cc-ba4a965a99a5",
   "metadata": {},
   "outputs": [
    {
     "name": "stderr",
     "output_type": "stream",
     "text": [
      "[2025-02-13 23:50:17,063] p1310 {2917536302.py:10} INFO - [Entity Extraction] Extracting entities...\n"
     ]
    },
    {
     "ename": "ValidationException",
     "evalue": "An error occurred (ValidationException) when calling the InvokeModel operation: Your account is not authorized to invoke this API operation.",
     "output_type": "error",
     "traceback": [
      "\u001b[0;31m---------------------------------------------------------------------------\u001b[0m",
      "\u001b[0;31mValidationException\u001b[0m                       Traceback (most recent call last)",
      "Cell \u001b[0;32mIn[38], line 22\u001b[0m\n\u001b[1;32m     19\u001b[0m     \u001b[38;5;28mprint\u001b[39m(\u001b[38;5;124m\"\u001b[39m\u001b[38;5;130;01m\\n\u001b[39;00m\u001b[38;5;124m🏠 Local GraphRAG Search Result:\u001b[39m\u001b[38;5;130;01m\\n\u001b[39;00m\u001b[38;5;124m\"\u001b[39m, result)\n\u001b[1;32m     21\u001b[0m \u001b[38;5;66;03m# Run the async function properly\u001b[39;00m\n\u001b[0;32m---> 22\u001b[0m \u001b[43masyncio\u001b[49m\u001b[38;5;241;43m.\u001b[39;49m\u001b[43mrun\u001b[49m\u001b[43m(\u001b[49m\u001b[43minsert_and_query\u001b[49m\u001b[43m(\u001b[49m\u001b[43m)\u001b[49m\u001b[43m)\u001b[49m\n",
      "File \u001b[0;32m~/anaconda3/envs/python3/lib/python3.10/site-packages/nest_asyncio.py:30\u001b[0m, in \u001b[0;36m_patch_asyncio.<locals>.run\u001b[0;34m(main, debug)\u001b[0m\n\u001b[1;32m     28\u001b[0m task \u001b[38;5;241m=\u001b[39m asyncio\u001b[38;5;241m.\u001b[39mensure_future(main)\n\u001b[1;32m     29\u001b[0m \u001b[38;5;28;01mtry\u001b[39;00m:\n\u001b[0;32m---> 30\u001b[0m     \u001b[38;5;28;01mreturn\u001b[39;00m \u001b[43mloop\u001b[49m\u001b[38;5;241;43m.\u001b[39;49m\u001b[43mrun_until_complete\u001b[49m\u001b[43m(\u001b[49m\u001b[43mtask\u001b[49m\u001b[43m)\u001b[49m\n\u001b[1;32m     31\u001b[0m \u001b[38;5;28;01mfinally\u001b[39;00m:\n\u001b[1;32m     32\u001b[0m     \u001b[38;5;28;01mif\u001b[39;00m \u001b[38;5;129;01mnot\u001b[39;00m task\u001b[38;5;241m.\u001b[39mdone():\n",
      "File \u001b[0;32m~/anaconda3/envs/python3/lib/python3.10/site-packages/nest_asyncio.py:98\u001b[0m, in \u001b[0;36m_patch_loop.<locals>.run_until_complete\u001b[0;34m(self, future)\u001b[0m\n\u001b[1;32m     95\u001b[0m \u001b[38;5;28;01mif\u001b[39;00m \u001b[38;5;129;01mnot\u001b[39;00m f\u001b[38;5;241m.\u001b[39mdone():\n\u001b[1;32m     96\u001b[0m     \u001b[38;5;28;01mraise\u001b[39;00m \u001b[38;5;167;01mRuntimeError\u001b[39;00m(\n\u001b[1;32m     97\u001b[0m         \u001b[38;5;124m'\u001b[39m\u001b[38;5;124mEvent loop stopped before Future completed.\u001b[39m\u001b[38;5;124m'\u001b[39m)\n\u001b[0;32m---> 98\u001b[0m \u001b[38;5;28;01mreturn\u001b[39;00m \u001b[43mf\u001b[49m\u001b[38;5;241;43m.\u001b[39;49m\u001b[43mresult\u001b[49m\u001b[43m(\u001b[49m\u001b[43m)\u001b[49m\n",
      "File \u001b[0;32m~/anaconda3/envs/python3/lib/python3.10/asyncio/futures.py:201\u001b[0m, in \u001b[0;36mFuture.result\u001b[0;34m(self)\u001b[0m\n\u001b[1;32m    199\u001b[0m \u001b[38;5;28mself\u001b[39m\u001b[38;5;241m.\u001b[39m__log_traceback \u001b[38;5;241m=\u001b[39m \u001b[38;5;28;01mFalse\u001b[39;00m\n\u001b[1;32m    200\u001b[0m \u001b[38;5;28;01mif\u001b[39;00m \u001b[38;5;28mself\u001b[39m\u001b[38;5;241m.\u001b[39m_exception \u001b[38;5;129;01mis\u001b[39;00m \u001b[38;5;129;01mnot\u001b[39;00m \u001b[38;5;28;01mNone\u001b[39;00m:\n\u001b[0;32m--> 201\u001b[0m     \u001b[38;5;28;01mraise\u001b[39;00m \u001b[38;5;28mself\u001b[39m\u001b[38;5;241m.\u001b[39m_exception\u001b[38;5;241m.\u001b[39mwith_traceback(\u001b[38;5;28mself\u001b[39m\u001b[38;5;241m.\u001b[39m_exception_tb)\n\u001b[1;32m    202\u001b[0m \u001b[38;5;28;01mreturn\u001b[39;00m \u001b[38;5;28mself\u001b[39m\u001b[38;5;241m.\u001b[39m_result\n",
      "File \u001b[0;32m~/anaconda3/envs/python3/lib/python3.10/asyncio/tasks.py:234\u001b[0m, in \u001b[0;36mTask.__step\u001b[0;34m(***failed resolving arguments***)\u001b[0m\n\u001b[1;32m    232\u001b[0m         result \u001b[38;5;241m=\u001b[39m coro\u001b[38;5;241m.\u001b[39msend(\u001b[38;5;28;01mNone\u001b[39;00m)\n\u001b[1;32m    233\u001b[0m     \u001b[38;5;28;01melse\u001b[39;00m:\n\u001b[0;32m--> 234\u001b[0m         result \u001b[38;5;241m=\u001b[39m \u001b[43mcoro\u001b[49m\u001b[38;5;241;43m.\u001b[39;49m\u001b[43mthrow\u001b[49m\u001b[43m(\u001b[49m\u001b[43mexc\u001b[49m\u001b[43m)\u001b[49m\n\u001b[1;32m    235\u001b[0m \u001b[38;5;28;01mexcept\u001b[39;00m \u001b[38;5;167;01mStopIteration\u001b[39;00m \u001b[38;5;28;01mas\u001b[39;00m exc:\n\u001b[1;32m    236\u001b[0m     \u001b[38;5;28;01mif\u001b[39;00m \u001b[38;5;28mself\u001b[39m\u001b[38;5;241m.\u001b[39m_must_cancel:\n\u001b[1;32m    237\u001b[0m         \u001b[38;5;66;03m# Task is cancelled right before coro stops.\u001b[39;00m\n",
      "Cell \u001b[0;32mIn[38], line 13\u001b[0m, in \u001b[0;36minsert_and_query\u001b[0;34m()\u001b[0m\n\u001b[1;32m     10\u001b[0m data \u001b[38;5;241m=\u001b[39m [{\u001b[38;5;124m\"\u001b[39m\u001b[38;5;124mcontent\u001b[39m\u001b[38;5;124m\"\u001b[39m: \u001b[38;5;124m\"\u001b[39m\u001b[38;5;124mAI and data science are transforming the world.\u001b[39m\u001b[38;5;124m\"\u001b[39m}]\n\u001b[1;32m     12\u001b[0m \u001b[38;5;66;03m# Insert text into GraphRAG\u001b[39;00m\n\u001b[0;32m---> 13\u001b[0m \u001b[38;5;28;01mawait\u001b[39;00m graph_func\u001b[38;5;241m.\u001b[39mainsert(data)\n\u001b[1;32m     15\u001b[0m \u001b[38;5;66;03m# Run a query\u001b[39;00m\n\u001b[1;32m     16\u001b[0m question \u001b[38;5;241m=\u001b[39m \u001b[38;5;124m\"\u001b[39m\u001b[38;5;124mWhat are the key themes in this story?\u001b[39m\u001b[38;5;124m\"\u001b[39m\n",
      "Cell \u001b[0;32mIn[36], line 13\u001b[0m, in \u001b[0;36mGraphRAG.ainsert\u001b[0;34m(self, inserting_chunks)\u001b[0m\n\u001b[1;32m     10\u001b[0m logger\u001b[38;5;241m.\u001b[39minfo(\u001b[38;5;124m\"\u001b[39m\u001b[38;5;124m[Entity Extraction] Extracting entities...\u001b[39m\u001b[38;5;124m\"\u001b[39m)\n\u001b[1;32m     12\u001b[0m \u001b[38;5;66;03m# Extract entities using Bedrock\u001b[39;00m\n\u001b[0;32m---> 13\u001b[0m maybe_new_kg \u001b[38;5;241m=\u001b[39m \u001b[38;5;28;01mawait\u001b[39;00m \u001b[38;5;28mself\u001b[39m\u001b[38;5;241m.\u001b[39mextract_entities(inserting_chunks)\n\u001b[1;32m     15\u001b[0m \u001b[38;5;28;01mif\u001b[39;00m \u001b[38;5;129;01mnot\u001b[39;00m maybe_new_kg:\n\u001b[1;32m     16\u001b[0m     logger\u001b[38;5;241m.\u001b[39mwarning(\u001b[38;5;124m\"\u001b[39m\u001b[38;5;124mNo new entities found\u001b[39m\u001b[38;5;124m\"\u001b[39m)\n",
      "Cell \u001b[0;32mIn[36], line 43\u001b[0m, in \u001b[0;36mGraphRAG.extract_entities\u001b[0;34m(self, chunks)\u001b[0m\n\u001b[1;32m     40\u001b[0m     \u001b[38;5;28;01mreturn\u001b[39;00m result\n\u001b[1;32m     42\u001b[0m \u001b[38;5;66;03m# Run entity extraction in parallel\u001b[39;00m\n\u001b[0;32m---> 43\u001b[0m results \u001b[38;5;241m=\u001b[39m \u001b[38;5;28;01mawait\u001b[39;00m asyncio\u001b[38;5;241m.\u001b[39mgather(\u001b[38;5;241m*\u001b[39m[process_single_content(c) \u001b[38;5;28;01mfor\u001b[39;00m c \u001b[38;5;129;01min\u001b[39;00m chunks])\n\u001b[1;32m     45\u001b[0m \u001b[38;5;28;01mfor\u001b[39;00m result \u001b[38;5;129;01min\u001b[39;00m results:\n\u001b[1;32m     46\u001b[0m     \u001b[38;5;66;03m# Parse result if it's structured as JSON\u001b[39;00m\n\u001b[1;32m     47\u001b[0m     \u001b[38;5;28;01mtry\u001b[39;00m:\n",
      "File \u001b[0;32m~/anaconda3/envs/python3/lib/python3.10/asyncio/tasks.py:304\u001b[0m, in \u001b[0;36mTask.__wakeup\u001b[0;34m(self, future)\u001b[0m\n\u001b[1;32m    302\u001b[0m \u001b[38;5;28;01mdef\u001b[39;00m\u001b[38;5;250m \u001b[39m\u001b[38;5;21m__wakeup\u001b[39m(\u001b[38;5;28mself\u001b[39m, future):\n\u001b[1;32m    303\u001b[0m     \u001b[38;5;28;01mtry\u001b[39;00m:\n\u001b[0;32m--> 304\u001b[0m         \u001b[43mfuture\u001b[49m\u001b[38;5;241;43m.\u001b[39;49m\u001b[43mresult\u001b[49m\u001b[43m(\u001b[49m\u001b[43m)\u001b[49m\n\u001b[1;32m    305\u001b[0m     \u001b[38;5;28;01mexcept\u001b[39;00m \u001b[38;5;167;01mBaseException\u001b[39;00m \u001b[38;5;28;01mas\u001b[39;00m exc:\n\u001b[1;32m    306\u001b[0m         \u001b[38;5;66;03m# This may also be a cancellation.\u001b[39;00m\n\u001b[1;32m    307\u001b[0m         \u001b[38;5;28mself\u001b[39m\u001b[38;5;241m.\u001b[39m__step(exc)\n",
      "File \u001b[0;32m~/anaconda3/envs/python3/lib/python3.10/asyncio/tasks.py:232\u001b[0m, in \u001b[0;36mTask.__step\u001b[0;34m(***failed resolving arguments***)\u001b[0m\n\u001b[1;32m    228\u001b[0m \u001b[38;5;28;01mtry\u001b[39;00m:\n\u001b[1;32m    229\u001b[0m     \u001b[38;5;28;01mif\u001b[39;00m exc \u001b[38;5;129;01mis\u001b[39;00m \u001b[38;5;28;01mNone\u001b[39;00m:\n\u001b[1;32m    230\u001b[0m         \u001b[38;5;66;03m# We use the `send` method directly, because coroutines\u001b[39;00m\n\u001b[1;32m    231\u001b[0m         \u001b[38;5;66;03m# don't have `__iter__` and `__next__` methods.\u001b[39;00m\n\u001b[0;32m--> 232\u001b[0m         result \u001b[38;5;241m=\u001b[39m \u001b[43mcoro\u001b[49m\u001b[38;5;241;43m.\u001b[39;49m\u001b[43msend\u001b[49m\u001b[43m(\u001b[49m\u001b[38;5;28;43;01mNone\u001b[39;49;00m\u001b[43m)\u001b[49m\n\u001b[1;32m    233\u001b[0m     \u001b[38;5;28;01melse\u001b[39;00m:\n\u001b[1;32m    234\u001b[0m         result \u001b[38;5;241m=\u001b[39m coro\u001b[38;5;241m.\u001b[39mthrow(exc)\n",
      "Cell \u001b[0;32mIn[36], line 35\u001b[0m, in \u001b[0;36mGraphRAG.extract_entities.<locals>.process_single_content\u001b[0;34m(chunk)\u001b[0m\n\u001b[1;32m     32\u001b[0m prompt \u001b[38;5;241m=\u001b[39m \u001b[38;5;124mf\u001b[39m\u001b[38;5;124m\"\u001b[39m\u001b[38;5;124mExtract key entities from the following text:\u001b[39m\u001b[38;5;130;01m\\n\u001b[39;00m\u001b[38;5;130;01m\\n\u001b[39;00m\u001b[38;5;132;01m{\u001b[39;00mcontent\u001b[38;5;132;01m}\u001b[39;00m\u001b[38;5;124m\"\u001b[39m\n\u001b[1;32m     34\u001b[0m \u001b[38;5;66;03m# Query Bedrock\u001b[39;00m\n\u001b[0;32m---> 35\u001b[0m result \u001b[38;5;241m=\u001b[39m \u001b[38;5;28;01mawait\u001b[39;00m amazon_bedrock_complete(\n\u001b[1;32m     36\u001b[0m     model\u001b[38;5;241m=\u001b[39m\u001b[38;5;124m\"\u001b[39m\u001b[38;5;124mbedrock/us.meta.llama3-1-70b-instruct-v1:0\u001b[39m\u001b[38;5;124m\"\u001b[39m,\n\u001b[1;32m     37\u001b[0m     prompt\u001b[38;5;241m=\u001b[39mprompt\n\u001b[1;32m     38\u001b[0m )\n\u001b[1;32m     40\u001b[0m \u001b[38;5;28;01mreturn\u001b[39;00m result\n",
      "Cell \u001b[0;32mIn[35], line 13\u001b[0m, in \u001b[0;36mamazon_bedrock_complete\u001b[0;34m(model, prompt, max_tokens, temperature, top_p)\u001b[0m\n\u001b[1;32m      5\u001b[0m request_payload \u001b[38;5;241m=\u001b[39m {\n\u001b[1;32m      6\u001b[0m     \u001b[38;5;124m\"\u001b[39m\u001b[38;5;124mprompt\u001b[39m\u001b[38;5;124m\"\u001b[39m: prompt,\n\u001b[1;32m      7\u001b[0m     \u001b[38;5;124m\"\u001b[39m\u001b[38;5;124mmax_tokens\u001b[39m\u001b[38;5;124m\"\u001b[39m: max_tokens,\n\u001b[1;32m      8\u001b[0m     \u001b[38;5;124m\"\u001b[39m\u001b[38;5;124mtemperature\u001b[39m\u001b[38;5;124m\"\u001b[39m: temperature,\n\u001b[1;32m      9\u001b[0m     \u001b[38;5;124m\"\u001b[39m\u001b[38;5;124mtop_p\u001b[39m\u001b[38;5;124m\"\u001b[39m: top_p\n\u001b[1;32m     10\u001b[0m }\n\u001b[1;32m     12\u001b[0m \u001b[38;5;66;03m# Make the API call\u001b[39;00m\n\u001b[0;32m---> 13\u001b[0m response \u001b[38;5;241m=\u001b[39m \u001b[43mclient\u001b[49m\u001b[38;5;241;43m.\u001b[39;49m\u001b[43minvoke_model\u001b[49m\u001b[43m(\u001b[49m\n\u001b[1;32m     14\u001b[0m \u001b[43m    \u001b[49m\u001b[43mmodelId\u001b[49m\u001b[38;5;241;43m=\u001b[39;49m\u001b[43mmodel\u001b[49m\u001b[43m,\u001b[49m\n\u001b[1;32m     15\u001b[0m \u001b[43m    \u001b[49m\u001b[43mbody\u001b[49m\u001b[38;5;241;43m=\u001b[39;49m\u001b[43mjson\u001b[49m\u001b[38;5;241;43m.\u001b[39;49m\u001b[43mdumps\u001b[49m\u001b[43m(\u001b[49m\u001b[43mrequest_payload\u001b[49m\u001b[43m)\u001b[49m\u001b[38;5;241;43m.\u001b[39;49m\u001b[43mencode\u001b[49m\u001b[43m(\u001b[49m\u001b[38;5;124;43m\"\u001b[39;49m\u001b[38;5;124;43mutf-8\u001b[39;49m\u001b[38;5;124;43m\"\u001b[39;49m\u001b[43m)\u001b[49m\n\u001b[1;32m     16\u001b[0m \u001b[43m\u001b[49m\u001b[43m)\u001b[49m\n\u001b[1;32m     18\u001b[0m \u001b[38;5;66;03m# Read and decode response\u001b[39;00m\n\u001b[1;32m     19\u001b[0m response_body \u001b[38;5;241m=\u001b[39m json\u001b[38;5;241m.\u001b[39mloads(response[\u001b[38;5;124m'\u001b[39m\u001b[38;5;124mbody\u001b[39m\u001b[38;5;124m'\u001b[39m]\u001b[38;5;241m.\u001b[39mread()\u001b[38;5;241m.\u001b[39mdecode(\u001b[38;5;124m'\u001b[39m\u001b[38;5;124mutf-8\u001b[39m\u001b[38;5;124m'\u001b[39m))\n",
      "File \u001b[0;32m~/anaconda3/envs/python3/lib/python3.10/site-packages/botocore/client.py:569\u001b[0m, in \u001b[0;36mClientCreator._create_api_method.<locals>._api_call\u001b[0;34m(self, *args, **kwargs)\u001b[0m\n\u001b[1;32m    565\u001b[0m     \u001b[38;5;28;01mraise\u001b[39;00m \u001b[38;5;167;01mTypeError\u001b[39;00m(\n\u001b[1;32m    566\u001b[0m         \u001b[38;5;124mf\u001b[39m\u001b[38;5;124m\"\u001b[39m\u001b[38;5;132;01m{\u001b[39;00mpy_operation_name\u001b[38;5;132;01m}\u001b[39;00m\u001b[38;5;124m() only accepts keyword arguments.\u001b[39m\u001b[38;5;124m\"\u001b[39m\n\u001b[1;32m    567\u001b[0m     )\n\u001b[1;32m    568\u001b[0m \u001b[38;5;66;03m# The \"self\" in this scope is referring to the BaseClient.\u001b[39;00m\n\u001b[0;32m--> 569\u001b[0m \u001b[38;5;28;01mreturn\u001b[39;00m \u001b[38;5;28;43mself\u001b[39;49m\u001b[38;5;241;43m.\u001b[39;49m\u001b[43m_make_api_call\u001b[49m\u001b[43m(\u001b[49m\u001b[43moperation_name\u001b[49m\u001b[43m,\u001b[49m\u001b[43m \u001b[49m\u001b[43mkwargs\u001b[49m\u001b[43m)\u001b[49m\n",
      "File \u001b[0;32m~/anaconda3/envs/python3/lib/python3.10/site-packages/botocore/client.py:1023\u001b[0m, in \u001b[0;36mBaseClient._make_api_call\u001b[0;34m(self, operation_name, api_params)\u001b[0m\n\u001b[1;32m   1019\u001b[0m     error_code \u001b[38;5;241m=\u001b[39m error_info\u001b[38;5;241m.\u001b[39mget(\u001b[38;5;124m\"\u001b[39m\u001b[38;5;124mQueryErrorCode\u001b[39m\u001b[38;5;124m\"\u001b[39m) \u001b[38;5;129;01mor\u001b[39;00m error_info\u001b[38;5;241m.\u001b[39mget(\n\u001b[1;32m   1020\u001b[0m         \u001b[38;5;124m\"\u001b[39m\u001b[38;5;124mCode\u001b[39m\u001b[38;5;124m\"\u001b[39m\n\u001b[1;32m   1021\u001b[0m     )\n\u001b[1;32m   1022\u001b[0m     error_class \u001b[38;5;241m=\u001b[39m \u001b[38;5;28mself\u001b[39m\u001b[38;5;241m.\u001b[39mexceptions\u001b[38;5;241m.\u001b[39mfrom_code(error_code)\n\u001b[0;32m-> 1023\u001b[0m     \u001b[38;5;28;01mraise\u001b[39;00m error_class(parsed_response, operation_name)\n\u001b[1;32m   1024\u001b[0m \u001b[38;5;28;01melse\u001b[39;00m:\n\u001b[1;32m   1025\u001b[0m     \u001b[38;5;28;01mreturn\u001b[39;00m parsed_response\n",
      "\u001b[0;31mValidationException\u001b[0m: An error occurred (ValidationException) when calling the InvokeModel operation: Your account is not authorized to invoke this API operation."
     ]
    }
   ],
   "source": [
    "from collections import defaultdict\n",
    "\n",
    "async def insert_and_query():\n",
    "    \"\"\"\n",
    "    Inserts data into GraphRAG and queries it.\n",
    "    \"\"\"\n",
    "    graph_func = GraphRAG()\n",
    "\n",
    "    # Example input text\n",
    "    data = [{\"content\": \"AI and data science are transforming the world.\"}]\n",
    "\n",
    "    # Insert text into GraphRAG\n",
    "    await graph_func.ainsert(data)\n",
    "\n",
    "    # Run a query\n",
    "    question = \"What are the key themes in this story?\"\n",
    "    result = await graph_func.query(question)\n",
    "\n",
    "    print(\"\\n🏠 Local GraphRAG Search Result:\\n\", result)\n",
    "\n",
    "# Run the async function properly\n",
    "asyncio.run(insert_and_query())"
   ]
  },
  {
   "cell_type": "code",
   "execution_count": 39,
   "id": "b83c7007-8637-49df-88cf-312e006ea667",
   "metadata": {},
   "outputs": [],
   "source": [
    "import boto3\n",
    "import asyncio\n",
    "import json\n",
    "import logging\n",
    "from collections import defaultdict\n",
    "\n",
    "# Initialize Logging\n",
    "logging.basicConfig(level=logging.INFO)\n",
    "logger = logging.getLogger(__name__)\n",
    "\n",
    "# ✅ Initialize AWS Bedrock Client Externally\n",
    "bedrock_client = boto3.client(\"bedrock-runtime\")\n",
    "\n",
    "class NanoGraph:\n",
    "    def __init__(self, bedrock_client):\n",
    "        \"\"\"\n",
    "        Initialize NanoGraph with an externally provided Bedrock client.\n",
    "        \"\"\"\n",
    "        self.bedrock_client = bedrock_client\n",
    "        self.chunk_entity_relation_graph = defaultdict(list)\n",
    "        self.entities_vdb = defaultdict(list)\n",
    "\n",
    "    async def ainsert(self, inserting_chunks):\n",
    "        \"\"\"\n",
    "        Inserts new data into the knowledge graph.\n",
    "        \"\"\"\n",
    "        logger.info(\"[Entity Extraction] Extracting entities...\")\n",
    "        \n",
    "        maybe_new_kg = await self.extract_entities(inserting_chunks)\n",
    "\n",
    "        if not maybe_new_kg:\n",
    "            logger.warning(\"No new entities found\")\n",
    "            return\n",
    "\n",
    "        self.chunk_entity_relation_graph.update(maybe_new_kg)\n",
    "        logger.info(f\"✅ Updated Graph with {len(maybe_new_kg)} new entities.\")\n",
    "\n",
    "    async def extract_entities(self, chunks):\n",
    "        \"\"\"\n",
    "        Extracts entities from given text chunks using Amazon Bedrock.\n",
    "        \"\"\"\n",
    "        maybe_nodes = defaultdict(list)\n",
    "        maybe_edges = defaultdict(list)\n",
    "\n",
    "        async def process_single_content(chunk):\n",
    "            content = chunk[\"content\"]\n",
    "            prompt = f\"Extract key entities from the following text:\\n\\n{content}\"\n",
    "\n",
    "            # Query Bedrock using the externally provided client\n",
    "            result = await self.query_bedrock(prompt)\n",
    "\n",
    "            return result\n",
    "\n",
    "        results = await asyncio.gather(*[process_single_content(c) for c in chunks])\n",
    "\n",
    "        for result in results:\n",
    "            try:\n",
    "                extracted_data = json.loads(result)\n",
    "                maybe_nodes.update(extracted_data.get(\"nodes\", {}))\n",
    "                maybe_edges.update(extracted_data.get(\"edges\", {}))\n",
    "            except json.JSONDecodeError:\n",
    "                logger.warning(f\"⚠️ Could not parse entity extraction result: {result}\")\n",
    "\n",
    "        return dict(maybe_nodes), dict(maybe_edges)\n",
    "\n",
    "    async def query_bedrock(self, prompt, model=\"bedrock/us.meta.llama3-1-70b-instruct-v1:0\", max_tokens=500, temperature=0.7, top_p=1):\n",
    "        \"\"\"\n",
    "        Queries Amazon Bedrock with the specified parameters.\n",
    "        \"\"\"\n",
    "        request_payload = {\n",
    "            \"prompt\": prompt,\n",
    "            \"max_tokens\": max_tokens,\n",
    "            \"temperature\": temperature,\n",
    "            \"top_p\": top_p\n",
    "        }\n",
    "\n",
    "        try:\n",
    "            response = self.bedrock_client.invoke_model(\n",
    "                modelId=model,\n",
    "                body=json.dumps(request_payload).encode(\"utf-8\")\n",
    "            )\n",
    "            response_body = json.loads(response['body'].read().decode('utf-8'))\n",
    "            return response_body.get(\"output\", {}).get(\"message\", {}).get(\"content\", \"\")\n",
    "        except Exception as e:\n",
    "            logger.error(f\"❌ Bedrock API Error: {e}\")\n",
    "            return \"\"\n",
    "\n",
    "    async def query(self, question):\n",
    "        \"\"\"\n",
    "        Queries the knowledge graph.\n",
    "        \"\"\"\n",
    "        prompt = f\"Based on the following knowledge graph, answer: {question}\"\n",
    "        response = await self.query_bedrock(prompt)\n",
    "        return response"
   ]
  },
  {
   "cell_type": "code",
   "execution_count": 40,
   "id": "e471f6a0-f806-403f-8397-3bbc94d53f59",
   "metadata": {},
   "outputs": [
    {
     "name": "stderr",
     "output_type": "stream",
     "text": [
      "[2025-02-13 23:51:53,066] p1310 {4016533095.py:27} INFO - [Entity Extraction] Extracting entities...\n",
      "[2025-02-13 23:51:53,129] p1310 {4016533095.py:85} ERROR - ❌ Bedrock API Error: An error occurred (ValidationException) when calling the InvokeModel operation: Your account is not authorized to invoke this API operation.\n",
      "[2025-02-13 23:51:53,131] p1310 {4016533095.py:62} WARNING - ⚠️ Could not parse entity extraction result: \n"
     ]
    },
    {
     "ename": "ValueError",
     "evalue": "dictionary update sequence element #0 has length 0; 2 is required",
     "output_type": "error",
     "traceback": [
      "\u001b[0;31m---------------------------------------------------------------------------\u001b[0m",
      "\u001b[0;31mValueError\u001b[0m                                Traceback (most recent call last)",
      "Cell \u001b[0;32mIn[40], line 20\u001b[0m\n\u001b[1;32m     17\u001b[0m     \u001b[38;5;28mprint\u001b[39m(\u001b[38;5;124m\"\u001b[39m\u001b[38;5;130;01m\\n\u001b[39;00m\u001b[38;5;124m🏠 NanoGraph Search Result:\u001b[39m\u001b[38;5;130;01m\\n\u001b[39;00m\u001b[38;5;124m\"\u001b[39m, result)\n\u001b[1;32m     19\u001b[0m \u001b[38;5;66;03m# Run the async function properly\u001b[39;00m\n\u001b[0;32m---> 20\u001b[0m \u001b[43masyncio\u001b[49m\u001b[38;5;241;43m.\u001b[39;49m\u001b[43mrun\u001b[49m\u001b[43m(\u001b[49m\u001b[43minsert_and_query\u001b[49m\u001b[43m(\u001b[49m\u001b[43m)\u001b[49m\u001b[43m)\u001b[49m\n",
      "File \u001b[0;32m~/anaconda3/envs/python3/lib/python3.10/site-packages/nest_asyncio.py:30\u001b[0m, in \u001b[0;36m_patch_asyncio.<locals>.run\u001b[0;34m(main, debug)\u001b[0m\n\u001b[1;32m     28\u001b[0m task \u001b[38;5;241m=\u001b[39m asyncio\u001b[38;5;241m.\u001b[39mensure_future(main)\n\u001b[1;32m     29\u001b[0m \u001b[38;5;28;01mtry\u001b[39;00m:\n\u001b[0;32m---> 30\u001b[0m     \u001b[38;5;28;01mreturn\u001b[39;00m \u001b[43mloop\u001b[49m\u001b[38;5;241;43m.\u001b[39;49m\u001b[43mrun_until_complete\u001b[49m\u001b[43m(\u001b[49m\u001b[43mtask\u001b[49m\u001b[43m)\u001b[49m\n\u001b[1;32m     31\u001b[0m \u001b[38;5;28;01mfinally\u001b[39;00m:\n\u001b[1;32m     32\u001b[0m     \u001b[38;5;28;01mif\u001b[39;00m \u001b[38;5;129;01mnot\u001b[39;00m task\u001b[38;5;241m.\u001b[39mdone():\n",
      "File \u001b[0;32m~/anaconda3/envs/python3/lib/python3.10/site-packages/nest_asyncio.py:98\u001b[0m, in \u001b[0;36m_patch_loop.<locals>.run_until_complete\u001b[0;34m(self, future)\u001b[0m\n\u001b[1;32m     95\u001b[0m \u001b[38;5;28;01mif\u001b[39;00m \u001b[38;5;129;01mnot\u001b[39;00m f\u001b[38;5;241m.\u001b[39mdone():\n\u001b[1;32m     96\u001b[0m     \u001b[38;5;28;01mraise\u001b[39;00m \u001b[38;5;167;01mRuntimeError\u001b[39;00m(\n\u001b[1;32m     97\u001b[0m         \u001b[38;5;124m'\u001b[39m\u001b[38;5;124mEvent loop stopped before Future completed.\u001b[39m\u001b[38;5;124m'\u001b[39m)\n\u001b[0;32m---> 98\u001b[0m \u001b[38;5;28;01mreturn\u001b[39;00m \u001b[43mf\u001b[49m\u001b[38;5;241;43m.\u001b[39;49m\u001b[43mresult\u001b[49m\u001b[43m(\u001b[49m\u001b[43m)\u001b[49m\n",
      "File \u001b[0;32m~/anaconda3/envs/python3/lib/python3.10/asyncio/futures.py:201\u001b[0m, in \u001b[0;36mFuture.result\u001b[0;34m(self)\u001b[0m\n\u001b[1;32m    199\u001b[0m \u001b[38;5;28mself\u001b[39m\u001b[38;5;241m.\u001b[39m__log_traceback \u001b[38;5;241m=\u001b[39m \u001b[38;5;28;01mFalse\u001b[39;00m\n\u001b[1;32m    200\u001b[0m \u001b[38;5;28;01mif\u001b[39;00m \u001b[38;5;28mself\u001b[39m\u001b[38;5;241m.\u001b[39m_exception \u001b[38;5;129;01mis\u001b[39;00m \u001b[38;5;129;01mnot\u001b[39;00m \u001b[38;5;28;01mNone\u001b[39;00m:\n\u001b[0;32m--> 201\u001b[0m     \u001b[38;5;28;01mraise\u001b[39;00m \u001b[38;5;28mself\u001b[39m\u001b[38;5;241m.\u001b[39m_exception\u001b[38;5;241m.\u001b[39mwith_traceback(\u001b[38;5;28mself\u001b[39m\u001b[38;5;241m.\u001b[39m_exception_tb)\n\u001b[1;32m    202\u001b[0m \u001b[38;5;28;01mreturn\u001b[39;00m \u001b[38;5;28mself\u001b[39m\u001b[38;5;241m.\u001b[39m_result\n",
      "File \u001b[0;32m~/anaconda3/envs/python3/lib/python3.10/asyncio/tasks.py:232\u001b[0m, in \u001b[0;36mTask.__step\u001b[0;34m(***failed resolving arguments***)\u001b[0m\n\u001b[1;32m    228\u001b[0m \u001b[38;5;28;01mtry\u001b[39;00m:\n\u001b[1;32m    229\u001b[0m     \u001b[38;5;28;01mif\u001b[39;00m exc \u001b[38;5;129;01mis\u001b[39;00m \u001b[38;5;28;01mNone\u001b[39;00m:\n\u001b[1;32m    230\u001b[0m         \u001b[38;5;66;03m# We use the `send` method directly, because coroutines\u001b[39;00m\n\u001b[1;32m    231\u001b[0m         \u001b[38;5;66;03m# don't have `__iter__` and `__next__` methods.\u001b[39;00m\n\u001b[0;32m--> 232\u001b[0m         result \u001b[38;5;241m=\u001b[39m \u001b[43mcoro\u001b[49m\u001b[38;5;241;43m.\u001b[39;49m\u001b[43msend\u001b[49m\u001b[43m(\u001b[49m\u001b[38;5;28;43;01mNone\u001b[39;49;00m\u001b[43m)\u001b[49m\n\u001b[1;32m    233\u001b[0m     \u001b[38;5;28;01melse\u001b[39;00m:\n\u001b[1;32m    234\u001b[0m         result \u001b[38;5;241m=\u001b[39m coro\u001b[38;5;241m.\u001b[39mthrow(exc)\n",
      "Cell \u001b[0;32mIn[40], line 11\u001b[0m, in \u001b[0;36minsert_and_query\u001b[0;34m()\u001b[0m\n\u001b[1;32m      8\u001b[0m data \u001b[38;5;241m=\u001b[39m [{\u001b[38;5;124m\"\u001b[39m\u001b[38;5;124mcontent\u001b[39m\u001b[38;5;124m\"\u001b[39m: \u001b[38;5;124m\"\u001b[39m\u001b[38;5;124mAI and data science are transforming the world.\u001b[39m\u001b[38;5;124m\"\u001b[39m}]\n\u001b[1;32m     10\u001b[0m \u001b[38;5;66;03m# Insert text into NanoGraph\u001b[39;00m\n\u001b[0;32m---> 11\u001b[0m \u001b[38;5;28;01mawait\u001b[39;00m graph_func\u001b[38;5;241m.\u001b[39mainsert(data)\n\u001b[1;32m     13\u001b[0m \u001b[38;5;66;03m# Run a query\u001b[39;00m\n\u001b[1;32m     14\u001b[0m question \u001b[38;5;241m=\u001b[39m \u001b[38;5;124m\"\u001b[39m\u001b[38;5;124mWhat are the key themes in this story?\u001b[39m\u001b[38;5;124m\"\u001b[39m\n",
      "Cell \u001b[0;32mIn[39], line 35\u001b[0m, in \u001b[0;36mNanoGraph.ainsert\u001b[0;34m(self, inserting_chunks)\u001b[0m\n\u001b[1;32m     32\u001b[0m     logger\u001b[38;5;241m.\u001b[39mwarning(\u001b[38;5;124m\"\u001b[39m\u001b[38;5;124mNo new entities found\u001b[39m\u001b[38;5;124m\"\u001b[39m)\n\u001b[1;32m     33\u001b[0m     \u001b[38;5;28;01mreturn\u001b[39;00m\n\u001b[0;32m---> 35\u001b[0m \u001b[38;5;28;43mself\u001b[39;49m\u001b[38;5;241;43m.\u001b[39;49m\u001b[43mchunk_entity_relation_graph\u001b[49m\u001b[38;5;241;43m.\u001b[39;49m\u001b[43mupdate\u001b[49m\u001b[43m(\u001b[49m\u001b[43mmaybe_new_kg\u001b[49m\u001b[43m)\u001b[49m\n\u001b[1;32m     36\u001b[0m logger\u001b[38;5;241m.\u001b[39minfo(\u001b[38;5;124mf\u001b[39m\u001b[38;5;124m\"\u001b[39m\u001b[38;5;124m✅ Updated Graph with \u001b[39m\u001b[38;5;132;01m{\u001b[39;00m\u001b[38;5;28mlen\u001b[39m(maybe_new_kg)\u001b[38;5;132;01m}\u001b[39;00m\u001b[38;5;124m new entities.\u001b[39m\u001b[38;5;124m\"\u001b[39m)\n",
      "\u001b[0;31mValueError\u001b[0m: dictionary update sequence element #0 has length 0; 2 is required"
     ]
    }
   ],
   "source": [
    "async def insert_and_query():\n",
    "    \"\"\"\n",
    "    Inserts data into NanoGraph and queries it.\n",
    "    \"\"\"\n",
    "    graph_func = NanoGraph(bedrock_client)  # ✅ Injecting Bedrock client\n",
    "\n",
    "    # Example input text\n",
    "    data = [{\"content\": \"AI and data science are transforming the world.\"}]\n",
    "\n",
    "    # Insert text into NanoGraph\n",
    "    await graph_func.ainsert(data)\n",
    "\n",
    "    # Run a query\n",
    "    question = \"What are the key themes in this story?\"\n",
    "    result = await graph_func.query(question)\n",
    "\n",
    "    print(\"\\n🏠 NanoGraph Search Result:\\n\", result)\n",
    "\n",
    "# Run the async function properly\n",
    "asyncio.run(insert_and_query())"
   ]
  },
  {
   "cell_type": "code",
   "execution_count": 41,
   "id": "c181bdfb-7e36-48e0-997c-626e2676d658",
   "metadata": {},
   "outputs": [],
   "source": [
    "import boto3\n",
    "import asyncio\n",
    "import json\n",
    "import logging\n",
    "from collections import defaultdict\n",
    "\n",
    "# Initialize Logging\n",
    "logging.basicConfig(level=logging.INFO)\n",
    "logger = logging.getLogger(__name__)\n",
    "\n",
    "# ✅ Initialize AWS Bedrock Client Externally\n",
    "bedrock_client = boto3.client(\"bedrock-runtime\")\n",
    "\n",
    "class NanoGraph:\n",
    "    def __init__(self, bedrock_client):\n",
    "        \"\"\"\n",
    "        Initialize NanoGraph with an externally provided Bedrock client.\n",
    "        \"\"\"\n",
    "        self.bedrock_client = bedrock_client\n",
    "        self.chunk_entity_relation_graph = defaultdict(list)\n",
    "        self.entities_vdb = defaultdict(list)\n",
    "\n",
    "    async def ainsert(self, inserting_chunks):\n",
    "        \"\"\"\n",
    "        Inserts new data into the knowledge graph.\n",
    "        \"\"\"\n",
    "        logger.info(\"[Entity Extraction] Extracting entities...\")\n",
    "        \n",
    "        maybe_new_kg = await self.extract_entities(inserting_chunks)\n",
    "\n",
    "        if not maybe_new_kg:\n",
    "            logger.warning(\"⚠️ No new entities found, skipping graph update.\")\n",
    "            return\n",
    "\n",
    "        # ✅ Fix: Ensure dictionary update is valid\n",
    "        for key, value in maybe_new_kg.items():\n",
    "            self.chunk_entity_relation_graph[key].extend(value)\n",
    "\n",
    "        logger.info(f\"✅ Updated Graph with {len(maybe_new_kg)} new entities.\")\n",
    "\n",
    "    async def extract_entities(self, chunks):\n",
    "        \"\"\"\n",
    "        Extracts entities from given text chunks using Amazon Bedrock.\n",
    "        \"\"\"\n",
    "        maybe_nodes = defaultdict(list)\n",
    "        maybe_edges = defaultdict(list)\n",
    "\n",
    "        async def process_single_content(chunk):\n",
    "            content = chunk[\"content\"]\n",
    "            prompt = f\"Extract key entities from the following text:\\n\\n{content}\"\n",
    "\n",
    "            # Query Bedrock using the externally provided client\n",
    "            result = await self.query_bedrock(prompt)\n",
    "\n",
    "            return result\n",
    "\n",
    "        results = await asyncio.gather(*[process_single_content(c) for c in chunks])\n",
    "\n",
    "        for result in results:\n",
    "            if not result:\n",
    "                logger.warning(\"⚠️ Empty response from Bedrock API.\")\n",
    "                continue\n",
    "\n",
    "            try:\n",
    "                extracted_data = json.loads(result)\n",
    "                maybe_nodes.update(extracted_data.get(\"nodes\", {}))\n",
    "                maybe_edges.update(extracted_data.get(\"edges\", {}))\n",
    "            except json.JSONDecodeError:\n",
    "                logger.warning(f\"⚠️ Could not parse entity extraction result: {result}\")\n",
    "\n",
    "        return dict(maybe_nodes), dict(maybe_edges)\n",
    "\n",
    "    async def query_bedrock(self, prompt, model=\"bedrock/us.meta.llama3-1-70b-instruct-v1:0\", max_tokens=500, temperature=0.7, top_p=1):\n",
    "        \"\"\"\n",
    "        Queries Amazon Bedrock with the specified parameters.\n",
    "        \"\"\"\n",
    "        request_payload = {\n",
    "            \"prompt\": prompt,\n",
    "            \"max_tokens\": max_tokens,\n",
    "            \"temperature\": temperature,\n",
    "            \"top_p\": top_p\n",
    "        }\n",
    "\n",
    "        try:\n",
    "            response = self.bedrock_client.invoke_model(\n",
    "                modelId=model,\n",
    "                body=json.dumps(request_payload).encode(\"utf-8\")\n",
    "            )\n",
    "            response_body = json.loads(response['body'].read().decode('utf-8'))\n",
    "            return response_body.get(\"output\", {}).get(\"message\", {}).get(\"content\", \"\")\n",
    "        except Exception as e:\n",
    "            logger.error(f\"❌ Bedrock API Error: {e}\")\n",
    "            return \"\"\n",
    "\n",
    "    async def query(self, question):\n",
    "        \"\"\"\n",
    "        Queries the knowledge graph.\n",
    "        \"\"\"\n",
    "        prompt = f\"Based on the following knowledge graph, answer: {question}\"\n",
    "        response = await self.query_bedrock(prompt)\n",
    "        return response"
   ]
  },
  {
   "cell_type": "code",
   "execution_count": 42,
   "id": "d3668a00-9c0e-4a70-9153-aa39ac281fb4",
   "metadata": {},
   "outputs": [
    {
     "name": "stderr",
     "output_type": "stream",
     "text": [
      "[2025-02-13 23:53:37,255] p1310 {2068706249.py:27} INFO - [Entity Extraction] Extracting entities...\n",
      "[2025-02-13 23:53:37,308] p1310 {2068706249.py:92} ERROR - ❌ Bedrock API Error: An error occurred (ValidationException) when calling the InvokeModel operation: Your account is not authorized to invoke this API operation.\n",
      "[2025-02-13 23:53:37,310] p1310 {2068706249.py:61} WARNING - ⚠️ Empty response from Bedrock API.\n"
     ]
    },
    {
     "ename": "AttributeError",
     "evalue": "'tuple' object has no attribute 'items'",
     "output_type": "error",
     "traceback": [
      "\u001b[0;31m---------------------------------------------------------------------------\u001b[0m",
      "\u001b[0;31mAttributeError\u001b[0m                            Traceback (most recent call last)",
      "Cell \u001b[0;32mIn[42], line 20\u001b[0m\n\u001b[1;32m     17\u001b[0m     \u001b[38;5;28mprint\u001b[39m(\u001b[38;5;124m\"\u001b[39m\u001b[38;5;130;01m\\n\u001b[39;00m\u001b[38;5;124m🏠 NanoGraph Search Result:\u001b[39m\u001b[38;5;130;01m\\n\u001b[39;00m\u001b[38;5;124m\"\u001b[39m, result)\n\u001b[1;32m     19\u001b[0m \u001b[38;5;66;03m# Run the async function properly\u001b[39;00m\n\u001b[0;32m---> 20\u001b[0m \u001b[43masyncio\u001b[49m\u001b[38;5;241;43m.\u001b[39;49m\u001b[43mrun\u001b[49m\u001b[43m(\u001b[49m\u001b[43minsert_and_query\u001b[49m\u001b[43m(\u001b[49m\u001b[43m)\u001b[49m\u001b[43m)\u001b[49m\n",
      "File \u001b[0;32m~/anaconda3/envs/python3/lib/python3.10/site-packages/nest_asyncio.py:30\u001b[0m, in \u001b[0;36m_patch_asyncio.<locals>.run\u001b[0;34m(main, debug)\u001b[0m\n\u001b[1;32m     28\u001b[0m task \u001b[38;5;241m=\u001b[39m asyncio\u001b[38;5;241m.\u001b[39mensure_future(main)\n\u001b[1;32m     29\u001b[0m \u001b[38;5;28;01mtry\u001b[39;00m:\n\u001b[0;32m---> 30\u001b[0m     \u001b[38;5;28;01mreturn\u001b[39;00m \u001b[43mloop\u001b[49m\u001b[38;5;241;43m.\u001b[39;49m\u001b[43mrun_until_complete\u001b[49m\u001b[43m(\u001b[49m\u001b[43mtask\u001b[49m\u001b[43m)\u001b[49m\n\u001b[1;32m     31\u001b[0m \u001b[38;5;28;01mfinally\u001b[39;00m:\n\u001b[1;32m     32\u001b[0m     \u001b[38;5;28;01mif\u001b[39;00m \u001b[38;5;129;01mnot\u001b[39;00m task\u001b[38;5;241m.\u001b[39mdone():\n",
      "File \u001b[0;32m~/anaconda3/envs/python3/lib/python3.10/site-packages/nest_asyncio.py:98\u001b[0m, in \u001b[0;36m_patch_loop.<locals>.run_until_complete\u001b[0;34m(self, future)\u001b[0m\n\u001b[1;32m     95\u001b[0m \u001b[38;5;28;01mif\u001b[39;00m \u001b[38;5;129;01mnot\u001b[39;00m f\u001b[38;5;241m.\u001b[39mdone():\n\u001b[1;32m     96\u001b[0m     \u001b[38;5;28;01mraise\u001b[39;00m \u001b[38;5;167;01mRuntimeError\u001b[39;00m(\n\u001b[1;32m     97\u001b[0m         \u001b[38;5;124m'\u001b[39m\u001b[38;5;124mEvent loop stopped before Future completed.\u001b[39m\u001b[38;5;124m'\u001b[39m)\n\u001b[0;32m---> 98\u001b[0m \u001b[38;5;28;01mreturn\u001b[39;00m \u001b[43mf\u001b[49m\u001b[38;5;241;43m.\u001b[39;49m\u001b[43mresult\u001b[49m\u001b[43m(\u001b[49m\u001b[43m)\u001b[49m\n",
      "File \u001b[0;32m~/anaconda3/envs/python3/lib/python3.10/asyncio/futures.py:201\u001b[0m, in \u001b[0;36mFuture.result\u001b[0;34m(self)\u001b[0m\n\u001b[1;32m    199\u001b[0m \u001b[38;5;28mself\u001b[39m\u001b[38;5;241m.\u001b[39m__log_traceback \u001b[38;5;241m=\u001b[39m \u001b[38;5;28;01mFalse\u001b[39;00m\n\u001b[1;32m    200\u001b[0m \u001b[38;5;28;01mif\u001b[39;00m \u001b[38;5;28mself\u001b[39m\u001b[38;5;241m.\u001b[39m_exception \u001b[38;5;129;01mis\u001b[39;00m \u001b[38;5;129;01mnot\u001b[39;00m \u001b[38;5;28;01mNone\u001b[39;00m:\n\u001b[0;32m--> 201\u001b[0m     \u001b[38;5;28;01mraise\u001b[39;00m \u001b[38;5;28mself\u001b[39m\u001b[38;5;241m.\u001b[39m_exception\u001b[38;5;241m.\u001b[39mwith_traceback(\u001b[38;5;28mself\u001b[39m\u001b[38;5;241m.\u001b[39m_exception_tb)\n\u001b[1;32m    202\u001b[0m \u001b[38;5;28;01mreturn\u001b[39;00m \u001b[38;5;28mself\u001b[39m\u001b[38;5;241m.\u001b[39m_result\n",
      "File \u001b[0;32m~/anaconda3/envs/python3/lib/python3.10/asyncio/tasks.py:232\u001b[0m, in \u001b[0;36mTask.__step\u001b[0;34m(***failed resolving arguments***)\u001b[0m\n\u001b[1;32m    228\u001b[0m \u001b[38;5;28;01mtry\u001b[39;00m:\n\u001b[1;32m    229\u001b[0m     \u001b[38;5;28;01mif\u001b[39;00m exc \u001b[38;5;129;01mis\u001b[39;00m \u001b[38;5;28;01mNone\u001b[39;00m:\n\u001b[1;32m    230\u001b[0m         \u001b[38;5;66;03m# We use the `send` method directly, because coroutines\u001b[39;00m\n\u001b[1;32m    231\u001b[0m         \u001b[38;5;66;03m# don't have `__iter__` and `__next__` methods.\u001b[39;00m\n\u001b[0;32m--> 232\u001b[0m         result \u001b[38;5;241m=\u001b[39m \u001b[43mcoro\u001b[49m\u001b[38;5;241;43m.\u001b[39;49m\u001b[43msend\u001b[49m\u001b[43m(\u001b[49m\u001b[38;5;28;43;01mNone\u001b[39;49;00m\u001b[43m)\u001b[49m\n\u001b[1;32m    233\u001b[0m     \u001b[38;5;28;01melse\u001b[39;00m:\n\u001b[1;32m    234\u001b[0m         result \u001b[38;5;241m=\u001b[39m coro\u001b[38;5;241m.\u001b[39mthrow(exc)\n",
      "Cell \u001b[0;32mIn[42], line 11\u001b[0m, in \u001b[0;36minsert_and_query\u001b[0;34m()\u001b[0m\n\u001b[1;32m      8\u001b[0m data \u001b[38;5;241m=\u001b[39m [{\u001b[38;5;124m\"\u001b[39m\u001b[38;5;124mcontent\u001b[39m\u001b[38;5;124m\"\u001b[39m: \u001b[38;5;124m\"\u001b[39m\u001b[38;5;124mAI and data science are transforming the world.\u001b[39m\u001b[38;5;124m\"\u001b[39m}]\n\u001b[1;32m     10\u001b[0m \u001b[38;5;66;03m# Insert text into NanoGraph\u001b[39;00m\n\u001b[0;32m---> 11\u001b[0m \u001b[38;5;28;01mawait\u001b[39;00m graph_func\u001b[38;5;241m.\u001b[39mainsert(data)\n\u001b[1;32m     13\u001b[0m \u001b[38;5;66;03m# Run a query\u001b[39;00m\n\u001b[1;32m     14\u001b[0m question \u001b[38;5;241m=\u001b[39m \u001b[38;5;124m\"\u001b[39m\u001b[38;5;124mWhat are the key themes in this story?\u001b[39m\u001b[38;5;124m\"\u001b[39m\n",
      "Cell \u001b[0;32mIn[41], line 36\u001b[0m, in \u001b[0;36mNanoGraph.ainsert\u001b[0;34m(self, inserting_chunks)\u001b[0m\n\u001b[1;32m     33\u001b[0m     \u001b[38;5;28;01mreturn\u001b[39;00m\n\u001b[1;32m     35\u001b[0m \u001b[38;5;66;03m# ✅ Fix: Ensure dictionary update is valid\u001b[39;00m\n\u001b[0;32m---> 36\u001b[0m \u001b[38;5;28;01mfor\u001b[39;00m key, value \u001b[38;5;129;01min\u001b[39;00m \u001b[43mmaybe_new_kg\u001b[49m\u001b[38;5;241;43m.\u001b[39;49m\u001b[43mitems\u001b[49m():\n\u001b[1;32m     37\u001b[0m     \u001b[38;5;28mself\u001b[39m\u001b[38;5;241m.\u001b[39mchunk_entity_relation_graph[key]\u001b[38;5;241m.\u001b[39mextend(value)\n\u001b[1;32m     39\u001b[0m logger\u001b[38;5;241m.\u001b[39minfo(\u001b[38;5;124mf\u001b[39m\u001b[38;5;124m\"\u001b[39m\u001b[38;5;124m✅ Updated Graph with \u001b[39m\u001b[38;5;132;01m{\u001b[39;00m\u001b[38;5;28mlen\u001b[39m(maybe_new_kg)\u001b[38;5;132;01m}\u001b[39;00m\u001b[38;5;124m new entities.\u001b[39m\u001b[38;5;124m\"\u001b[39m)\n",
      "\u001b[0;31mAttributeError\u001b[0m: 'tuple' object has no attribute 'items'"
     ]
    }
   ],
   "source": [
    "async def insert_and_query():\n",
    "    \"\"\"\n",
    "    Inserts data into NanoGraph and queries it.\n",
    "    \"\"\"\n",
    "    graph_func = NanoGraph(bedrock_client)  # ✅ Injecting Bedrock client\n",
    "\n",
    "    # Example input text\n",
    "    data = [{\"content\": \"AI and data science are transforming the world.\"}]\n",
    "\n",
    "    # Insert text into NanoGraph\n",
    "    await graph_func.ainsert(data)\n",
    "\n",
    "    # Run a query\n",
    "    question = \"What are the key themes in this story?\"\n",
    "    result = await graph_func.query(question)\n",
    "\n",
    "    print(\"\\n🏠 NanoGraph Search Result:\\n\", result)\n",
    "\n",
    "# Run the async function properly\n",
    "asyncio.run(insert_and_query())"
   ]
  },
  {
   "cell_type": "code",
   "execution_count": 43,
   "id": "22bf8f49-9945-41a9-9331-21171f3ab40f",
   "metadata": {},
   "outputs": [],
   "source": [
    "import boto3\n",
    "import asyncio\n",
    "import json\n",
    "import logging\n",
    "from collections import defaultdict\n",
    "\n",
    "# Initialize Logging\n",
    "logging.basicConfig(level=logging.INFO)\n",
    "logger = logging.getLogger(__name__)\n",
    "\n",
    "# ✅ Initialize AWS Bedrock Client\n",
    "bedrock_client = boto3.client(\"bedrock-runtime\")\n",
    "\n",
    "class NanoGraph:\n",
    "    def __init__(self, bedrock_client):\n",
    "        \"\"\"\n",
    "        Initialize NanoGraph with an externally provided Bedrock client.\n",
    "        \"\"\"\n",
    "        self.bedrock_client = bedrock_client\n",
    "        self.chunk_entity_relation_graph = defaultdict(list)\n",
    "        self.entities_vdb = defaultdict(list)\n",
    "\n",
    "    async def ainsert(self, inserting_chunks):\n",
    "        \"\"\"\n",
    "        Inserts new data into the knowledge graph.\n",
    "        \"\"\"\n",
    "        logger.info(\"[Entity Extraction] Extracting entities...\")\n",
    "        \n",
    "        # ✅ Unpacking tuple correctly\n",
    "        maybe_nodes, maybe_edges = await self.extract_entities(inserting_chunks)\n",
    "\n",
    "        if not maybe_nodes and not maybe_edges:\n",
    "            logger.warning(\"⚠️ No new entities found, skipping graph update.\")\n",
    "            return\n",
    "\n",
    "        # ✅ Updating the dictionaries separately\n",
    "        for key, value in maybe_nodes.items():\n",
    "            self.chunk_entity_relation_graph[key].extend(value)\n",
    "        for key, value in maybe_edges.items():\n",
    "            self.entities_vdb[key].extend(value)\n",
    "\n",
    "        logger.info(f\"✅ Updated Graph with {len(maybe_nodes)} new entities and {len(maybe_edges)} edges.\")\n",
    "\n",
    "    async def extract_entities(self, chunks):\n",
    "        \"\"\"\n",
    "        Extracts entities from given text chunks using Amazon Bedrock.\n",
    "        \"\"\"\n",
    "        maybe_nodes = defaultdict(list)\n",
    "        maybe_edges = defaultdict(list)\n",
    "\n",
    "        async def process_single_content(chunk):\n",
    "            content = chunk[\"content\"]\n",
    "            prompt = f\"Extract key entities from the following text:\\n\\n{content}\"\n",
    "\n",
    "            # Query Bedrock using the externally provided client\n",
    "            result = await self.query_bedrock(prompt)\n",
    "            return result\n",
    "\n",
    "        results = await asyncio.gather(*[process_single_content(c) for c in chunks])\n",
    "\n",
    "        for result in results:\n",
    "            if not result:\n",
    "                logger.warning(\"⚠️ Empty response from Bedrock API.\")\n",
    "                continue\n",
    "\n",
    "            try:\n",
    "                extracted_data = json.loads(result)\n",
    "                for key, value in extracted_data.get(\"nodes\", {}).items():\n",
    "                    maybe_nodes[key].extend(value)\n",
    "                for key, value in extracted_data.get(\"edges\", {}).items():\n",
    "                    maybe_edges[key].extend(value)\n",
    "            except json.JSONDecodeError:\n",
    "                logger.warning(f\"⚠️ Could not parse entity extraction result: {result}\")\n",
    "\n",
    "        return dict(maybe_nodes), dict(maybe_edges)  # ✅ Returning a tuple (nodes, edges)\n",
    "\n",
    "    async def query_bedrock(self, prompt, model=\"bedrock/us.meta.llama3-1-70b-instruct-v1:0\", max_tokens=500, temperature=0.7, top_p=1):\n",
    "        \"\"\"\n",
    "        Queries Amazon Bedrock with the specified parameters.\n",
    "        \"\"\"\n",
    "        request_payload = {\n",
    "            \"prompt\": prompt,\n",
    "            \"max_tokens\": max_tokens,\n",
    "            \"temperature\": temperature,\n",
    "            \"top_p\": top_p\n",
    "        }\n",
    "\n",
    "        try:\n",
    "            response = self.bedrock_client.invoke_model(\n",
    "                modelId=model,\n",
    "                body=json.dumps(request_payload).encode(\"utf-8\")\n",
    "            )\n",
    "            response_body = json.loads(response['body'].read().decode('utf-8'))\n",
    "            return response_body.get(\"output\", {}).get(\"message\", {}).get(\"content\", \"\")\n",
    "        except Exception as e:\n",
    "            logger.error(f\"❌ Bedrock API Error: {e}\")\n",
    "            return \"\"\n",
    "\n",
    "    async def query(self, question):\n",
    "        \"\"\"\n",
    "        Queries the knowledge graph.\n",
    "        \"\"\"\n",
    "        prompt = f\"Based on the following knowledge graph, answer: {question}\"\n",
    "        response = await self.query_bedrock(prompt)\n",
    "        return response"
   ]
  },
  {
   "cell_type": "code",
   "execution_count": 44,
   "id": "07f0e678-cae5-4bd4-8d21-1238b6039609",
   "metadata": {},
   "outputs": [
    {
     "name": "stderr",
     "output_type": "stream",
     "text": [
      "[2025-02-13 23:54:59,963] p1310 {3091410911.py:27} INFO - [Entity Extraction] Extracting entities...\n",
      "[2025-02-13 23:55:00,048] p1310 {3091410911.py:96} ERROR - ❌ Bedrock API Error: An error occurred (ValidationException) when calling the InvokeModel operation: Your account is not authorized to invoke this API operation.\n",
      "[2025-02-13 23:55:00,050] p1310 {3091410911.py:63} WARNING - ⚠️ Empty response from Bedrock API.\n",
      "[2025-02-13 23:55:00,050] p1310 {3091410911.py:33} WARNING - ⚠️ No new entities found, skipping graph update.\n",
      "[2025-02-13 23:55:00,084] p1310 {3091410911.py:96} ERROR - ❌ Bedrock API Error: An error occurred (ValidationException) when calling the InvokeModel operation: Your account is not authorized to invoke this API operation.\n"
     ]
    },
    {
     "name": "stdout",
     "output_type": "stream",
     "text": [
      "\n",
      "🏠 NanoGraph Search Result:\n",
      " \n"
     ]
    }
   ],
   "source": [
    "async def insert_and_query():\n",
    "    \"\"\"\n",
    "    Inserts data into NanoGraph and queries it.\n",
    "    \"\"\"\n",
    "    graph_func = NanoGraph(bedrock_client)  # ✅ Injecting Bedrock client\n",
    "\n",
    "    # Example input text\n",
    "    data = [{\"content\": \"AI and data science are transforming the world.\"}]\n",
    "\n",
    "    # Insert text into NanoGraph\n",
    "    await graph_func.ainsert(data)\n",
    "\n",
    "    # Run a query\n",
    "    question = \"What are the key themes in this story?\"\n",
    "    result = await graph_func.query(question)\n",
    "\n",
    "    print(\"\\n🏠 NanoGraph Search Result:\\n\", result)\n",
    "\n",
    "# Run the async function properly\n",
    "asyncio.run(insert_and_query())"
   ]
  },
  {
   "cell_type": "code",
   "execution_count": null,
   "id": "1c8a77a2-cb67-4759-8bc0-7485c530e843",
   "metadata": {},
   "outputs": [],
   "source": [
    "GraphRAG(\n",
    "    using_amazon_bedrock=True, \n",
    "    best_model_id=\"us.anthropic.claude-3-sonnet-20240229-v1:0\",\n",
    "    cheap_model_id=\"us.anthropic.claude-3-haiku-20240307-v1:0\"\n",
    ")"
   ]
  },
  {
   "cell_type": "code",
   "execution_count": null,
   "id": "5e7c0b4c-af8d-4a30-98e6-e907c846bd71",
   "metadata": {},
   "outputs": [],
   "source": []
  }
 ],
 "metadata": {
  "kernelspec": {
   "display_name": "conda_python3",
   "language": "python",
   "name": "conda_python3"
  },
  "language_info": {
   "codemirror_mode": {
    "name": "ipython",
    "version": 3
   },
   "file_extension": ".py",
   "mimetype": "text/x-python",
   "name": "python",
   "nbconvert_exporter": "python",
   "pygments_lexer": "ipython3",
   "version": "3.10.16"
  }
 },
 "nbformat": 4,
 "nbformat_minor": 5
}
