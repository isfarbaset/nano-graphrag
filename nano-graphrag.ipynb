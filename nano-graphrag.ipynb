{
 "cells": [
  {
   "cell_type": "markdown",
   "id": "5a294ae1-6d37-47c5-832b-6c634ce4f90a",
   "metadata": {},
   "source": [
    "## Install Dependencies"
   ]
  },
  {
   "cell_type": "code",
   "execution_count": 1,
   "id": "2e835bfa-32b3-4375-9537-5d007d8af64e",
   "metadata": {
    "tags": []
   },
   "outputs": [
    {
     "name": "stdout",
     "output_type": "stream",
     "text": [
      "Obtaining file:///home/ec2-user/SageMaker/nano-graphrag\n",
      "  Preparing metadata (setup.py) ... \u001b[?25ldone\n",
      "\u001b[?25hRequirement already satisfied: future>=1.0.0 in /home/ec2-user/anaconda3/envs/python3/lib/python3.10/site-packages (from nano-graphrag==0.0.8.2) (1.0.0)\n",
      "Requirement already satisfied: openai in /home/ec2-user/anaconda3/envs/python3/lib/python3.10/site-packages (from nano-graphrag==0.0.8.2) (1.63.0)\n",
      "Requirement already satisfied: tiktoken in /home/ec2-user/anaconda3/envs/python3/lib/python3.10/site-packages (from nano-graphrag==0.0.8.2) (0.9.0)\n",
      "Requirement already satisfied: networkx in /home/ec2-user/anaconda3/envs/python3/lib/python3.10/site-packages (from nano-graphrag==0.0.8.2) (3.4)\n",
      "Requirement already satisfied: graspologic in /home/ec2-user/anaconda3/envs/python3/lib/python3.10/site-packages (from nano-graphrag==0.0.8.2) (3.4.1)\n",
      "Requirement already satisfied: nano-vectordb in /home/ec2-user/anaconda3/envs/python3/lib/python3.10/site-packages (from nano-graphrag==0.0.8.2) (0.0.4.3)\n",
      "Requirement already satisfied: hnswlib in /home/ec2-user/anaconda3/envs/python3/lib/python3.10/site-packages (from nano-graphrag==0.0.8.2) (0.8.0)\n",
      "Requirement already satisfied: xxhash in /home/ec2-user/anaconda3/envs/python3/lib/python3.10/site-packages (from nano-graphrag==0.0.8.2) (3.5.0)\n",
      "Requirement already satisfied: tenacity in /home/ec2-user/anaconda3/envs/python3/lib/python3.10/site-packages (from nano-graphrag==0.0.8.2) (9.0.0)\n",
      "Requirement already satisfied: dspy-ai in /home/ec2-user/anaconda3/envs/python3/lib/python3.10/site-packages (from nano-graphrag==0.0.8.2) (2.6.3)\n",
      "Requirement already satisfied: neo4j in /home/ec2-user/anaconda3/envs/python3/lib/python3.10/site-packages (from nano-graphrag==0.0.8.2) (5.28.1)\n",
      "Requirement already satisfied: aioboto3 in /home/ec2-user/anaconda3/envs/python3/lib/python3.10/site-packages (from nano-graphrag==0.0.8.2) (13.4.0)\n",
      "Requirement already satisfied: aiobotocore==2.18.0 in /home/ec2-user/anaconda3/envs/python3/lib/python3.10/site-packages (from aiobotocore[boto3]==2.18.0->aioboto3->nano-graphrag==0.0.8.2) (2.18.0)\n",
      "Requirement already satisfied: aiofiles>=23.2.1 in /home/ec2-user/anaconda3/envs/python3/lib/python3.10/site-packages (from aioboto3->nano-graphrag==0.0.8.2) (24.1.0)\n",
      "Requirement already satisfied: aiohttp<4.0.0,>=3.9.2 in /home/ec2-user/anaconda3/envs/python3/lib/python3.10/site-packages (from aiobotocore==2.18.0->aiobotocore[boto3]==2.18.0->aioboto3->nano-graphrag==0.0.8.2) (3.11.11)\n",
      "Requirement already satisfied: aioitertools<1.0.0,>=0.5.1 in /home/ec2-user/anaconda3/envs/python3/lib/python3.10/site-packages (from aiobotocore==2.18.0->aiobotocore[boto3]==2.18.0->aioboto3->nano-graphrag==0.0.8.2) (0.12.0)\n",
      "Requirement already satisfied: botocore<1.36.2,>=1.36.0 in /home/ec2-user/anaconda3/envs/python3/lib/python3.10/site-packages (from aiobotocore==2.18.0->aiobotocore[boto3]==2.18.0->aioboto3->nano-graphrag==0.0.8.2) (1.36.1)\n",
      "Requirement already satisfied: python-dateutil<3.0.0,>=2.1 in /home/ec2-user/anaconda3/envs/python3/lib/python3.10/site-packages (from aiobotocore==2.18.0->aiobotocore[boto3]==2.18.0->aioboto3->nano-graphrag==0.0.8.2) (2.9.0.post0)\n",
      "Requirement already satisfied: jmespath<2.0.0,>=0.7.1 in /home/ec2-user/anaconda3/envs/python3/lib/python3.10/site-packages (from aiobotocore==2.18.0->aiobotocore[boto3]==2.18.0->aioboto3->nano-graphrag==0.0.8.2) (1.0.1)\n",
      "Requirement already satisfied: multidict<7.0.0,>=6.0.0 in /home/ec2-user/anaconda3/envs/python3/lib/python3.10/site-packages (from aiobotocore==2.18.0->aiobotocore[boto3]==2.18.0->aioboto3->nano-graphrag==0.0.8.2) (6.1.0)\n",
      "Requirement already satisfied: urllib3!=2.2.0,<3,>=1.25.4 in /home/ec2-user/anaconda3/envs/python3/lib/python3.10/site-packages (from aiobotocore==2.18.0->aiobotocore[boto3]==2.18.0->aioboto3->nano-graphrag==0.0.8.2) (2.3.0)\n",
      "Requirement already satisfied: wrapt<2.0.0,>=1.10.10 in /home/ec2-user/anaconda3/envs/python3/lib/python3.10/site-packages (from aiobotocore==2.18.0->aiobotocore[boto3]==2.18.0->aioboto3->nano-graphrag==0.0.8.2) (1.17.2)\n",
      "Requirement already satisfied: boto3<1.36.2,>=1.36.0 in /home/ec2-user/anaconda3/envs/python3/lib/python3.10/site-packages (from aiobotocore[boto3]==2.18.0->aioboto3->nano-graphrag==0.0.8.2) (1.36.1)\n",
      "Requirement already satisfied: dspy>=v2.6.3 in /home/ec2-user/anaconda3/envs/python3/lib/python3.10/site-packages (from dspy-ai->nano-graphrag==0.0.8.2) (2.6.3)\n",
      "Requirement already satisfied: POT<0.10,>=0.9 in /home/ec2-user/anaconda3/envs/python3/lib/python3.10/site-packages (from graspologic->nano-graphrag==0.0.8.2) (0.9.5)\n",
      "Requirement already satisfied: anytree<3.0.0,>=2.12.1 in /home/ec2-user/anaconda3/envs/python3/lib/python3.10/site-packages (from graspologic->nano-graphrag==0.0.8.2) (2.12.1)\n",
      "Requirement already satisfied: beartype<0.19.0,>=0.18.5 in /home/ec2-user/anaconda3/envs/python3/lib/python3.10/site-packages (from graspologic->nano-graphrag==0.0.8.2) (0.18.5)\n",
      "Requirement already satisfied: gensim<5.0.0,>=4.3.2 in /home/ec2-user/anaconda3/envs/python3/lib/python3.10/site-packages (from graspologic->nano-graphrag==0.0.8.2) (4.3.3)\n",
      "Requirement already satisfied: graspologic-native<2.0.0,>=1.2.1 in /home/ec2-user/anaconda3/envs/python3/lib/python3.10/site-packages (from graspologic->nano-graphrag==0.0.8.2) (1.2.3)\n",
      "Requirement already satisfied: hyppo<0.5.0,>=0.4.0 in /home/ec2-user/anaconda3/envs/python3/lib/python3.10/site-packages (from graspologic->nano-graphrag==0.0.8.2) (0.4.0)\n",
      "Requirement already satisfied: joblib<2.0.0,>=1.4.2 in /home/ec2-user/anaconda3/envs/python3/lib/python3.10/site-packages (from graspologic->nano-graphrag==0.0.8.2) (1.4.2)\n",
      "Requirement already satisfied: matplotlib<4.0.0,>=3.8.4 in /home/ec2-user/anaconda3/envs/python3/lib/python3.10/site-packages (from graspologic->nano-graphrag==0.0.8.2) (3.10.0)\n",
      "Requirement already satisfied: numpy<2.0.0,>=1.26.4 in /home/ec2-user/anaconda3/envs/python3/lib/python3.10/site-packages (from graspologic->nano-graphrag==0.0.8.2) (1.26.4)\n",
      "Requirement already satisfied: scikit-learn<2.0.0,>=1.4.2 in /home/ec2-user/anaconda3/envs/python3/lib/python3.10/site-packages (from graspologic->nano-graphrag==0.0.8.2) (1.6.1)\n",
      "Requirement already satisfied: scipy==1.12.0 in /home/ec2-user/anaconda3/envs/python3/lib/python3.10/site-packages (from graspologic->nano-graphrag==0.0.8.2) (1.12.0)\n",
      "Requirement already satisfied: seaborn<0.14.0,>=0.13.2 in /home/ec2-user/anaconda3/envs/python3/lib/python3.10/site-packages (from graspologic->nano-graphrag==0.0.8.2) (0.13.2)\n",
      "Requirement already satisfied: statsmodels<0.15.0,>=0.14.2 in /home/ec2-user/anaconda3/envs/python3/lib/python3.10/site-packages (from graspologic->nano-graphrag==0.0.8.2) (0.14.4)\n",
      "Requirement already satisfied: typing-extensions<5.0.0,>=4.4.0 in /home/ec2-user/anaconda3/envs/python3/lib/python3.10/site-packages (from graspologic->nano-graphrag==0.0.8.2) (4.12.2)\n",
      "Requirement already satisfied: umap-learn<0.6.0,>=0.5.6 in /home/ec2-user/anaconda3/envs/python3/lib/python3.10/site-packages (from graspologic->nano-graphrag==0.0.8.2) (0.5.7)\n",
      "Requirement already satisfied: pytz in /home/ec2-user/anaconda3/envs/python3/lib/python3.10/site-packages (from neo4j->nano-graphrag==0.0.8.2) (2024.2)\n",
      "Requirement already satisfied: anyio<5,>=3.5.0 in /home/ec2-user/anaconda3/envs/python3/lib/python3.10/site-packages (from openai->nano-graphrag==0.0.8.2) (4.8.0)\n",
      "Requirement already satisfied: distro<2,>=1.7.0 in /home/ec2-user/anaconda3/envs/python3/lib/python3.10/site-packages (from openai->nano-graphrag==0.0.8.2) (1.9.0)\n",
      "Requirement already satisfied: httpx<1,>=0.23.0 in /home/ec2-user/anaconda3/envs/python3/lib/python3.10/site-packages (from openai->nano-graphrag==0.0.8.2) (0.27.2)\n",
      "Requirement already satisfied: jiter<1,>=0.4.0 in /home/ec2-user/anaconda3/envs/python3/lib/python3.10/site-packages (from openai->nano-graphrag==0.0.8.2) (0.8.2)\n",
      "Requirement already satisfied: pydantic<3,>=1.9.0 in /home/ec2-user/anaconda3/envs/python3/lib/python3.10/site-packages (from openai->nano-graphrag==0.0.8.2) (2.10.5)\n",
      "Requirement already satisfied: sniffio in /home/ec2-user/anaconda3/envs/python3/lib/python3.10/site-packages (from openai->nano-graphrag==0.0.8.2) (1.3.1)\n",
      "Requirement already satisfied: tqdm>4 in /home/ec2-user/anaconda3/envs/python3/lib/python3.10/site-packages (from openai->nano-graphrag==0.0.8.2) (4.67.1)\n",
      "Requirement already satisfied: regex>=2022.1.18 in /home/ec2-user/anaconda3/envs/python3/lib/python3.10/site-packages (from tiktoken->nano-graphrag==0.0.8.2) (2024.11.6)\n",
      "Requirement already satisfied: requests>=2.26.0 in /home/ec2-user/anaconda3/envs/python3/lib/python3.10/site-packages (from tiktoken->nano-graphrag==0.0.8.2) (2.32.3)\n",
      "Requirement already satisfied: exceptiongroup>=1.0.2 in /home/ec2-user/anaconda3/envs/python3/lib/python3.10/site-packages (from anyio<5,>=3.5.0->openai->nano-graphrag==0.0.8.2) (1.2.2)\n",
      "Requirement already satisfied: idna>=2.8 in /home/ec2-user/anaconda3/envs/python3/lib/python3.10/site-packages (from anyio<5,>=3.5.0->openai->nano-graphrag==0.0.8.2) (3.10)\n",
      "Requirement already satisfied: six in /home/ec2-user/anaconda3/envs/python3/lib/python3.10/site-packages (from anytree<3.0.0,>=2.12.1->graspologic->nano-graphrag==0.0.8.2) (1.17.0)\n",
      "Requirement already satisfied: asyncer==0.0.8 in /home/ec2-user/anaconda3/envs/python3/lib/python3.10/site-packages (from dspy>=v2.6.3->dspy-ai->nano-graphrag==0.0.8.2) (0.0.8)\n",
      "Requirement already satisfied: backoff in /home/ec2-user/anaconda3/envs/python3/lib/python3.10/site-packages (from dspy>=v2.6.3->dspy-ai->nano-graphrag==0.0.8.2) (2.2.1)\n",
      "Requirement already satisfied: cachetools in /home/ec2-user/anaconda3/envs/python3/lib/python3.10/site-packages (from dspy>=v2.6.3->dspy-ai->nano-graphrag==0.0.8.2) (5.5.1)\n",
      "Requirement already satisfied: cloudpickle in /home/ec2-user/anaconda3/envs/python3/lib/python3.10/site-packages (from dspy>=v2.6.3->dspy-ai->nano-graphrag==0.0.8.2) (2.2.1)\n",
      "Requirement already satisfied: datasets in /home/ec2-user/anaconda3/envs/python3/lib/python3.10/site-packages (from dspy>=v2.6.3->dspy-ai->nano-graphrag==0.0.8.2) (3.2.0)\n",
      "Requirement already satisfied: diskcache in /home/ec2-user/anaconda3/envs/python3/lib/python3.10/site-packages (from dspy>=v2.6.3->dspy-ai->nano-graphrag==0.0.8.2) (5.6.3)\n",
      "Requirement already satisfied: jinja2 in /home/ec2-user/anaconda3/envs/python3/lib/python3.10/site-packages (from dspy>=v2.6.3->dspy-ai->nano-graphrag==0.0.8.2) (3.1.5)\n",
      "Requirement already satisfied: json-repair in /home/ec2-user/anaconda3/envs/python3/lib/python3.10/site-packages (from dspy>=v2.6.3->dspy-ai->nano-graphrag==0.0.8.2) (0.36.1)\n",
      "Requirement already satisfied: litellm<2.0.0,>=1.59.8 in /home/ec2-user/anaconda3/envs/python3/lib/python3.10/site-packages (from litellm[proxy]<2.0.0,>=1.59.8->dspy>=v2.6.3->dspy-ai->nano-graphrag==0.0.8.2) (1.61.3)\n",
      "Requirement already satisfied: magicattr~=0.1.6 in /home/ec2-user/anaconda3/envs/python3/lib/python3.10/site-packages (from dspy>=v2.6.3->dspy-ai->nano-graphrag==0.0.8.2) (0.1.6)\n",
      "Requirement already satisfied: optuna in /home/ec2-user/anaconda3/envs/python3/lib/python3.10/site-packages (from dspy>=v2.6.3->dspy-ai->nano-graphrag==0.0.8.2) (4.2.1)\n",
      "Requirement already satisfied: pandas in /home/ec2-user/anaconda3/envs/python3/lib/python3.10/site-packages (from dspy>=v2.6.3->dspy-ai->nano-graphrag==0.0.8.2) (1.5.3)\n",
      "Requirement already satisfied: ujson in /home/ec2-user/anaconda3/envs/python3/lib/python3.10/site-packages (from dspy>=v2.6.3->dspy-ai->nano-graphrag==0.0.8.2) (5.10.0)\n",
      "Requirement already satisfied: smart-open>=1.8.1 in /home/ec2-user/anaconda3/envs/python3/lib/python3.10/site-packages (from gensim<5.0.0,>=4.3.2->graspologic->nano-graphrag==0.0.8.2) (7.1.0)\n",
      "Requirement already satisfied: certifi in /home/ec2-user/anaconda3/envs/python3/lib/python3.10/site-packages (from httpx<1,>=0.23.0->openai->nano-graphrag==0.0.8.2) (2024.12.14)\n",
      "Requirement already satisfied: httpcore==1.* in /home/ec2-user/anaconda3/envs/python3/lib/python3.10/site-packages (from httpx<1,>=0.23.0->openai->nano-graphrag==0.0.8.2) (1.0.7)\n",
      "Requirement already satisfied: h11<0.15,>=0.13 in /home/ec2-user/anaconda3/envs/python3/lib/python3.10/site-packages (from httpcore==1.*->httpx<1,>=0.23.0->openai->nano-graphrag==0.0.8.2) (0.14.0)\n",
      "Requirement already satisfied: numba>=0.46 in /home/ec2-user/anaconda3/envs/python3/lib/python3.10/site-packages (from hyppo<0.5.0,>=0.4.0->graspologic->nano-graphrag==0.0.8.2) (0.60.0)\n",
      "Requirement already satisfied: autograd>=1.3 in /home/ec2-user/anaconda3/envs/python3/lib/python3.10/site-packages (from hyppo<0.5.0,>=0.4.0->graspologic->nano-graphrag==0.0.8.2) (1.7.0)\n",
      "Requirement already satisfied: contourpy>=1.0.1 in /home/ec2-user/anaconda3/envs/python3/lib/python3.10/site-packages (from matplotlib<4.0.0,>=3.8.4->graspologic->nano-graphrag==0.0.8.2) (1.3.1)\n",
      "Requirement already satisfied: cycler>=0.10 in /home/ec2-user/anaconda3/envs/python3/lib/python3.10/site-packages (from matplotlib<4.0.0,>=3.8.4->graspologic->nano-graphrag==0.0.8.2) (0.12.1)\n",
      "Requirement already satisfied: fonttools>=4.22.0 in /home/ec2-user/anaconda3/envs/python3/lib/python3.10/site-packages (from matplotlib<4.0.0,>=3.8.4->graspologic->nano-graphrag==0.0.8.2) (4.55.3)\n",
      "Requirement already satisfied: kiwisolver>=1.3.1 in /home/ec2-user/anaconda3/envs/python3/lib/python3.10/site-packages (from matplotlib<4.0.0,>=3.8.4->graspologic->nano-graphrag==0.0.8.2) (1.4.7)\n",
      "Requirement already satisfied: packaging>=20.0 in /home/ec2-user/anaconda3/envs/python3/lib/python3.10/site-packages (from matplotlib<4.0.0,>=3.8.4->graspologic->nano-graphrag==0.0.8.2) (24.2)\n",
      "Requirement already satisfied: pillow>=8 in /home/ec2-user/anaconda3/envs/python3/lib/python3.10/site-packages (from matplotlib<4.0.0,>=3.8.4->graspologic->nano-graphrag==0.0.8.2) (11.1.0)\n",
      "Requirement already satisfied: pyparsing>=2.3.1 in /home/ec2-user/anaconda3/envs/python3/lib/python3.10/site-packages (from matplotlib<4.0.0,>=3.8.4->graspologic->nano-graphrag==0.0.8.2) (3.2.1)\n",
      "Requirement already satisfied: annotated-types>=0.6.0 in /home/ec2-user/anaconda3/envs/python3/lib/python3.10/site-packages (from pydantic<3,>=1.9.0->openai->nano-graphrag==0.0.8.2) (0.7.0)\n",
      "Requirement already satisfied: pydantic-core==2.27.2 in /home/ec2-user/anaconda3/envs/python3/lib/python3.10/site-packages (from pydantic<3,>=1.9.0->openai->nano-graphrag==0.0.8.2) (2.27.2)\n",
      "Requirement already satisfied: charset_normalizer<4,>=2 in /home/ec2-user/anaconda3/envs/python3/lib/python3.10/site-packages (from requests>=2.26.0->tiktoken->nano-graphrag==0.0.8.2) (3.4.1)\n",
      "Requirement already satisfied: threadpoolctl>=3.1.0 in /home/ec2-user/anaconda3/envs/python3/lib/python3.10/site-packages (from scikit-learn<2.0.0,>=1.4.2->graspologic->nano-graphrag==0.0.8.2) (3.5.0)\n",
      "Requirement already satisfied: patsy>=0.5.6 in /home/ec2-user/anaconda3/envs/python3/lib/python3.10/site-packages (from statsmodels<0.15.0,>=0.14.2->graspologic->nano-graphrag==0.0.8.2) (1.0.1)\n",
      "Requirement already satisfied: pynndescent>=0.5 in /home/ec2-user/anaconda3/envs/python3/lib/python3.10/site-packages (from umap-learn<0.6.0,>=0.5.6->graspologic->nano-graphrag==0.0.8.2) (0.5.13)\n",
      "Requirement already satisfied: aiohappyeyeballs>=2.3.0 in /home/ec2-user/anaconda3/envs/python3/lib/python3.10/site-packages (from aiohttp<4.0.0,>=3.9.2->aiobotocore==2.18.0->aiobotocore[boto3]==2.18.0->aioboto3->nano-graphrag==0.0.8.2) (2.4.4)\n",
      "Requirement already satisfied: aiosignal>=1.1.2 in /home/ec2-user/anaconda3/envs/python3/lib/python3.10/site-packages (from aiohttp<4.0.0,>=3.9.2->aiobotocore==2.18.0->aiobotocore[boto3]==2.18.0->aioboto3->nano-graphrag==0.0.8.2) (1.3.2)\n",
      "Requirement already satisfied: async-timeout<6.0,>=4.0 in /home/ec2-user/anaconda3/envs/python3/lib/python3.10/site-packages (from aiohttp<4.0.0,>=3.9.2->aiobotocore==2.18.0->aiobotocore[boto3]==2.18.0->aioboto3->nano-graphrag==0.0.8.2) (4.0.3)\n",
      "Requirement already satisfied: attrs>=17.3.0 in /home/ec2-user/anaconda3/envs/python3/lib/python3.10/site-packages (from aiohttp<4.0.0,>=3.9.2->aiobotocore==2.18.0->aiobotocore[boto3]==2.18.0->aioboto3->nano-graphrag==0.0.8.2) (23.2.0)\n",
      "Requirement already satisfied: frozenlist>=1.1.1 in /home/ec2-user/anaconda3/envs/python3/lib/python3.10/site-packages (from aiohttp<4.0.0,>=3.9.2->aiobotocore==2.18.0->aiobotocore[boto3]==2.18.0->aioboto3->nano-graphrag==0.0.8.2) (1.5.0)\n",
      "Requirement already satisfied: propcache>=0.2.0 in /home/ec2-user/anaconda3/envs/python3/lib/python3.10/site-packages (from aiohttp<4.0.0,>=3.9.2->aiobotocore==2.18.0->aiobotocore[boto3]==2.18.0->aioboto3->nano-graphrag==0.0.8.2) (0.2.1)\n",
      "Requirement already satisfied: yarl<2.0,>=1.17.0 in /home/ec2-user/anaconda3/envs/python3/lib/python3.10/site-packages (from aiohttp<4.0.0,>=3.9.2->aiobotocore==2.18.0->aiobotocore[boto3]==2.18.0->aioboto3->nano-graphrag==0.0.8.2) (1.18.3)\n",
      "Requirement already satisfied: s3transfer<0.12.0,>=0.11.0 in /home/ec2-user/anaconda3/envs/python3/lib/python3.10/site-packages (from boto3<1.36.2,>=1.36.0->aiobotocore[boto3]==2.18.0->aioboto3->nano-graphrag==0.0.8.2) (0.11.2)\n",
      "Requirement already satisfied: click in /home/ec2-user/anaconda3/envs/python3/lib/python3.10/site-packages (from litellm<2.0.0,>=1.59.8->litellm[proxy]<2.0.0,>=1.59.8->dspy>=v2.6.3->dspy-ai->nano-graphrag==0.0.8.2) (8.1.8)\n",
      "Requirement already satisfied: importlib-metadata>=6.8.0 in /home/ec2-user/anaconda3/envs/python3/lib/python3.10/site-packages (from litellm<2.0.0,>=1.59.8->litellm[proxy]<2.0.0,>=1.59.8->dspy>=v2.6.3->dspy-ai->nano-graphrag==0.0.8.2) (6.11.0)\n",
      "Requirement already satisfied: jsonschema<5.0.0,>=4.22.0 in /home/ec2-user/anaconda3/envs/python3/lib/python3.10/site-packages (from litellm<2.0.0,>=1.59.8->litellm[proxy]<2.0.0,>=1.59.8->dspy>=v2.6.3->dspy-ai->nano-graphrag==0.0.8.2) (4.23.0)\n",
      "Requirement already satisfied: python-dotenv>=0.2.0 in /home/ec2-user/anaconda3/envs/python3/lib/python3.10/site-packages (from litellm<2.0.0,>=1.59.8->litellm[proxy]<2.0.0,>=1.59.8->dspy>=v2.6.3->dspy-ai->nano-graphrag==0.0.8.2) (1.0.1)\n",
      "Requirement already satisfied: tokenizers in /home/ec2-user/anaconda3/envs/python3/lib/python3.10/site-packages (from litellm<2.0.0,>=1.59.8->litellm[proxy]<2.0.0,>=1.59.8->dspy>=v2.6.3->dspy-ai->nano-graphrag==0.0.8.2) (0.21.0)\n",
      "Requirement already satisfied: MarkupSafe>=2.0 in /home/ec2-user/anaconda3/envs/python3/lib/python3.10/site-packages (from jinja2->dspy>=v2.6.3->dspy-ai->nano-graphrag==0.0.8.2) (3.0.2)\n",
      "Requirement already satisfied: PyJWT<3.0.0,>=2.8.0 in /home/ec2-user/anaconda3/envs/python3/lib/python3.10/site-packages (from litellm[proxy]<2.0.0,>=1.59.8->dspy>=v2.6.3->dspy-ai->nano-graphrag==0.0.8.2) (2.10.1)\n",
      "Requirement already satisfied: apscheduler<4.0.0,>=3.10.4 in /home/ec2-user/anaconda3/envs/python3/lib/python3.10/site-packages (from litellm[proxy]<2.0.0,>=1.59.8->dspy>=v2.6.3->dspy-ai->nano-graphrag==0.0.8.2) (3.11.0)\n",
      "Requirement already satisfied: cryptography<44.0.0,>=43.0.1 in /home/ec2-user/anaconda3/envs/python3/lib/python3.10/site-packages (from litellm[proxy]<2.0.0,>=1.59.8->dspy>=v2.6.3->dspy-ai->nano-graphrag==0.0.8.2) (43.0.3)\n",
      "Requirement already satisfied: fastapi<0.116.0,>=0.115.5 in /home/ec2-user/anaconda3/envs/python3/lib/python3.10/site-packages (from litellm[proxy]<2.0.0,>=1.59.8->dspy>=v2.6.3->dspy-ai->nano-graphrag==0.0.8.2) (0.115.6)\n",
      "Requirement already satisfied: fastapi-sso<0.17.0,>=0.16.0 in /home/ec2-user/anaconda3/envs/python3/lib/python3.10/site-packages (from litellm[proxy]<2.0.0,>=1.59.8->dspy>=v2.6.3->dspy-ai->nano-graphrag==0.0.8.2) (0.16.0)\n",
      "Requirement already satisfied: gunicorn<23.0.0,>=22.0.0 in /home/ec2-user/anaconda3/envs/python3/lib/python3.10/site-packages (from litellm[proxy]<2.0.0,>=1.59.8->dspy>=v2.6.3->dspy-ai->nano-graphrag==0.0.8.2) (22.0.0)\n",
      "Requirement already satisfied: orjson<4.0.0,>=3.9.7 in /home/ec2-user/anaconda3/envs/python3/lib/python3.10/site-packages (from litellm[proxy]<2.0.0,>=1.59.8->dspy>=v2.6.3->dspy-ai->nano-graphrag==0.0.8.2) (3.10.15)\n",
      "Requirement already satisfied: pynacl<2.0.0,>=1.5.0 in /home/ec2-user/anaconda3/envs/python3/lib/python3.10/site-packages (from litellm[proxy]<2.0.0,>=1.59.8->dspy>=v2.6.3->dspy-ai->nano-graphrag==0.0.8.2) (1.5.0)\n",
      "Requirement already satisfied: python-multipart<0.0.19,>=0.0.18 in /home/ec2-user/anaconda3/envs/python3/lib/python3.10/site-packages (from litellm[proxy]<2.0.0,>=1.59.8->dspy>=v2.6.3->dspy-ai->nano-graphrag==0.0.8.2) (0.0.18)\n",
      "Requirement already satisfied: pyyaml<7.0.0,>=6.0.1 in /home/ec2-user/anaconda3/envs/python3/lib/python3.10/site-packages (from litellm[proxy]<2.0.0,>=1.59.8->dspy>=v2.6.3->dspy-ai->nano-graphrag==0.0.8.2) (6.0.2)\n",
      "Requirement already satisfied: rq in /home/ec2-user/anaconda3/envs/python3/lib/python3.10/site-packages (from litellm[proxy]<2.0.0,>=1.59.8->dspy>=v2.6.3->dspy-ai->nano-graphrag==0.0.8.2) (2.1.0)\n",
      "Requirement already satisfied: uvicorn<0.30.0,>=0.29.0 in /home/ec2-user/anaconda3/envs/python3/lib/python3.10/site-packages (from litellm[proxy]<2.0.0,>=1.59.8->dspy>=v2.6.3->dspy-ai->nano-graphrag==0.0.8.2) (0.29.0)\n",
      "Requirement already satisfied: uvloop<0.22.0,>=0.21.0 in /home/ec2-user/anaconda3/envs/python3/lib/python3.10/site-packages (from litellm[proxy]<2.0.0,>=1.59.8->dspy>=v2.6.3->dspy-ai->nano-graphrag==0.0.8.2) (0.21.0)\n",
      "Requirement already satisfied: llvmlite<0.44,>=0.43.0dev0 in /home/ec2-user/anaconda3/envs/python3/lib/python3.10/site-packages (from numba>=0.46->hyppo<0.5.0,>=0.4.0->graspologic->nano-graphrag==0.0.8.2) (0.43.0)\n",
      "Requirement already satisfied: filelock in /home/ec2-user/anaconda3/envs/python3/lib/python3.10/site-packages (from datasets->dspy>=v2.6.3->dspy-ai->nano-graphrag==0.0.8.2) (3.16.1)\n",
      "Requirement already satisfied: pyarrow>=15.0.0 in /home/ec2-user/anaconda3/envs/python3/lib/python3.10/site-packages (from datasets->dspy>=v2.6.3->dspy-ai->nano-graphrag==0.0.8.2) (19.0.0)\n",
      "Requirement already satisfied: dill<0.3.9,>=0.3.0 in /home/ec2-user/anaconda3/envs/python3/lib/python3.10/site-packages (from datasets->dspy>=v2.6.3->dspy-ai->nano-graphrag==0.0.8.2) (0.3.8)\n",
      "Requirement already satisfied: multiprocess<0.70.17 in /home/ec2-user/anaconda3/envs/python3/lib/python3.10/site-packages (from datasets->dspy>=v2.6.3->dspy-ai->nano-graphrag==0.0.8.2) (0.70.16)\n",
      "Requirement already satisfied: fsspec<=2024.9.0,>=2023.1.0 in /home/ec2-user/anaconda3/envs/python3/lib/python3.10/site-packages (from fsspec[http]<=2024.9.0,>=2023.1.0->datasets->dspy>=v2.6.3->dspy-ai->nano-graphrag==0.0.8.2) (2024.9.0)\n",
      "Requirement already satisfied: huggingface-hub>=0.23.0 in /home/ec2-user/anaconda3/envs/python3/lib/python3.10/site-packages (from datasets->dspy>=v2.6.3->dspy-ai->nano-graphrag==0.0.8.2) (0.28.1)\n",
      "Requirement already satisfied: alembic>=1.5.0 in /home/ec2-user/anaconda3/envs/python3/lib/python3.10/site-packages (from optuna->dspy>=v2.6.3->dspy-ai->nano-graphrag==0.0.8.2) (1.14.1)\n",
      "Requirement already satisfied: colorlog in /home/ec2-user/anaconda3/envs/python3/lib/python3.10/site-packages (from optuna->dspy>=v2.6.3->dspy-ai->nano-graphrag==0.0.8.2) (6.9.0)\n",
      "Requirement already satisfied: sqlalchemy>=1.4.2 in /home/ec2-user/anaconda3/envs/python3/lib/python3.10/site-packages (from optuna->dspy>=v2.6.3->dspy-ai->nano-graphrag==0.0.8.2) (2.0.37)\n",
      "Requirement already satisfied: Mako in /home/ec2-user/anaconda3/envs/python3/lib/python3.10/site-packages (from alembic>=1.5.0->optuna->dspy>=v2.6.3->dspy-ai->nano-graphrag==0.0.8.2) (1.3.9)\n",
      "Requirement already satisfied: tzlocal>=3.0 in /home/ec2-user/anaconda3/envs/python3/lib/python3.10/site-packages (from apscheduler<4.0.0,>=3.10.4->litellm[proxy]<2.0.0,>=1.59.8->dspy>=v2.6.3->dspy-ai->nano-graphrag==0.0.8.2) (5.3)\n",
      "Requirement already satisfied: cffi>=1.12 in /home/ec2-user/anaconda3/envs/python3/lib/python3.10/site-packages (from cryptography<44.0.0,>=43.0.1->litellm[proxy]<2.0.0,>=1.59.8->dspy>=v2.6.3->dspy-ai->nano-graphrag==0.0.8.2) (1.17.1)\n",
      "Requirement already satisfied: starlette<0.42.0,>=0.40.0 in /home/ec2-user/anaconda3/envs/python3/lib/python3.10/site-packages (from fastapi<0.116.0,>=0.115.5->litellm[proxy]<2.0.0,>=1.59.8->dspy>=v2.6.3->dspy-ai->nano-graphrag==0.0.8.2) (0.41.3)\n",
      "Requirement already satisfied: oauthlib>=3.1.0 in /home/ec2-user/anaconda3/envs/python3/lib/python3.10/site-packages (from fastapi-sso<0.17.0,>=0.16.0->litellm[proxy]<2.0.0,>=1.59.8->dspy>=v2.6.3->dspy-ai->nano-graphrag==0.0.8.2) (3.2.2)\n",
      "Requirement already satisfied: zipp>=0.5 in /home/ec2-user/anaconda3/envs/python3/lib/python3.10/site-packages (from importlib-metadata>=6.8.0->litellm<2.0.0,>=1.59.8->litellm[proxy]<2.0.0,>=1.59.8->dspy>=v2.6.3->dspy-ai->nano-graphrag==0.0.8.2) (3.21.0)\n",
      "Requirement already satisfied: jsonschema-specifications>=2023.03.6 in /home/ec2-user/anaconda3/envs/python3/lib/python3.10/site-packages (from jsonschema<5.0.0,>=4.22.0->litellm<2.0.0,>=1.59.8->litellm[proxy]<2.0.0,>=1.59.8->dspy>=v2.6.3->dspy-ai->nano-graphrag==0.0.8.2) (2024.10.1)\n",
      "Requirement already satisfied: referencing>=0.28.4 in /home/ec2-user/anaconda3/envs/python3/lib/python3.10/site-packages (from jsonschema<5.0.0,>=4.22.0->litellm<2.0.0,>=1.59.8->litellm[proxy]<2.0.0,>=1.59.8->dspy>=v2.6.3->dspy-ai->nano-graphrag==0.0.8.2) (0.36.1)\n",
      "Requirement already satisfied: rpds-py>=0.7.1 in /home/ec2-user/anaconda3/envs/python3/lib/python3.10/site-packages (from jsonschema<5.0.0,>=4.22.0->litellm<2.0.0,>=1.59.8->litellm[proxy]<2.0.0,>=1.59.8->dspy>=v2.6.3->dspy-ai->nano-graphrag==0.0.8.2) (0.22.3)\n",
      "Requirement already satisfied: greenlet!=0.4.17 in /home/ec2-user/anaconda3/envs/python3/lib/python3.10/site-packages (from sqlalchemy>=1.4.2->optuna->dspy>=v2.6.3->dspy-ai->nano-graphrag==0.0.8.2) (3.1.1)\n",
      "Requirement already satisfied: redis>=3.5 in /home/ec2-user/anaconda3/envs/python3/lib/python3.10/site-packages (from rq->litellm[proxy]<2.0.0,>=1.59.8->dspy>=v2.6.3->dspy-ai->nano-graphrag==0.0.8.2) (5.2.1)\n",
      "Requirement already satisfied: pycparser in /home/ec2-user/anaconda3/envs/python3/lib/python3.10/site-packages (from cffi>=1.12->cryptography<44.0.0,>=43.0.1->litellm[proxy]<2.0.0,>=1.59.8->dspy>=v2.6.3->dspy-ai->nano-graphrag==0.0.8.2) (2.22)\n",
      "Requirement already satisfied: email-validator>=2.0.0 in /home/ec2-user/anaconda3/envs/python3/lib/python3.10/site-packages (from pydantic[email]>=1.8.0->fastapi-sso<0.17.0,>=0.16.0->litellm[proxy]<2.0.0,>=1.59.8->dspy>=v2.6.3->dspy-ai->nano-graphrag==0.0.8.2) (2.2.0)\n",
      "Requirement already satisfied: dnspython>=2.0.0 in /home/ec2-user/anaconda3/envs/python3/lib/python3.10/site-packages (from email-validator>=2.0.0->pydantic[email]>=1.8.0->fastapi-sso<0.17.0,>=0.16.0->litellm[proxy]<2.0.0,>=1.59.8->dspy>=v2.6.3->dspy-ai->nano-graphrag==0.0.8.2) (2.7.0)\n",
      "Installing collected packages: nano-graphrag\n",
      "  Attempting uninstall: nano-graphrag\n",
      "    Found existing installation: nano-graphrag 0.0.8.2\n",
      "    Uninstalling nano-graphrag-0.0.8.2:\n",
      "      Successfully uninstalled nano-graphrag-0.0.8.2\n",
      "\u001b[33m  DEPRECATION: Legacy editable install of nano-graphrag==0.0.8.2 from file:///home/ec2-user/SageMaker/nano-graphrag (setup.py develop) is deprecated. pip 25.0 will enforce this behaviour change. A possible replacement is to add a pyproject.toml or enable --use-pep517, and use setuptools >= 64. If the resulting installation is not behaving as expected, try using --config-settings editable_mode=compat. Please consult the setuptools documentation for more information. Discussion can be found at https://github.com/pypa/pip/issues/11457\u001b[0m\u001b[33m\n",
      "\u001b[0m  Running setup.py develop for nano-graphrag\n",
      "Successfully installed nano-graphrag\n"
     ]
    }
   ],
   "source": [
    "# Install dependencies\n",
    "!pip install -e ."
   ]
  },
  {
   "cell_type": "markdown",
   "id": "9295947b-436b-4770-a992-71d175f39c9a",
   "metadata": {},
   "source": [
    "## Import Required Libraries"
   ]
  },
  {
   "cell_type": "code",
   "execution_count": 14,
   "id": "23bd8749-9ef9-4ef5-a637-0384133c767c",
   "metadata": {
    "tags": []
   },
   "outputs": [],
   "source": [
    "import os\n",
    "import time\n",
    "import json\n",
    "import boto3\n",
    "import logging\n",
    "import asyncio\n",
    "import litellm\n",
    "from pathlib import Path\n",
    "from nano_graphrag import GraphRAG, QueryParam\n",
    "from litellm import completion\n",
    "from litellm import RateLimitError\n",
    "from nano_graphrag import GraphRAG, QueryParam"
   ]
  },
  {
   "cell_type": "markdown",
   "id": "fa05f4cc-00ce-4b68-a4d1-58490ffb32d8",
   "metadata": {},
   "source": [
    "## Setup Logging"
   ]
  },
  {
   "cell_type": "code",
   "execution_count": 3,
   "id": "469b0862-ba61-4f30-b015-e3a1a4b38ee7",
   "metadata": {
    "tags": []
   },
   "outputs": [],
   "source": [
    "# Setup logging\n",
    "logging.basicConfig(format='[%(asctime)s] p%(process)s {%(filename)s:%(lineno)d} %(levelname)s - %(message)s', level=logging.INFO)\n",
    "logger = logging.getLogger(__name__)\n",
    "os.environ[\"AWS_REGION_NAME\"] = \"us-east-1\""
   ]
  },
  {
   "cell_type": "markdown",
   "id": "12a25fb5-bc43-44a0-8f23-e58157089e94",
   "metadata": {},
   "source": [
    "### Define Environment Variable"
   ]
  },
  {
   "cell_type": "code",
   "execution_count": 4,
   "id": "7b883d8c-2df4-4a5e-afdb-7f5244bf524e",
   "metadata": {
    "tags": []
   },
   "outputs": [],
   "source": [
    "os.environ[\"AWS_REGION_NAME\"] = \"us-east-1\""
   ]
  },
  {
   "cell_type": "markdown",
   "id": "bd2d8c7b-3839-456e-94e4-321106e9637f",
   "metadata": {},
   "source": [
    "## Assume Cross-Account Role"
   ]
  },
  {
   "cell_type": "code",
   "execution_count": 5,
   "id": "64c653e6-69a8-4437-96a9-8637e3d20b87",
   "metadata": {
    "tags": []
   },
   "outputs": [
    {
     "name": "stderr",
     "output_type": "stream",
     "text": [
      "INFO:__main__:ROLE_TO_ASSUME=arn:aws:iam::605134468121:role/BedrockCrossAccount\n"
     ]
    }
   ],
   "source": [
    "ROLE_TO_ASSUME = Path(os.path.join(os.environ[\"HOME\"],\"BedrockCrossAccount.txt\")).read_text().strip()\n",
    "logger.info(f\"ROLE_TO_ASSUME={ROLE_TO_ASSUME}\")"
   ]
  },
  {
   "cell_type": "code",
   "execution_count": 6,
   "id": "107e0ab3-4a1d-4710-b267-4932455663e4",
   "metadata": {
    "tags": []
   },
   "outputs": [
    {
     "name": "stderr",
     "output_type": "stream",
     "text": [
      "INFO:botocore.credentials:Found credentials from IAM Role: BaseNotebookInstanceEc2InstanceRole\n"
     ]
    }
   ],
   "source": [
    "# ARN of Role A to assume  \n",
    "role_to_assume = 'arn:aws:iam::605134468121:role/BedrockCrossAccount'    \n",
    "  \n",
    "# Use STS to assume role  \n",
    "credentials = boto3.client('sts').assume_role(  \n",
    "    RoleArn=ROLE_TO_ASSUME,  \n",
    "    RoleSessionName='RoleBSession'  \n",
    ")['Credentials']  \n",
    "os.environ[\"AWS_ACCESS_KEY_ID\"] = credentials['AccessKeyId']\n",
    "os.environ[\"AWS_SECRET_ACCESS_KEY\"] = credentials['SecretAccessKey']\n",
    "os.environ[\"AWS_SESSION_TOKEN\"] = credentials['SessionToken']"
   ]
  },
  {
   "cell_type": "code",
   "execution_count": 20,
   "id": "4eeddf0d-3314-46b4-9ee3-4c77b3960d7f",
   "metadata": {
    "tags": []
   },
   "outputs": [
    {
     "name": "stdout",
     "output_type": "stream",
     "text": [
      "{\n",
      "    \"UserId\": \"AROAYZZGTGQMSXMXAZQY7:RoleBSession\",\n",
      "    \"Account\": \"605134468121\",\n",
      "    \"Arn\": \"arn:aws:sts::605134468121:assumed-role/BedrockCrossAccount/RoleBSession\"\n",
      "}\n"
     ]
    }
   ],
   "source": [
    "# Confirm cross account access\n",
    "!aws sts get-caller-identity"
   ]
  },
  {
   "cell_type": "markdown",
   "id": "088285d0-64fb-4fd7-94bc-b3c87b4a5f32",
   "metadata": {},
   "source": [
    "## Read Data"
   ]
  },
  {
   "cell_type": "code",
   "execution_count": 8,
   "id": "4e2bb8d4-e445-4d7f-bb54-5cc499ae4b10",
   "metadata": {
    "tags": []
   },
   "outputs": [
    {
     "name": "stdout",
     "output_type": "stream",
     "text": [
      "  % Total    % Received % Xferd  Average Speed   Time    Time     Time  Current\n",
      "                                 Dload  Upload   Total   Spent    Left  Speed\n",
      "100  184k  100  184k    0     0  2098k      0 --:--:-- --:--:-- --:--:-- 2124k\n"
     ]
    }
   ],
   "source": [
    "!curl https://raw.githubusercontent.com/gusye1234/nano-graphrag/main/tests/mock_data.txt > book.txt"
   ]
  },
  {
   "cell_type": "markdown",
   "id": "5e326c29-d905-409c-af73-7a79084fc269",
   "metadata": {},
   "source": [
    "## Keeping the list of Models handy"
   ]
  },
  {
   "cell_type": "code",
   "execution_count": 9,
   "id": "51ffff04-d20b-402e-a264-38255095dc83",
   "metadata": {},
   "outputs": [],
   "source": [
    "model_id_list = [\"bedrock/us.meta.llama3-1-70b-instruct-v1:0\",\n",
    "                 \"bedrock/us.meta.llama3-2-1b-instruct-v1:0\",\n",
    "                 \"bedrock/us.meta.llama3-2-3b-instruct-v1:0\",\n",
    "                 \"bedrock/us.meta.llama3-2-11b-instruct-v1:0\",\n",
    "                 \"bedrock/us.meta.llama3-2-90b-instruct-v1:0\",\n",
    "                 \"bedrock/us.anthropic.claude-3-5-sonnet-20241022-v2:0\",\n",
    "                 \"bedrock/us.anthropic.claude-3-5-haiku-20241022-v1:0\",\n",
    "                 \"bedrock/amazon.nova-lite-v1:0\",\n",
    "                 \"bedrock/amazon.nova-micro-v1:0\",\n",
    "                 \"bedrock/amazon.nova-pro-v1:0\"]"
   ]
  },
  {
   "cell_type": "markdown",
   "id": "9bb2790d-ad06-4c4c-9f09-76101c55b36c",
   "metadata": {},
   "source": [
    "## Nano GraphRAG"
   ]
  },
  {
   "cell_type": "code",
   "execution_count": 10,
   "id": "6cc9db26-dbea-48af-b9ec-48125943ceae",
   "metadata": {
    "tags": []
   },
   "outputs": [
    {
     "name": "stderr",
     "output_type": "stream",
     "text": [
      "INFO:nano-graphrag:Switched the default openai funcs to Amazon Bedrock\n",
      "INFO:nano-graphrag:Load KV full_docs with 0 data\n",
      "INFO:nano-graphrag:Load KV text_chunks with 0 data\n",
      "INFO:nano-graphrag:Load KV llm_response_cache with 0 data\n",
      "INFO:nano-graphrag:Load KV community_reports with 0 data\n",
      "INFO:nano-graphrag:Loaded graph from ./dickens/graph_chunk_entity_relation.graphml with 0 nodes, 0 edges\n",
      "INFO:nano-vectordb:Load (0, 1024) data\n",
      "INFO:nano-vectordb:Init {'embedding_dim': 1024, 'metric': 'cosine', 'storage_file': './dickens/vdb_entities.json'} 0 data\n"
     ]
    }
   ],
   "source": [
    "# Use Amazon Bedrock models explicitly\n",
    "graph_func = GraphRAG(\n",
    "    working_dir=\"./dickens\",\n",
    "    using_amazon_bedrock=True,\n",
    "    best_model_id=\"us.meta.llama3-1-8b-instruct-v1:0\",  # Use a working model\n",
    "    cheap_model_id=\"us.meta.llama3-1-8b-instruct-v1:0\",  # Use same model to avoid permission issues\n",
    ")"
   ]
  },
  {
   "cell_type": "code",
   "execution_count": 11,
   "id": "ace16156-0644-413a-b304-986926df571e",
   "metadata": {
    "tags": []
   },
   "outputs": [],
   "source": [
    "# Read book content\n",
    "book_path = \"./book.txt\"\n",
    "try:\n",
    "    with open(book_path, \"r\", encoding=\"utf-8\") as f:\n",
    "        book_text = f.read()\n",
    "except FileNotFoundError:\n",
    "    logger.error(\"File 'book.txt' not found.\")\n",
    "    raise"
   ]
  },
  {
   "cell_type": "code",
   "execution_count": 12,
   "id": "2c47dccd-6d5e-4b39-83fb-77e23293491a",
   "metadata": {
    "tags": []
   },
   "outputs": [],
   "source": [
    "# Ensure async insert works properly\n",
    "async def async_insert_book():\n",
    "    try:\n",
    "        logger.info(\"Inserting book text into GraphRAG...\")\n",
    "        await graph_func.ainsert(book_text)  # Use async insert\n",
    "        logger.info(\"Data insertion completed successfully!\")\n",
    "    except Exception as e:\n",
    "        logger.error(f\"Failed to insert book text: {e}\")\n",
    "        raise"
   ]
  },
  {
   "cell_type": "code",
   "execution_count": 15,
   "id": "5972f9f4-9519-471f-b111-d5ac42610f62",
   "metadata": {
    "tags": []
   },
   "outputs": [
    {
     "name": "stderr",
     "output_type": "stream",
     "text": [
      "INFO:__main__:Inserting book text into GraphRAG...\n",
      "INFO:nano-graphrag:[New Docs] inserting 1 docs\n",
      "INFO:nano-graphrag:[New Chunks] inserting 42 chunks\n",
      "INFO:nano-graphrag:[Entity Extraction]...\n",
      "INFO:aiobotocore.credentials:Found credentials in environment variables.\n"
     ]
    },
    {
     "name": "stdout",
     "output_type": "stream",
     "text": [
      "⠹ Processed 42(100%) chunks,  896 entities(duplicated), 264 relations(duplicated)\r"
     ]
    },
    {
     "name": "stderr",
     "output_type": "stream",
     "text": [
      "INFO:nano-graphrag:Inserting 693 vectors to entities\n"
     ]
    },
    {
     "name": "stdout",
     "output_type": "stream",
     "text": [
      "\n"
     ]
    },
    {
     "name": "stderr",
     "output_type": "stream",
     "text": [
      "INFO:nano-graphrag:Writing graph with 694 nodes, 250 edges\n",
      "ERROR:__main__:Failed to insert book text: An error occurred (AccessDeniedException) when calling the InvokeModel operation: You don't have access to the model with the specified model ID.\n"
     ]
    }
   ],
   "source": [
    "# Handle event loop issues in Jupyter\n",
    "try:\n",
    "    loop = asyncio.get_running_loop()\n",
    "    task = loop.create_task(async_insert_book())\n",
    "except RuntimeError:\n",
    "    asyncio.run(async_insert_book())"
   ]
  },
  {
   "cell_type": "code",
   "execution_count": 18,
   "id": "cc50ba96-8622-4952-9e06-6c26ed1557ca",
   "metadata": {},
   "outputs": [
    {
     "name": "stderr",
     "output_type": "stream",
     "text": [
      "INFO:__main__:Performing global query: What are the top themes in this story?\n",
      "INFO:__main__:Global Query Response: Sorry, I'm not able to provide an answer to that question.\n"
     ]
    }
   ],
   "source": [
    "# Perform a **Global** GraphRAG query\n",
    "query_global = \"What are the top themes in this story?\"\n",
    "async def async_query_global():\n",
    "    try:\n",
    "        logger.info(f\"Performing global query: {query_global}\")\n",
    "        response_global = await graph_func.aquery(query_global)\n",
    "        logger.info(f\"Global Query Response: {response_global}\")\n",
    "    except Exception as e:\n",
    "        logger.error(f\"Global query failed: {e}\")\n",
    "        raise\n",
    "\n",
    "# Handle event loop issues in Jupyter\n",
    "try:\n",
    "    loop = asyncio.get_running_loop()\n",
    "    loop.create_task(async_query_global())\n",
    "except RuntimeError:\n",
    "    asyncio.run(async_query_global())"
   ]
  },
  {
   "cell_type": "code",
   "execution_count": 19,
   "id": "163c5519-c1ec-4e42-a270-578916b7b27a",
   "metadata": {
    "tags": []
   },
   "outputs": [
    {
     "name": "stderr",
     "output_type": "stream",
     "text": [
      "INFO:__main__:Performing local query: Summarize the main plot of the book.\n"
     ]
    }
   ],
   "source": [
    "# Perform a **Local** GraphRAG query\n",
    "query_local = \"Summarize the main plot of the book.\"\n",
    "async def async_query_local():\n",
    "    try:\n",
    "        logger.info(f\"Performing local query: {query_local}\")\n",
    "        response_local = await graph_func.aquery(query_local, param=QueryParam(mode=\"local\"))\n",
    "        logger.info(f\"Local Query Response: {response_local}\")\n",
    "    except Exception as e:\n",
    "        logger.error(f\"Local query failed: {e}\")\n",
    "        raise\n",
    "\n",
    "#Handle event loop issues in Jupyter\n",
    "try:\n",
    "    loop = asyncio.get_running_loop()\n",
    "    loop.create_task(async_query_local())\n",
    "except RuntimeError:\n",
    "    asyncio.run(async_query_local())"
   ]
  }
 ],
 "metadata": {
  "kernelspec": {
   "display_name": "conda_python3",
   "language": "python",
   "name": "conda_python3"
  },
  "language_info": {
   "codemirror_mode": {
    "name": "ipython",
    "version": 3
   },
   "file_extension": ".py",
   "mimetype": "text/x-python",
   "name": "python",
   "nbconvert_exporter": "python",
   "pygments_lexer": "ipython3",
   "version": "3.10.16"
  }
 },
 "nbformat": 4,
 "nbformat_minor": 5
}
