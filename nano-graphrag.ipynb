{
 "cells": [
  {
   "cell_type": "markdown",
   "id": "5a294ae1-6d37-47c5-832b-6c634ce4f90a",
   "metadata": {},
   "source": [
    "## Install Dependencies"
   ]
  },
  {
   "cell_type": "code",
   "execution_count": 1,
   "id": "2e835bfa-32b3-4375-9537-5d007d8af64e",
   "metadata": {},
   "outputs": [
    {
     "name": "stdout",
     "output_type": "stream",
     "text": [
      "Obtaining file:///home/ec2-user/SageMaker/nano-graphrag\n",
      "  Preparing metadata (setup.py) ... \u001b[?25ldone\n",
      "\u001b[?25hRequirement already satisfied: future>=1.0.0 in /home/ec2-user/anaconda3/envs/python3/lib/python3.10/site-packages (from nano-graphrag==0.0.8.2) (1.0.0)\n",
      "Requirement already satisfied: openai in /home/ec2-user/anaconda3/envs/python3/lib/python3.10/site-packages (from nano-graphrag==0.0.8.2) (1.63.0)\n",
      "Requirement already satisfied: tiktoken in /home/ec2-user/anaconda3/envs/python3/lib/python3.10/site-packages (from nano-graphrag==0.0.8.2) (0.8.0)\n",
      "Requirement already satisfied: networkx in /home/ec2-user/anaconda3/envs/python3/lib/python3.10/site-packages (from nano-graphrag==0.0.8.2) (3.4)\n",
      "Collecting graspologic (from nano-graphrag==0.0.8.2)\n",
      "  Downloading graspologic-3.4.1-py3-none-any.whl.metadata (5.8 kB)\n",
      "Collecting nano-vectordb (from nano-graphrag==0.0.8.2)\n",
      "  Downloading nano_vectordb-0.0.4.3-py3-none-any.whl.metadata (3.7 kB)\n",
      "Collecting hnswlib (from nano-graphrag==0.0.8.2)\n",
      "  Downloading hnswlib-0.8.0.tar.gz (36 kB)\n",
      "  Installing build dependencies ...done\n",
      "\u001b[?25h  Getting requirements to build wheel ... \u001b[?25ldone\n",
      "\u001b[?25h  Preparing metadata (pyproject.toml) ... \u001b[?25ldone\n",
      "\u001b[?25hCollecting xxhash (from nano-graphrag==0.0.8.2)\n",
      "  Downloading xxhash-3.5.0-cp310-cp310-manylinux_2_17_x86_64.manylinux2014_x86_64.whl.metadata (12 kB)\n",
      "Requirement already satisfied: tenacity in /home/ec2-user/anaconda3/envs/python3/lib/python3.10/site-packages (from nano-graphrag==0.0.8.2) (9.0.0)\n",
      "Collecting dspy-ai (from nano-graphrag==0.0.8.2)\n",
      "  Downloading dspy_ai-2.6.3-py3-none-any.whl.metadata (5.2 kB)\n",
      "Collecting neo4j (from nano-graphrag==0.0.8.2)\n",
      "  Downloading neo4j-5.28.1-py3-none-any.whl.metadata (5.9 kB)\n",
      "Collecting aioboto3 (from nano-graphrag==0.0.8.2)\n",
      "  Downloading aioboto3-13.4.0-py3-none-any.whl.metadata (8.9 kB)\n",
      "Collecting aiobotocore==2.18.0 (from aiobotocore[boto3]==2.18.0->aioboto3->nano-graphrag==0.0.8.2)\n",
      "  Downloading aiobotocore-2.18.0-py3-none-any.whl.metadata (23 kB)\n",
      "Collecting aiofiles>=23.2.1 (from aioboto3->nano-graphrag==0.0.8.2)\n",
      "  Downloading aiofiles-24.1.0-py3-none-any.whl.metadata (10 kB)\n",
      "Requirement already satisfied: aiohttp<4.0.0,>=3.9.2 in /home/ec2-user/anaconda3/envs/python3/lib/python3.10/site-packages (from aiobotocore==2.18.0->aiobotocore[boto3]==2.18.0->aioboto3->nano-graphrag==0.0.8.2) (3.11.11)\n",
      "Collecting aioitertools<1.0.0,>=0.5.1 (from aiobotocore==2.18.0->aiobotocore[boto3]==2.18.0->aioboto3->nano-graphrag==0.0.8.2)\n",
      "  Downloading aioitertools-0.12.0-py3-none-any.whl.metadata (3.8 kB)\n",
      "Collecting botocore<1.36.2,>=1.36.0 (from aiobotocore==2.18.0->aiobotocore[boto3]==2.18.0->aioboto3->nano-graphrag==0.0.8.2)\n",
      "  Downloading botocore-1.36.1-py3-none-any.whl.metadata (5.7 kB)\n",
      "Requirement already satisfied: python-dateutil<3.0.0,>=2.1 in /home/ec2-user/anaconda3/envs/python3/lib/python3.10/site-packages (from aiobotocore==2.18.0->aiobotocore[boto3]==2.18.0->aioboto3->nano-graphrag==0.0.8.2) (2.9.0.post0)\n",
      "Requirement already satisfied: jmespath<2.0.0,>=0.7.1 in /home/ec2-user/anaconda3/envs/python3/lib/python3.10/site-packages (from aiobotocore==2.18.0->aiobotocore[boto3]==2.18.0->aioboto3->nano-graphrag==0.0.8.2) (1.0.1)\n",
      "Requirement already satisfied: multidict<7.0.0,>=6.0.0 in /home/ec2-user/anaconda3/envs/python3/lib/python3.10/site-packages (from aiobotocore==2.18.0->aiobotocore[boto3]==2.18.0->aioboto3->nano-graphrag==0.0.8.2) (6.1.0)\n",
      "Requirement already satisfied: urllib3!=2.2.0,<3,>=1.25.4 in /home/ec2-user/anaconda3/envs/python3/lib/python3.10/site-packages (from aiobotocore==2.18.0->aiobotocore[boto3]==2.18.0->aioboto3->nano-graphrag==0.0.8.2) (2.3.0)\n",
      "Requirement already satisfied: wrapt<2.0.0,>=1.10.10 in /home/ec2-user/anaconda3/envs/python3/lib/python3.10/site-packages (from aiobotocore==2.18.0->aiobotocore[boto3]==2.18.0->aioboto3->nano-graphrag==0.0.8.2) (1.17.2)\n",
      "Collecting boto3<1.36.2,>=1.36.0 (from aiobotocore[boto3]==2.18.0->aioboto3->nano-graphrag==0.0.8.2)\n",
      "  Downloading boto3-1.36.1-py3-none-any.whl.metadata (6.6 kB)\n",
      "Collecting dspy>=v2.6.3 (from dspy-ai->nano-graphrag==0.0.8.2)\n",
      "  Downloading dspy-2.6.3-py3-none-any.whl.metadata (7.7 kB)\n",
      "Collecting POT<0.10,>=0.9 (from graspologic->nano-graphrag==0.0.8.2)\n",
      "  Downloading POT-0.9.5-cp310-cp310-manylinux_2_17_x86_64.manylinux2014_x86_64.whl.metadata (34 kB)\n",
      "Collecting anytree<3.0.0,>=2.12.1 (from graspologic->nano-graphrag==0.0.8.2)\n",
      "  Downloading anytree-2.12.1-py3-none-any.whl.metadata (8.1 kB)\n",
      "Collecting beartype<0.19.0,>=0.18.5 (from graspologic->nano-graphrag==0.0.8.2)\n",
      "  Downloading beartype-0.18.5-py3-none-any.whl.metadata (30 kB)\n",
      "Collecting gensim<5.0.0,>=4.3.2 (from graspologic->nano-graphrag==0.0.8.2)\n",
      "  Downloading gensim-4.3.3-cp310-cp310-manylinux_2_17_x86_64.manylinux2014_x86_64.whl.metadata (8.2 kB)\n",
      "Collecting graspologic-native<2.0.0,>=1.2.1 (from graspologic->nano-graphrag==0.0.8.2)\n",
      "  Downloading graspologic_native-1.2.3-cp38-abi3-manylinux_2_17_x86_64.manylinux2014_x86_64.whl.metadata (2.6 kB)\n",
      "Collecting hyppo<0.5.0,>=0.4.0 (from graspologic->nano-graphrag==0.0.8.2)\n",
      "  Downloading hyppo-0.4.0-py3-none-any.whl.metadata (1.7 kB)\n",
      "Requirement already satisfied: joblib<2.0.0,>=1.4.2 in /home/ec2-user/anaconda3/envs/python3/lib/python3.10/site-packages (from graspologic->nano-graphrag==0.0.8.2) (1.4.2)\n",
      "Requirement already satisfied: matplotlib<4.0.0,>=3.8.4 in /home/ec2-user/anaconda3/envs/python3/lib/python3.10/site-packages (from graspologic->nano-graphrag==0.0.8.2) (3.10.0)\n",
      "Requirement already satisfied: numpy<2.0.0,>=1.26.4 in /home/ec2-user/anaconda3/envs/python3/lib/python3.10/site-packages (from graspologic->nano-graphrag==0.0.8.2) (1.26.4)\n",
      "Requirement already satisfied: scikit-learn<2.0.0,>=1.4.2 in /home/ec2-user/anaconda3/envs/python3/lib/python3.10/site-packages (from graspologic->nano-graphrag==0.0.8.2) (1.6.1)\n",
      "Collecting scipy==1.12.0 (from graspologic->nano-graphrag==0.0.8.2)\n",
      "  Downloading scipy-1.12.0-cp310-cp310-manylinux_2_17_x86_64.manylinux2014_x86_64.whl.metadata (60 kB)\n",
      "Requirement already satisfied: seaborn<0.14.0,>=0.13.2 in /home/ec2-user/anaconda3/envs/python3/lib/python3.10/site-packages (from graspologic->nano-graphrag==0.0.8.2) (0.13.2)\n",
      "Requirement already satisfied: statsmodels<0.15.0,>=0.14.2 in /home/ec2-user/anaconda3/envs/python3/lib/python3.10/site-packages (from graspologic->nano-graphrag==0.0.8.2) (0.14.4)\n",
      "Requirement already satisfied: typing-extensions<5.0.0,>=4.4.0 in /home/ec2-user/anaconda3/envs/python3/lib/python3.10/site-packages (from graspologic->nano-graphrag==0.0.8.2) (4.12.2)\n",
      "Collecting umap-learn<0.6.0,>=0.5.6 (from graspologic->nano-graphrag==0.0.8.2)\n",
      "  Downloading umap_learn-0.5.7-py3-none-any.whl.metadata (21 kB)\n",
      "Requirement already satisfied: pytz in /home/ec2-user/anaconda3/envs/python3/lib/python3.10/site-packages (from neo4j->nano-graphrag==0.0.8.2) (2024.2)\n",
      "Requirement already satisfied: anyio<5,>=3.5.0 in /home/ec2-user/anaconda3/envs/python3/lib/python3.10/site-packages (from openai->nano-graphrag==0.0.8.2) (4.8.0)\n",
      "Requirement already satisfied: distro<2,>=1.7.0 in /home/ec2-user/anaconda3/envs/python3/lib/python3.10/site-packages (from openai->nano-graphrag==0.0.8.2) (1.9.0)\n",
      "Requirement already satisfied: httpx<1,>=0.23.0 in /home/ec2-user/anaconda3/envs/python3/lib/python3.10/site-packages (from openai->nano-graphrag==0.0.8.2) (0.27.2)\n",
      "Requirement already satisfied: jiter<1,>=0.4.0 in /home/ec2-user/anaconda3/envs/python3/lib/python3.10/site-packages (from openai->nano-graphrag==0.0.8.2) (0.8.2)\n",
      "Requirement already satisfied: pydantic<3,>=1.9.0 in /home/ec2-user/anaconda3/envs/python3/lib/python3.10/site-packages (from openai->nano-graphrag==0.0.8.2) (2.10.6)\n",
      "Requirement already satisfied: sniffio in /home/ec2-user/anaconda3/envs/python3/lib/python3.10/site-packages (from openai->nano-graphrag==0.0.8.2) (1.3.1)\n",
      "Requirement already satisfied: tqdm>4 in /home/ec2-user/anaconda3/envs/python3/lib/python3.10/site-packages (from openai->nano-graphrag==0.0.8.2) (4.67.1)\n",
      "Requirement already satisfied: regex>=2022.1.18 in /home/ec2-user/anaconda3/envs/python3/lib/python3.10/site-packages (from tiktoken->nano-graphrag==0.0.8.2) (2024.11.6)\n",
      "Requirement already satisfied: requests>=2.26.0 in /home/ec2-user/anaconda3/envs/python3/lib/python3.10/site-packages (from tiktoken->nano-graphrag==0.0.8.2) (2.32.3)\n",
      "Requirement already satisfied: exceptiongroup>=1.0.2 in /home/ec2-user/anaconda3/envs/python3/lib/python3.10/site-packages (from anyio<5,>=3.5.0->openai->nano-graphrag==0.0.8.2) (1.2.2)\n",
      "Requirement already satisfied: idna>=2.8 in /home/ec2-user/anaconda3/envs/python3/lib/python3.10/site-packages (from anyio<5,>=3.5.0->openai->nano-graphrag==0.0.8.2) (3.10)\n",
      "Requirement already satisfied: six in /home/ec2-user/anaconda3/envs/python3/lib/python3.10/site-packages (from anytree<3.0.0,>=2.12.1->graspologic->nano-graphrag==0.0.8.2) (1.17.0)\n",
      "Collecting asyncer==0.0.8 (from dspy>=v2.6.3->dspy-ai->nano-graphrag==0.0.8.2)\n",
      "  Downloading asyncer-0.0.8-py3-none-any.whl.metadata (6.7 kB)\n",
      "Collecting backoff (from dspy>=v2.6.3->dspy-ai->nano-graphrag==0.0.8.2)\n",
      "  Downloading backoff-2.2.1-py3-none-any.whl.metadata (14 kB)\n",
      "Collecting cachetools (from dspy>=v2.6.3->dspy-ai->nano-graphrag==0.0.8.2)\n",
      "  Downloading cachetools-5.5.1-py3-none-any.whl.metadata (5.4 kB)\n",
      "Requirement already satisfied: cloudpickle in /home/ec2-user/anaconda3/envs/python3/lib/python3.10/site-packages (from dspy>=v2.6.3->dspy-ai->nano-graphrag==0.0.8.2) (2.2.1)\n",
      "Collecting datasets (from dspy>=v2.6.3->dspy-ai->nano-graphrag==0.0.8.2)\n",
      "  Downloading datasets-3.2.0-py3-none-any.whl.metadata (20 kB)\n",
      "Collecting diskcache (from dspy>=v2.6.3->dspy-ai->nano-graphrag==0.0.8.2)\n",
      "  Downloading diskcache-5.6.3-py3-none-any.whl.metadata (20 kB)\n",
      "Requirement already satisfied: jinja2 in /home/ec2-user/anaconda3/envs/python3/lib/python3.10/site-packages (from dspy>=v2.6.3->dspy-ai->nano-graphrag==0.0.8.2) (3.1.5)\n",
      "Collecting json-repair (from dspy>=v2.6.3->dspy-ai->nano-graphrag==0.0.8.2)\n",
      "  Downloading json_repair-0.36.1-py3-none-any.whl.metadata (11 kB)\n",
      "Collecting litellm<2.0.0,>=1.59.8 (from litellm[proxy]<2.0.0,>=1.59.8->dspy>=v2.6.3->dspy-ai->nano-graphrag==0.0.8.2)\n",
      "  Downloading litellm-1.61.2-py3-none-any.whl.metadata (37 kB)\n",
      "Collecting magicattr~=0.1.6 (from dspy>=v2.6.3->dspy-ai->nano-graphrag==0.0.8.2)\n",
      "  Downloading magicattr-0.1.6-py2.py3-none-any.whl.metadata (3.2 kB)\n",
      "Collecting optuna (from dspy>=v2.6.3->dspy-ai->nano-graphrag==0.0.8.2)\n",
      "  Downloading optuna-4.2.1-py3-none-any.whl.metadata (17 kB)\n",
      "Requirement already satisfied: pandas in /home/ec2-user/anaconda3/envs/python3/lib/python3.10/site-packages (from dspy>=v2.6.3->dspy-ai->nano-graphrag==0.0.8.2) (1.5.3)\n",
      "Requirement already satisfied: ujson in /home/ec2-user/anaconda3/envs/python3/lib/python3.10/site-packages (from dspy>=v2.6.3->dspy-ai->nano-graphrag==0.0.8.2) (5.10.0)\n",
      "Collecting smart-open>=1.8.1 (from gensim<5.0.0,>=4.3.2->graspologic->nano-graphrag==0.0.8.2)\n",
      "  Downloading smart_open-7.1.0-py3-none-any.whl.metadata (24 kB)\n",
      "Requirement already satisfied: certifi in /home/ec2-user/anaconda3/envs/python3/lib/python3.10/site-packages (from httpx<1,>=0.23.0->openai->nano-graphrag==0.0.8.2) (2024.12.14)\n",
      "Requirement already satisfied: httpcore==1.* in /home/ec2-user/anaconda3/envs/python3/lib/python3.10/site-packages (from httpx<1,>=0.23.0->openai->nano-graphrag==0.0.8.2) (1.0.7)\n",
      "Requirement already satisfied: h11<0.15,>=0.13 in /home/ec2-user/anaconda3/envs/python3/lib/python3.10/site-packages (from httpcore==1.*->httpx<1,>=0.23.0->openai->nano-graphrag==0.0.8.2) (0.14.0)\n",
      "Requirement already satisfied: numba>=0.46 in /home/ec2-user/anaconda3/envs/python3/lib/python3.10/site-packages (from hyppo<0.5.0,>=0.4.0->graspologic->nano-graphrag==0.0.8.2) (0.60.0)\n",
      "Collecting autograd>=1.3 (from hyppo<0.5.0,>=0.4.0->graspologic->nano-graphrag==0.0.8.2)\n",
      "  Downloading autograd-1.7.0-py3-none-any.whl.metadata (7.5 kB)\n",
      "Requirement already satisfied: contourpy>=1.0.1 in /home/ec2-user/anaconda3/envs/python3/lib/python3.10/site-packages (from matplotlib<4.0.0,>=3.8.4->graspologic->nano-graphrag==0.0.8.2) (1.3.1)\n",
      "Requirement already satisfied: cycler>=0.10 in /home/ec2-user/anaconda3/envs/python3/lib/python3.10/site-packages (from matplotlib<4.0.0,>=3.8.4->graspologic->nano-graphrag==0.0.8.2) (0.12.1)\n",
      "Requirement already satisfied: fonttools>=4.22.0 in /home/ec2-user/anaconda3/envs/python3/lib/python3.10/site-packages (from matplotlib<4.0.0,>=3.8.4->graspologic->nano-graphrag==0.0.8.2) (4.55.3)\n",
      "Requirement already satisfied: kiwisolver>=1.3.1 in /home/ec2-user/anaconda3/envs/python3/lib/python3.10/site-packages (from matplotlib<4.0.0,>=3.8.4->graspologic->nano-graphrag==0.0.8.2) (1.4.7)\n",
      "Requirement already satisfied: packaging>=20.0 in /home/ec2-user/anaconda3/envs/python3/lib/python3.10/site-packages (from matplotlib<4.0.0,>=3.8.4->graspologic->nano-graphrag==0.0.8.2) (24.2)\n",
      "Requirement already satisfied: pillow>=8 in /home/ec2-user/anaconda3/envs/python3/lib/python3.10/site-packages (from matplotlib<4.0.0,>=3.8.4->graspologic->nano-graphrag==0.0.8.2) (11.1.0)\n",
      "Requirement already satisfied: pyparsing>=2.3.1 in /home/ec2-user/anaconda3/envs/python3/lib/python3.10/site-packages (from matplotlib<4.0.0,>=3.8.4->graspologic->nano-graphrag==0.0.8.2) (3.2.1)\n",
      "Requirement already satisfied: annotated-types>=0.6.0 in /home/ec2-user/anaconda3/envs/python3/lib/python3.10/site-packages (from pydantic<3,>=1.9.0->openai->nano-graphrag==0.0.8.2) (0.7.0)\n",
      "Requirement already satisfied: pydantic-core==2.27.2 in /home/ec2-user/anaconda3/envs/python3/lib/python3.10/site-packages (from pydantic<3,>=1.9.0->openai->nano-graphrag==0.0.8.2) (2.27.2)\n",
      "Requirement already satisfied: charset_normalizer<4,>=2 in /home/ec2-user/anaconda3/envs/python3/lib/python3.10/site-packages (from requests>=2.26.0->tiktoken->nano-graphrag==0.0.8.2) (3.4.1)\n",
      "Requirement already satisfied: threadpoolctl>=3.1.0 in /home/ec2-user/anaconda3/envs/python3/lib/python3.10/site-packages (from scikit-learn<2.0.0,>=1.4.2->graspologic->nano-graphrag==0.0.8.2) (3.5.0)\n",
      "Requirement already satisfied: patsy>=0.5.6 in /home/ec2-user/anaconda3/envs/python3/lib/python3.10/site-packages (from statsmodels<0.15.0,>=0.14.2->graspologic->nano-graphrag==0.0.8.2) (1.0.1)\n",
      "Collecting pynndescent>=0.5 (from umap-learn<0.6.0,>=0.5.6->graspologic->nano-graphrag==0.0.8.2)\n",
      "  Downloading pynndescent-0.5.13-py3-none-any.whl.metadata (6.8 kB)\n",
      "Requirement already satisfied: aiohappyeyeballs>=2.3.0 in /home/ec2-user/anaconda3/envs/python3/lib/python3.10/site-packages (from aiohttp<4.0.0,>=3.9.2->aiobotocore==2.18.0->aiobotocore[boto3]==2.18.0->aioboto3->nano-graphrag==0.0.8.2) (2.4.4)\n",
      "Requirement already satisfied: aiosignal>=1.1.2 in /home/ec2-user/anaconda3/envs/python3/lib/python3.10/site-packages (from aiohttp<4.0.0,>=3.9.2->aiobotocore==2.18.0->aiobotocore[boto3]==2.18.0->aioboto3->nano-graphrag==0.0.8.2) (1.3.2)\n",
      "Requirement already satisfied: async-timeout<6.0,>=4.0 in /home/ec2-user/anaconda3/envs/python3/lib/python3.10/site-packages (from aiohttp<4.0.0,>=3.9.2->aiobotocore==2.18.0->aiobotocore[boto3]==2.18.0->aioboto3->nano-graphrag==0.0.8.2) (4.0.3)\n",
      "Requirement already satisfied: attrs>=17.3.0 in /home/ec2-user/anaconda3/envs/python3/lib/python3.10/site-packages (from aiohttp<4.0.0,>=3.9.2->aiobotocore==2.18.0->aiobotocore[boto3]==2.18.0->aioboto3->nano-graphrag==0.0.8.2) (23.2.0)\n",
      "Requirement already satisfied: frozenlist>=1.1.1 in /home/ec2-user/anaconda3/envs/python3/lib/python3.10/site-packages (from aiohttp<4.0.0,>=3.9.2->aiobotocore==2.18.0->aiobotocore[boto3]==2.18.0->aioboto3->nano-graphrag==0.0.8.2) (1.5.0)\n",
      "Requirement already satisfied: propcache>=0.2.0 in /home/ec2-user/anaconda3/envs/python3/lib/python3.10/site-packages (from aiohttp<4.0.0,>=3.9.2->aiobotocore==2.18.0->aiobotocore[boto3]==2.18.0->aioboto3->nano-graphrag==0.0.8.2) (0.2.1)\n",
      "Requirement already satisfied: yarl<2.0,>=1.17.0 in /home/ec2-user/anaconda3/envs/python3/lib/python3.10/site-packages (from aiohttp<4.0.0,>=3.9.2->aiobotocore==2.18.0->aiobotocore[boto3]==2.18.0->aioboto3->nano-graphrag==0.0.8.2) (1.18.3)\n",
      "Collecting s3transfer<0.12.0,>=0.11.0 (from boto3<1.36.2,>=1.36.0->aiobotocore[boto3]==2.18.0->aioboto3->nano-graphrag==0.0.8.2)\n",
      "  Using cached s3transfer-0.11.2-py3-none-any.whl.metadata (1.7 kB)\n",
      "Requirement already satisfied: click in /home/ec2-user/anaconda3/envs/python3/lib/python3.10/site-packages (from litellm<2.0.0,>=1.59.8->litellm[proxy]<2.0.0,>=1.59.8->dspy>=v2.6.3->dspy-ai->nano-graphrag==0.0.8.2) (8.1.8)\n",
      "Requirement already satisfied: importlib-metadata>=6.8.0 in /home/ec2-user/anaconda3/envs/python3/lib/python3.10/site-packages (from litellm<2.0.0,>=1.59.8->litellm[proxy]<2.0.0,>=1.59.8->dspy>=v2.6.3->dspy-ai->nano-graphrag==0.0.8.2) (6.11.0)\n",
      "Requirement already satisfied: jsonschema<5.0.0,>=4.22.0 in /home/ec2-user/anaconda3/envs/python3/lib/python3.10/site-packages (from litellm<2.0.0,>=1.59.8->litellm[proxy]<2.0.0,>=1.59.8->dspy>=v2.6.3->dspy-ai->nano-graphrag==0.0.8.2) (4.23.0)\n",
      "Requirement already satisfied: python-dotenv>=0.2.0 in /home/ec2-user/anaconda3/envs/python3/lib/python3.10/site-packages (from litellm<2.0.0,>=1.59.8->litellm[proxy]<2.0.0,>=1.59.8->dspy>=v2.6.3->dspy-ai->nano-graphrag==0.0.8.2) (1.0.1)\n",
      "Requirement already satisfied: tokenizers in /home/ec2-user/anaconda3/envs/python3/lib/python3.10/site-packages (from litellm<2.0.0,>=1.59.8->litellm[proxy]<2.0.0,>=1.59.8->dspy>=v2.6.3->dspy-ai->nano-graphrag==0.0.8.2) (0.21.0)\n",
      "Requirement already satisfied: MarkupSafe>=2.0 in /home/ec2-user/anaconda3/envs/python3/lib/python3.10/site-packages (from jinja2->dspy>=v2.6.3->dspy-ai->nano-graphrag==0.0.8.2) (3.0.2)\n",
      "Requirement already satisfied: PyJWT<3.0.0,>=2.8.0 in /home/ec2-user/anaconda3/envs/python3/lib/python3.10/site-packages (from litellm[proxy]<2.0.0,>=1.59.8->dspy>=v2.6.3->dspy-ai->nano-graphrag==0.0.8.2) (2.10.1)\n",
      "Collecting apscheduler<4.0.0,>=3.10.4 (from litellm[proxy]<2.0.0,>=1.59.8->dspy>=v2.6.3->dspy-ai->nano-graphrag==0.0.8.2)\n",
      "  Downloading APScheduler-3.11.0-py3-none-any.whl.metadata (6.4 kB)\n",
      "Collecting cryptography<44.0.0,>=43.0.1 (from litellm[proxy]<2.0.0,>=1.59.8->dspy>=v2.6.3->dspy-ai->nano-graphrag==0.0.8.2)\n",
      "  Downloading cryptography-43.0.3-cp39-abi3-manylinux_2_17_x86_64.manylinux2014_x86_64.whl.metadata (5.4 kB)\n",
      "Requirement already satisfied: fastapi<0.116.0,>=0.115.5 in /home/ec2-user/anaconda3/envs/python3/lib/python3.10/site-packages (from litellm[proxy]<2.0.0,>=1.59.8->dspy>=v2.6.3->dspy-ai->nano-graphrag==0.0.8.2) (0.115.7)\n",
      "Collecting fastapi-sso<0.17.0,>=0.16.0 (from litellm[proxy]<2.0.0,>=1.59.8->dspy>=v2.6.3->dspy-ai->nano-graphrag==0.0.8.2)\n",
      "  Downloading fastapi_sso-0.16.0-py3-none-any.whl.metadata (7.0 kB)\n",
      "Collecting gunicorn<23.0.0,>=22.0.0 (from litellm[proxy]<2.0.0,>=1.59.8->dspy>=v2.6.3->dspy-ai->nano-graphrag==0.0.8.2)\n",
      "  Downloading gunicorn-22.0.0-py3-none-any.whl.metadata (4.4 kB)\n",
      "Requirement already satisfied: orjson<4.0.0,>=3.9.7 in /home/ec2-user/anaconda3/envs/python3/lib/python3.10/site-packages (from litellm[proxy]<2.0.0,>=1.59.8->dspy>=v2.6.3->dspy-ai->nano-graphrag==0.0.8.2) (3.10.15)\n",
      "Requirement already satisfied: pynacl<2.0.0,>=1.5.0 in /home/ec2-user/anaconda3/envs/python3/lib/python3.10/site-packages (from litellm[proxy]<2.0.0,>=1.59.8->dspy>=v2.6.3->dspy-ai->nano-graphrag==0.0.8.2) (1.5.0)\n",
      "Collecting python-multipart<0.0.19,>=0.0.18 (from litellm[proxy]<2.0.0,>=1.59.8->dspy>=v2.6.3->dspy-ai->nano-graphrag==0.0.8.2)\n",
      "  Downloading python_multipart-0.0.18-py3-none-any.whl.metadata (1.8 kB)\n",
      "Requirement already satisfied: pyyaml<7.0.0,>=6.0.1 in /home/ec2-user/anaconda3/envs/python3/lib/python3.10/site-packages (from litellm[proxy]<2.0.0,>=1.59.8->dspy>=v2.6.3->dspy-ai->nano-graphrag==0.0.8.2) (6.0.2)\n",
      "Collecting rq (from litellm[proxy]<2.0.0,>=1.59.8->dspy>=v2.6.3->dspy-ai->nano-graphrag==0.0.8.2)\n",
      "  Downloading rq-2.1.0-py3-none-any.whl.metadata (5.8 kB)\n",
      "Collecting uvicorn<0.30.0,>=0.29.0 (from litellm[proxy]<2.0.0,>=1.59.8->dspy>=v2.6.3->dspy-ai->nano-graphrag==0.0.8.2)\n",
      "  Downloading uvicorn-0.29.0-py3-none-any.whl.metadata (6.3 kB)\n",
      "Collecting uvloop<0.22.0,>=0.21.0 (from litellm[proxy]<2.0.0,>=1.59.8->dspy>=v2.6.3->dspy-ai->nano-graphrag==0.0.8.2)\n",
      "  Downloading uvloop-0.21.0-cp310-cp310-manylinux_2_17_x86_64.manylinux2014_x86_64.whl.metadata (4.9 kB)\n",
      "Requirement already satisfied: llvmlite<0.44,>=0.43.0dev0 in /home/ec2-user/anaconda3/envs/python3/lib/python3.10/site-packages (from numba>=0.46->hyppo<0.5.0,>=0.4.0->graspologic->nano-graphrag==0.0.8.2) (0.43.0)\n",
      "Requirement already satisfied: filelock in /home/ec2-user/anaconda3/envs/python3/lib/python3.10/site-packages (from datasets->dspy>=v2.6.3->dspy-ai->nano-graphrag==0.0.8.2) (3.16.1)\n",
      "Requirement already satisfied: pyarrow>=15.0.0 in /home/ec2-user/anaconda3/envs/python3/lib/python3.10/site-packages (from datasets->dspy>=v2.6.3->dspy-ai->nano-graphrag==0.0.8.2) (19.0.0)\n",
      "Collecting dill<0.3.9,>=0.3.0 (from datasets->dspy>=v2.6.3->dspy-ai->nano-graphrag==0.0.8.2)\n",
      "  Downloading dill-0.3.8-py3-none-any.whl.metadata (10 kB)\n",
      "Collecting multiprocess<0.70.17 (from datasets->dspy>=v2.6.3->dspy-ai->nano-graphrag==0.0.8.2)\n",
      "  Downloading multiprocess-0.70.16-py310-none-any.whl.metadata (7.2 kB)\n",
      "Collecting fsspec<=2024.9.0,>=2023.1.0 (from fsspec[http]<=2024.9.0,>=2023.1.0->datasets->dspy>=v2.6.3->dspy-ai->nano-graphrag==0.0.8.2)\n",
      "  Downloading fsspec-2024.9.0-py3-none-any.whl.metadata (11 kB)\n",
      "Requirement already satisfied: huggingface-hub>=0.23.0 in /home/ec2-user/anaconda3/envs/python3/lib/python3.10/site-packages (from datasets->dspy>=v2.6.3->dspy-ai->nano-graphrag==0.0.8.2) (0.28.1)\n",
      "Collecting alembic>=1.5.0 (from optuna->dspy>=v2.6.3->dspy-ai->nano-graphrag==0.0.8.2)\n",
      "  Downloading alembic-1.14.1-py3-none-any.whl.metadata (7.4 kB)\n",
      "Collecting colorlog (from optuna->dspy>=v2.6.3->dspy-ai->nano-graphrag==0.0.8.2)\n",
      "  Downloading colorlog-6.9.0-py3-none-any.whl.metadata (10 kB)\n",
      "Requirement already satisfied: sqlalchemy>=1.4.2 in /home/ec2-user/anaconda3/envs/python3/lib/python3.10/site-packages (from optuna->dspy>=v2.6.3->dspy-ai->nano-graphrag==0.0.8.2) (2.0.37)\n",
      "Collecting Mako (from alembic>=1.5.0->optuna->dspy>=v2.6.3->dspy-ai->nano-graphrag==0.0.8.2)\n",
      "  Downloading Mako-1.3.9-py3-none-any.whl.metadata (2.9 kB)\n",
      "Collecting tzlocal>=3.0 (from apscheduler<4.0.0,>=3.10.4->litellm[proxy]<2.0.0,>=1.59.8->dspy>=v2.6.3->dspy-ai->nano-graphrag==0.0.8.2)\n",
      "  Downloading tzlocal-5.3-py3-none-any.whl.metadata (7.6 kB)\n",
      "Requirement already satisfied: cffi>=1.12 in /home/ec2-user/anaconda3/envs/python3/lib/python3.10/site-packages (from cryptography<44.0.0,>=43.0.1->litellm[proxy]<2.0.0,>=1.59.8->dspy>=v2.6.3->dspy-ai->nano-graphrag==0.0.8.2) (1.17.1)\n",
      "Requirement already satisfied: starlette<0.46.0,>=0.40.0 in /home/ec2-user/anaconda3/envs/python3/lib/python3.10/site-packages (from fastapi<0.116.0,>=0.115.5->litellm[proxy]<2.0.0,>=1.59.8->dspy>=v2.6.3->dspy-ai->nano-graphrag==0.0.8.2) (0.45.3)\n",
      "Collecting oauthlib>=3.1.0 (from fastapi-sso<0.17.0,>=0.16.0->litellm[proxy]<2.0.0,>=1.59.8->dspy>=v2.6.3->dspy-ai->nano-graphrag==0.0.8.2)\n",
      "  Downloading oauthlib-3.2.2-py3-none-any.whl.metadata (7.5 kB)\n",
      "Requirement already satisfied: zipp>=0.5 in /home/ec2-user/anaconda3/envs/python3/lib/python3.10/site-packages (from importlib-metadata>=6.8.0->litellm<2.0.0,>=1.59.8->litellm[proxy]<2.0.0,>=1.59.8->dspy>=v2.6.3->dspy-ai->nano-graphrag==0.0.8.2) (3.21.0)\n",
      "Requirement already satisfied: jsonschema-specifications>=2023.03.6 in /home/ec2-user/anaconda3/envs/python3/lib/python3.10/site-packages (from jsonschema<5.0.0,>=4.22.0->litellm<2.0.0,>=1.59.8->litellm[proxy]<2.0.0,>=1.59.8->dspy>=v2.6.3->dspy-ai->nano-graphrag==0.0.8.2) (2024.10.1)\n",
      "Requirement already satisfied: referencing>=0.28.4 in /home/ec2-user/anaconda3/envs/python3/lib/python3.10/site-packages (from jsonschema<5.0.0,>=4.22.0->litellm<2.0.0,>=1.59.8->litellm[proxy]<2.0.0,>=1.59.8->dspy>=v2.6.3->dspy-ai->nano-graphrag==0.0.8.2) (0.36.1)\n",
      "Requirement already satisfied: rpds-py>=0.7.1 in /home/ec2-user/anaconda3/envs/python3/lib/python3.10/site-packages (from jsonschema<5.0.0,>=4.22.0->litellm<2.0.0,>=1.59.8->litellm[proxy]<2.0.0,>=1.59.8->dspy>=v2.6.3->dspy-ai->nano-graphrag==0.0.8.2) (0.22.3)\n",
      "Requirement already satisfied: greenlet!=0.4.17 in /home/ec2-user/anaconda3/envs/python3/lib/python3.10/site-packages (from sqlalchemy>=1.4.2->optuna->dspy>=v2.6.3->dspy-ai->nano-graphrag==0.0.8.2) (3.1.1)\n",
      "Collecting redis>=3.5 (from rq->litellm[proxy]<2.0.0,>=1.59.8->dspy>=v2.6.3->dspy-ai->nano-graphrag==0.0.8.2)\n",
      "  Downloading redis-5.2.1-py3-none-any.whl.metadata (9.1 kB)\n",
      "Requirement already satisfied: pycparser in /home/ec2-user/anaconda3/envs/python3/lib/python3.10/site-packages (from cffi>=1.12->cryptography<44.0.0,>=43.0.1->litellm[proxy]<2.0.0,>=1.59.8->dspy>=v2.6.3->dspy-ai->nano-graphrag==0.0.8.2) (2.22)\n",
      "Collecting email-validator>=2.0.0 (from pydantic[email]>=1.8.0->fastapi-sso<0.17.0,>=0.16.0->litellm[proxy]<2.0.0,>=1.59.8->dspy>=v2.6.3->dspy-ai->nano-graphrag==0.0.8.2)\n",
      "  Downloading email_validator-2.2.0-py3-none-any.whl.metadata (25 kB)\n",
      "Collecting dnspython>=2.0.0 (from email-validator>=2.0.0->pydantic[email]>=1.8.0->fastapi-sso<0.17.0,>=0.16.0->litellm[proxy]<2.0.0,>=1.59.8->dspy>=v2.6.3->dspy-ai->nano-graphrag==0.0.8.2)\n",
      "  Downloading dnspython-2.7.0-py3-none-any.whl.metadata (5.8 kB)\n",
      "Downloading aioboto3-13.4.0-py3-none-any.whl (34 kB)\n",
      "Downloading aiobotocore-2.18.0-py3-none-any.whl (77 kB)\n",
      "Downloading dspy_ai-2.6.3-py3-none-any.whl (255 kB)\n",
      "Downloading graspologic-3.4.1-py3-none-any.whl (5.2 MB)\n",
      "\u001b[2K   \u001b[90m━━━━━━━━━━━━━━━━━━━━━━━━━━━━━━━━━━━━━━━━\u001b[0m \u001b[32m5.2/5.2 MB\u001b[0m \u001b[31m150.0 MB/s\u001b[0m eta \u001b[36m0:00:00\u001b[0m\n",
      "\u001b[?25hDownloading scipy-1.12.0-cp310-cp310-manylinux_2_17_x86_64.manylinux2014_x86_64.whl (38.4 MB)\n",
      "\u001b[2K   \u001b[90m━━━━━━━━━━━━━━━━━━━━━━━━━━━━━━━━━━━━━━━━\u001b[0m \u001b[32m38.4/38.4 MB\u001b[0m \u001b[31m163.3 MB/s\u001b[0m eta \u001b[36m0:00:00\u001b[0m00:01\u001b[0m\n",
      "\u001b[?25hDownloading nano_vectordb-0.0.4.3-py3-none-any.whl (5.6 kB)\n",
      "Downloading neo4j-5.28.1-py3-none-any.whl (312 kB)\n",
      "Downloading xxhash-3.5.0-cp310-cp310-manylinux_2_17_x86_64.manylinux2014_x86_64.whl (194 kB)\n",
      "Downloading aiofiles-24.1.0-py3-none-any.whl (15 kB)\n",
      "Downloading anytree-2.12.1-py3-none-any.whl (44 kB)\n",
      "Downloading beartype-0.18.5-py3-none-any.whl (917 kB)\n",
      "\u001b[2K   \u001b[90m━━━━━━━━━━━━━━━━━━━━━━━━━━━━━━━━━━━━━━━━\u001b[0m \u001b[32m917.8/917.8 kB\u001b[0m \u001b[31m50.6 MB/s\u001b[0m eta \u001b[36m0:00:00\u001b[0m\n",
      "\u001b[?25hDownloading dspy-2.6.3-py3-none-any.whl (256 kB)\n",
      "Downloading asyncer-0.0.8-py3-none-any.whl (9.2 kB)\n",
      "Downloading gensim-4.3.3-cp310-cp310-manylinux_2_17_x86_64.manylinux2014_x86_64.whl (26.5 MB)\n",
      "\u001b[2K   \u001b[90m━━━━━━━━━━━━━━━━━━━━━━━━━━━━━━━━━━━━━━━━\u001b[0m \u001b[32m26.5/26.5 MB\u001b[0m \u001b[31m145.3 MB/s\u001b[0m eta \u001b[36m0:00:00\u001b[0m\n",
      "\u001b[?25hDownloading graspologic_native-1.2.3-cp38-abi3-manylinux_2_17_x86_64.manylinux2014_x86_64.whl (365 kB)\n",
      "Downloading hyppo-0.4.0-py3-none-any.whl (146 kB)\n",
      "Downloading POT-0.9.5-cp310-cp310-manylinux_2_17_x86_64.manylinux2014_x86_64.whl (865 kB)\n",
      "\u001b[2K   \u001b[90m━━━━━━━━━━━━━━━━━━━━━━━━━━━━━━━━━━━━━━━━\u001b[0m \u001b[32m865.6/865.6 kB\u001b[0m \u001b[31m76.3 MB/s\u001b[0m eta \u001b[36m0:00:00\u001b[0m\n",
      "\u001b[?25hDownloading umap_learn-0.5.7-py3-none-any.whl (88 kB)\n",
      "Downloading aioitertools-0.12.0-py3-none-any.whl (24 kB)\n",
      "Downloading autograd-1.7.0-py3-none-any.whl (52 kB)\n",
      "Downloading boto3-1.36.1-py3-none-any.whl (139 kB)\n",
      "Downloading botocore-1.36.1-py3-none-any.whl (13.3 MB)\n",
      "\u001b[2K   \u001b[90m━━━━━━━━━━━━━━━━━━━━━━━━━━━━━━━━━━━━━━━━\u001b[0m \u001b[32m13.3/13.3 MB\u001b[0m \u001b[31m139.0 MB/s\u001b[0m eta \u001b[36m0:00:00\u001b[0m\n",
      "Downloading litellm-1.61.2-py3-none-any.whl (6.8 MB)\n",
      "\u001b[2K   \u001b[90m━━━━━━━━━━━━━━━━━━━━━━━━━━━━━━━━━━━━━━━━\u001b[0m \u001b[32m6.8/6.8 MB\u001b[0m \u001b[31m131.8 MB/s\u001b[0m eta \u001b[36m0:00:00\u001b[0m\n",
      "\u001b[?25hDownloading magicattr-0.1.6-py2.py3-none-any.whl (4.7 kB)\n",
      "Downloading pynndescent-0.5.13-py3-none-any.whl (56 kB)\n",
      "Downloading smart_open-7.1.0-py3-none-any.whl (61 kB)\n",
      "Downloading backoff-2.2.1-py3-none-any.whl (15 kB)\n",
      "Downloading cachetools-5.5.1-py3-none-any.whl (9.5 kB)\n",
      "Downloading datasets-3.2.0-py3-none-any.whl (480 kB)\n",
      "Downloading diskcache-5.6.3-py3-none-any.whl (45 kB)\n",
      "Downloading json_repair-0.36.1-py3-none-any.whl (19 kB)\n",
      "Downloading optuna-4.2.1-py3-none-any.whl (383 kB)\n",
      "Downloading alembic-1.14.1-py3-none-any.whl (233 kB)\n",
      "Downloading APScheduler-3.11.0-py3-none-any.whl (64 kB)\n",
      "Downloading cryptography-43.0.3-cp39-abi3-manylinux_2_17_x86_64.manylinux2014_x86_64.whl (4.0 MB)\n",
      "\u001b[2K   \u001b[90m━━━━━━━━━━━━━━━━━━━━━━━━━━━━━━━━━━━━━━━━\u001b[0m \u001b[32m4.0/4.0 MB\u001b[0m \u001b[31m144.2 MB/s\u001b[0m eta \u001b[36m0:00:00\u001b[0m\n",
      "\u001b[?25hDownloading dill-0.3.8-py3-none-any.whl (116 kB)\n",
      "Downloading fastapi_sso-0.16.0-py3-none-any.whl (23 kB)\n",
      "Downloading fsspec-2024.9.0-py3-none-any.whl (179 kB)\n",
      "Downloading gunicorn-22.0.0-py3-none-any.whl (84 kB)\n",
      "Downloading multiprocess-0.70.16-py310-none-any.whl (134 kB)\n",
      "Downloading python_multipart-0.0.18-py3-none-any.whl (24 kB)\n",
      "Using cached s3transfer-0.11.2-py3-none-any.whl (84 kB)\n",
      "Downloading uvicorn-0.29.0-py3-none-any.whl (60 kB)\n",
      "Downloading uvloop-0.21.0-cp310-cp310-manylinux_2_17_x86_64.manylinux2014_x86_64.whl (3.8 MB)\n",
      "\u001b[2K   \u001b[90m━━━━━━━━━━━━━━━━━━━━━━━━━━━━━━━━━━━━━━━━\u001b[0m \u001b[32m3.8/3.8 MB\u001b[0m \u001b[31m118.8 MB/s\u001b[0m eta \u001b[36m0:00:00\u001b[0m\n",
      "\u001b[?25hDownloading colorlog-6.9.0-py3-none-any.whl (11 kB)\n",
      "Downloading rq-2.1.0-py3-none-any.whl (96 kB)\n",
      "Downloading oauthlib-3.2.2-py3-none-any.whl (151 kB)\n",
      "Downloading redis-5.2.1-py3-none-any.whl (261 kB)\n",
      "Downloading tzlocal-5.3-py3-none-any.whl (17 kB)\n",
      "Downloading Mako-1.3.9-py3-none-any.whl (78 kB)\n",
      "Downloading email_validator-2.2.0-py3-none-any.whl (33 kB)\n",
      "Downloading dnspython-2.7.0-py3-none-any.whl (313 kB)\n",
      "Building wheels for collected packages: hnswlib\n",
      "  Building wheel for hnswlib (pyproject.toml) .done\n",
      "\u001b[?25h  Created wheel for hnswlib: filename=hnswlib-0.8.0-cp310-cp310-linux_x86_64.whl size=184788 sha256=d7789022128bea7e59d8d8be1387f062165c94436364a0aaa95e21c181b71551\n",
      "  Stored in directory: /home/ec2-user/.cache/pip/wheels/af/a9/3e/3e5d59ee41664eb31a4e6de67d1846f86d16d93c45f277c4e7\n",
      "Successfully built hnswlib\n",
      "Installing collected packages: magicattr, xxhash, uvloop, uvicorn, tzlocal, smart-open, scipy, redis, python-multipart, oauthlib, neo4j, nano-vectordb, Mako, json-repair, hnswlib, gunicorn, graspologic-native, fsspec, dnspython, diskcache, dill, colorlog, cachetools, beartype, backoff, autograd, anytree, aioitertools, aiofiles, rq, POT, multiprocess, gensim, email-validator, cryptography, botocore, asyncer, apscheduler, alembic, s3transfer, pynndescent, optuna, hyppo, umap-learn, litellm, fastapi-sso, boto3, aiobotocore, graspologic, datasets, dspy, aioboto3, dspy-ai, nano-graphrag\n",
      "  Attempting uninstall: uvicorn\n",
      "    Found existing installation: uvicorn 0.34.0\n",
      "    Uninstalling uvicorn-0.34.0:\n",
      "      Successfully uninstalled uvicorn-0.34.0\n",
      "  Attempting uninstall: scipy\n",
      "    Found existing installation: scipy 1.15.1\n",
      "    Uninstalling scipy-1.15.1:\n",
      "      Successfully uninstalled scipy-1.15.1\n",
      "  Attempting uninstall: fsspec\n",
      "    Found existing installation: fsspec 2024.12.0\n",
      "    Uninstalling fsspec-2024.12.0:\n",
      "      Successfully uninstalled fsspec-2024.12.0\n",
      "  Attempting uninstall: dill\n",
      "    Found existing installation: dill 0.3.9\n",
      "    Uninstalling dill-0.3.9:\n",
      "      Successfully uninstalled dill-0.3.9\n",
      "  Attempting uninstall: multiprocess\n",
      "    Found existing installation: multiprocess 0.70.17\n",
      "    Uninstalling multiprocess-0.70.17:\n",
      "      Successfully uninstalled multiprocess-0.70.17\n",
      "  Attempting uninstall: cryptography\n",
      "    Found existing installation: cryptography 44.0.0\n",
      "    Uninstalling cryptography-44.0.0:\n",
      "      Successfully uninstalled cryptography-44.0.0\n",
      "  Attempting uninstall: botocore\n",
      "    Found existing installation: botocore 1.35.99\n",
      "    Uninstalling botocore-1.35.99:\n",
      "      Successfully uninstalled botocore-1.35.99\n",
      "  Attempting uninstall: s3transfer\n",
      "    Found existing installation: s3transfer 0.10.4\n",
      "    Uninstalling s3transfer-0.10.4:\n",
      "      Successfully uninstalled s3transfer-0.10.4\n",
      "  Attempting uninstall: litellm\n",
      "    Found existing installation: litellm 1.55.12\n",
      "    Uninstalling litellm-1.55.12:\n",
      "      Successfully uninstalled litellm-1.55.12\n",
      "  Attempting uninstall: boto3\n",
      "    Found existing installation: boto3 1.35.87\n",
      "    Uninstalling boto3-1.35.87:\n",
      "      Successfully uninstalled boto3-1.35.87\n",
      "\u001b[33m  DEPRECATION: Legacy editable install of nano-graphrag==0.0.8.2 from file:///home/ec2-user/SageMaker/nano-graphrag (setup.py develop) is deprecated. pip 25.0 will enforce this behaviour change. A possible replacement is to add a pyproject.toml or enable --use-pep517, and use setuptools >= 64. If the resulting installation is not behaving as expected, try using --config-settings editable_mode=compat. Please consult the setuptools documentation for more information. Discussion can be found at https://github.com/pypa/pip/issues/11457\u001b[0m\u001b[33m\n",
      "\u001b[0m  Running setup.py develop for nano-graphrag\n",
      "\u001b[31mERROR: pip's dependency resolver does not currently take into account all the packages that are installed. This behaviour is the source of the following dependency conflicts.\n",
      "awscli 1.37.6 requires botocore==1.36.6, but you have botocore 1.36.1 which is incompatible.\n",
      "pathos 0.3.3 requires dill>=0.3.9, but you have dill 0.3.8 which is incompatible.\n",
      "pathos 0.3.3 requires multiprocess>=0.70.17, but you have multiprocess 0.70.16 which is incompatible.\u001b[0m\u001b[31m\n",
      "\u001b[0mSuccessfully installed Mako-1.3.9 POT-0.9.5 aioboto3-13.4.0 aiobotocore-2.18.0 aiofiles-24.1.0 aioitertools-0.12.0 alembic-1.14.1 anytree-2.12.1 apscheduler-3.11.0 asyncer-0.0.8 autograd-1.7.0 backoff-2.2.1 beartype-0.18.5 boto3-1.36.1 botocore-1.36.1 cachetools-5.5.1 colorlog-6.9.0 cryptography-43.0.3 datasets-3.2.0 dill-0.3.8 diskcache-5.6.3 dnspython-2.7.0 dspy-2.6.3 dspy-ai-2.6.3 email-validator-2.2.0 fastapi-sso-0.16.0 fsspec-2024.9.0 gensim-4.3.3 graspologic-3.4.1 graspologic-native-1.2.3 gunicorn-22.0.0 hnswlib-0.8.0 hyppo-0.4.0 json-repair-0.36.1 litellm-1.61.2 magicattr-0.1.6 multiprocess-0.70.16 nano-graphrag nano-vectordb-0.0.4.3 neo4j-5.28.1 oauthlib-3.2.2 optuna-4.2.1 pynndescent-0.5.13 python-multipart-0.0.18 redis-5.2.1 rq-2.1.0 s3transfer-0.11.2 scipy-1.12.0 smart-open-7.1.0 tzlocal-5.3 umap-learn-0.5.7 uvicorn-0.29.0 uvloop-0.21.0 xxhash-3.5.0\n"
     ]
    }
   ],
   "source": [
    "# Install dependencies\n",
    "!pip install -e ."
   ]
  },
  {
   "cell_type": "markdown",
   "id": "9295947b-436b-4770-a992-71d175f39c9a",
   "metadata": {},
   "source": [
    "## Import Required Libraries"
   ]
  },
  {
   "cell_type": "code",
   "execution_count": 5,
   "id": "23bd8749-9ef9-4ef5-a637-0384133c767c",
   "metadata": {},
   "outputs": [],
   "source": [
    "import os\n",
    "import json\n",
    "import time\n",
    "import boto3\n",
    "import logging\n",
    "import litellm\n",
    "from pathlib import Path\n",
    "from litellm import completion, RateLimitError\n",
    "from nano_graphrag import GraphRAG, QueryParam"
   ]
  },
  {
   "cell_type": "markdown",
   "id": "fa05f4cc-00ce-4b68-a4d1-58490ffb32d8",
   "metadata": {},
   "source": [
    "## Setup Logging"
   ]
  },
  {
   "cell_type": "code",
   "execution_count": 6,
   "id": "469b0862-ba61-4f30-b015-e3a1a4b38ee7",
   "metadata": {},
   "outputs": [],
   "source": [
    "logging.basicConfig(\n",
    "    format='[%(asctime)s] p%(process)s {%(filename)s:%(lineno)d} %(levelname)s - %(message)s', \n",
    "    level=logging.INFO\n",
    ")\n",
    "logger = logging.getLogger(__name__)"
   ]
  },
  {
   "cell_type": "markdown",
   "id": "12a25fb5-bc43-44a0-8f23-e58157089e94",
   "metadata": {},
   "source": [
    "### Define Environment Variable"
   ]
  },
  {
   "cell_type": "code",
   "execution_count": 7,
   "id": "7b883d8c-2df4-4a5e-afdb-7f5244bf524e",
   "metadata": {},
   "outputs": [],
   "source": [
    "os.environ[\"AWS_REGION_NAME\"] = \"us-east-1\""
   ]
  },
  {
   "cell_type": "markdown",
   "id": "bd2d8c7b-3839-456e-94e4-321106e9637f",
   "metadata": {},
   "source": [
    "## Assume Cross-Account Role"
   ]
  },
  {
   "cell_type": "code",
   "execution_count": 8,
   "id": "64c653e6-69a8-4437-96a9-8637e3d20b87",
   "metadata": {},
   "outputs": [
    {
     "name": "stderr",
     "output_type": "stream",
     "text": [
      "INFO:__main__:ROLE_TO_ASSUME=arn:aws:iam::605134468121:role/BedrockCrossAccount\n",
      "INFO:botocore.credentials:Found credentials from IAM Role: BaseNotebookInstanceEc2InstanceRole\n"
     ]
    }
   ],
   "source": [
    "# Read the IAM role from the BedrockCrossAccount.txt file\n",
    "ROLE_TO_ASSUME = Path(os.path.join(os.environ[\"HOME\"], \"BedrockCrossAccount.txt\")).read_text().strip()\n",
    "logger.info(f\"ROLE_TO_ASSUME={ROLE_TO_ASSUME}\")\n",
    "\n",
    "# Assume the IAM role using AWS STS\n",
    "credentials = boto3.client('sts').assume_role(\n",
    "    RoleArn=ROLE_TO_ASSUME,\n",
    "    RoleSessionName='BedrockSession'\n",
    ")['Credentials']\n",
    "\n",
    "# Set environment variables for AWS credentials\n",
    "os.environ[\"AWS_ACCESS_KEY_ID\"] = credentials['AccessKeyId']\n",
    "os.environ[\"AWS_SECRET_ACCESS_KEY\"] = credentials['SecretAccessKey']\n",
    "os.environ[\"AWS_SESSION_TOKEN\"] = credentials['SessionToken']"
   ]
  },
  {
   "cell_type": "code",
   "execution_count": 9,
   "id": "4eeddf0d-3314-46b4-9ee3-4c77b3960d7f",
   "metadata": {},
   "outputs": [
    {
     "name": "stdout",
     "output_type": "stream",
     "text": [
      "{\n",
      "    \"UserId\": \"AROAYZZGTGQMSXMXAZQY7:BedrockSession\",\n",
      "    \"Account\": \"605134468121\",\n",
      "    \"Arn\": \"arn:aws:sts::605134468121:assumed-role/BedrockCrossAccount/BedrockSession\"\n",
      "}\n"
     ]
    }
   ],
   "source": [
    "!aws sts get-caller-identity"
   ]
  },
  {
   "cell_type": "markdown",
   "id": "96f7f974-13c7-47b4-9d95-fc9a3cc6c905",
   "metadata": {},
   "source": [
    "## A wrapper function to invoke LiteLLM"
   ]
  },
  {
   "cell_type": "code",
   "execution_count": 10,
   "id": "a17e33a1-9dd8-4401-b919-42dcd2f2e997",
   "metadata": {},
   "outputs": [
    {
     "name": "stderr",
     "output_type": "stream",
     "text": [
      "INFO:__main__:Role ARN read from file: arn:aws:iam::605134468121:role/BedrockCrossAccount\n"
     ]
    }
   ],
   "source": [
    "logger.info(f\"Role ARN read from file: {ROLE_TO_ASSUME}\")"
   ]
  },
  {
   "cell_type": "code",
   "execution_count": 11,
   "id": "73a17bc8-d0fe-4443-a4f8-aa2e8ae54600",
   "metadata": {},
   "outputs": [],
   "source": [
    "litellm.set_verbose=False"
   ]
  },
  {
   "cell_type": "code",
   "execution_count": 12,
   "id": "03c94dfc-fd40-4493-9618-2c284e611a58",
   "metadata": {},
   "outputs": [],
   "source": [
    "import litellm\n",
    "from typing import Tuple\n",
    "def get_inference(model_name: str, prompt: str, max_tokens: int = 100, temperature: float = 0.7, n: int = 1, top_p: float = 1, stream: bool = False) -> Tuple[litellm.types.utils.ModelResponse, float]:\n",
    "    import sys\n",
    "    import time\n",
    "    max_retries = 10\n",
    "    retry_delay = 60  # seconds\n",
    "    \n",
    "    for attempt in range(max_retries):\n",
    "        try:\n",
    "            # Your task processing code here\n",
    "            print(f\"model_name={model_name}\")\n",
    "            st = time.perf_counter()\n",
    "            response = completion(\n",
    "                    model=model_name,\n",
    "                    model_id=None,\n",
    "                    messages=[{\"role\": \"user\", \"content\": prompt}],\n",
    "                    max_tokens=max_tokens,\n",
    "                    temperature=temperature,\n",
    "                    n=n,\n",
    "                    top_p=top_p,\n",
    "                    stream=stream\n",
    "                )\n",
    "            latency = time.perf_counter() - st\n",
    "            print(f\"got response in {latency:0.2f}s\")\n",
    "            return response, latency\n",
    "        except RateLimitError as e:\n",
    "            if attempt < max_retries - 1:\n",
    "                this_retry_delay = retry_delay * (attempt + 1) + random.randint(1, 10)\n",
    "                print(f\"rate limit hit for model_id {model_id} on attempt {attempt + 1}. Waiting {this_retry_delay} seconds...\", file=sys.stderr, flush=True)\n",
    "                time.sleep(this_retry_delay)\n",
    "                continue\n",
    "            else:\n",
    "                print(f\"max retries exceeded for model_id {model_id}\", file=sys.stderr, flush=True)\n",
    "                raise  # Re-raise the exception if we've exhausted all retries\n",
    "                \n",
    "        except Exception as e:\n",
    "            print(f\"Unexpected error processing model_id {model_id}: {e}\", file=sys.stderr, flush=True)\n",
    "            raise"
   ]
  },
  {
   "cell_type": "markdown",
   "id": "706ff250-c7d5-454b-99d1-9b120f65cc92",
   "metadata": {},
   "source": [
    "## Read Data"
   ]
  },
  {
   "cell_type": "code",
   "execution_count": 13,
   "id": "4e2bb8d4-e445-4d7f-bb54-5cc499ae4b10",
   "metadata": {},
   "outputs": [
    {
     "name": "stdout",
     "output_type": "stream",
     "text": [
      "  % Total    % Received % Xferd  Average Speed   Time    Time     Time  Current\n",
      "                                 Dload  Upload   Total   Spent    Left  Speed\n",
      "100  184k  100  184k    0     0  1848k      0 --:--:-- --:--:-- --:--:-- 1866k\n"
     ]
    }
   ],
   "source": [
    "!curl https://raw.githubusercontent.com/gusye1234/nano-graphrag/main/tests/mock_data.txt > book.txt"
   ]
  },
  {
   "cell_type": "code",
   "execution_count": 14,
   "id": "51ffff04-d20b-402e-a264-38255095dc83",
   "metadata": {},
   "outputs": [],
   "source": [
    "model_id_list = [\"bedrock/us.meta.llama3-1-70b-instruct-v1:0\",\n",
    "                 \"bedrock/us.meta.llama3-2-1b-instruct-v1:0\",\n",
    "                 \"bedrock/us.meta.llama3-2-3b-instruct-v1:0\",\n",
    "                 \"bedrock/us.meta.llama3-2-11b-instruct-v1:0\",\n",
    "                 \"bedrock/us.meta.llama3-2-90b-instruct-v1:0\",\n",
    "                 \"bedrock/us.anthropic.claude-3-5-sonnet-20241022-v2:0\",\n",
    "                 \"bedrock/us.anthropic.claude-3-5-haiku-20241022-v1:0\",\n",
    "                 \"bedrock/amazon.nova-lite-v1:0\",\n",
    "                 \"bedrock/amazon.nova-micro-v1:0\",\n",
    "                 \"bedrock/amazon.nova-pro-v1:0\"]"
   ]
  },
  {
   "cell_type": "markdown",
   "id": "25ca4b4a-48ce-4049-8152-4067cf73af69",
   "metadata": {},
   "source": [
    "## Run the Pipeline"
   ]
  },
  {
   "cell_type": "code",
   "execution_count": 15,
   "id": "39d02bb2-c9b1-4953-aaa7-82329d2c7d1e",
   "metadata": {},
   "outputs": [
    {
     "name": "stdout",
     "output_type": "stream",
     "text": [
      "{\n",
      "    \"UserId\": \"AROAYZZGTGQMSXMXAZQY7:BedrockSession\",\n",
      "    \"Account\": \"605134468121\",\n",
      "    \"Arn\": \"arn:aws:sts::605134468121:assumed-role/BedrockCrossAccount/BedrockSession\"\n",
      "}\n"
     ]
    }
   ],
   "source": [
    "!aws sts get-caller-identity"
   ]
  },
  {
   "cell_type": "code",
   "execution_count": 16,
   "id": "1bc18b4b-9a8f-408f-acaf-11411cbe8018",
   "metadata": {},
   "outputs": [],
   "source": [
    "# import boto3\n",
    "# from nano_graphrag import GraphRAG\n",
    "\n",
    "# # Now, initialize GraphRAG\n",
    "# graph_func = GraphRAG(\n",
    "#     working_dir=\"./nano_graphrag_cache\",\n",
    "#     using_amazon_bedrock=True,\n",
    "#     best_model_id=\"us.anthropic.claude-3-sonnet-20240229-v1:0\",\n",
    "#     cheap_model_id=\"us.anthropic.claude-3-haiku-20240307-v1:0\"\n",
    "# )"
   ]
  },
  {
   "cell_type": "code",
   "execution_count": 31,
   "id": "0485e7bf-70c0-4942-90e8-37b5b8498b1c",
   "metadata": {},
   "outputs": [
    {
     "name": "stderr",
     "output_type": "stream",
     "text": [
      "\u001b[92m04:44:05 - LiteLLM:INFO\u001b[0m: utils.py:2944 - \n",
      "LiteLLM completion() model= us.meta.llama3-1-8b-instruct-v1:0; provider = bedrock\n",
      "INFO:LiteLLM:\n",
      "LiteLLM completion() model= us.meta.llama3-1-8b-instruct-v1:0; provider = bedrock\n",
      "INFO:botocore.credentials:Found credentials in environment variables.\n"
     ]
    },
    {
     "name": "stdout",
     "output_type": "stream",
     "text": [
      "model_name=us.meta.llama3-1-8b-instruct-v1:0\n"
     ]
    },
    {
     "name": "stderr",
     "output_type": "stream",
     "text": [
      "INFO:httpx:HTTP Request: POST https://bedrock-runtime.us-east-1.amazonaws.com/model/us.meta.llama3-1-8b-instruct-v1:0/converse \"HTTP/1.1 200 OK\"\n",
      "\u001b[92m04:44:06 - LiteLLM:INFO\u001b[0m: utils.py:1120 - Wrapper: Completed Call, calling success_handler\n",
      "INFO:LiteLLM:Wrapper: Completed Call, calling success_handler\n"
     ]
    },
    {
     "name": "stdout",
     "output_type": "stream",
     "text": [
      "got response in 1.52s\n"
     ]
    }
   ],
   "source": [
    "prompt = \"the little red riding hood\"\n",
    "model_id = \"us.meta.llama3-1-8b-instruct-v1:0\"\n",
    "max_tokens = 100\n",
    "temperature = 0.7\n",
    "n = 1\n",
    "top_p = 1\n",
    "stream = False\n",
    "response, latency = get_inference(model_id, prompt, max_tokens, temperature, n, top_p, stream)"
   ]
  },
  {
   "cell_type": "code",
   "execution_count": 32,
   "id": "267c2876-fe11-4a7b-8926-4d1cb0b2d9e7",
   "metadata": {},
   "outputs": [
    {
     "name": "stderr",
     "output_type": "stream",
     "text": [
      "INFO:root:✅ Successfully overridden NanoGraphRAG's Bedrock call!\n"
     ]
    }
   ],
   "source": [
    "def custom_bedrock_inference(model_id, prompt, max_tokens=100, temperature=0.7, n=1, top_p=1, stream=False):\n",
    "    \"\"\"\n",
    "    Custom function to replace NanoGraphRAG's internal Bedrock calls.\n",
    "    \"\"\"\n",
    "    from litellm import get_inference  # ✅ Import the working LiteLLM function\n",
    "\n",
    "    # 🔥 Use the same model settings that worked previously\n",
    "    response, latency = get_inference(\n",
    "        model_id=model_id,\n",
    "        prompt=prompt,\n",
    "        max_tokens=max_tokens,\n",
    "        temperature=temperature,\n",
    "        n=n,\n",
    "        top_p=top_p,\n",
    "        stream=stream\n",
    "    )\n",
    "\n",
    "    logging.info(f\"✅ Bedrock response received in {latency}s\")\n",
    "    return response\n",
    "\n",
    "# ✅ Inject custom inference function into GraphRAG\n",
    "graph_func.use_llm_func = custom_bedrock_inference\n",
    "logging.info(\"✅ Successfully overridden NanoGraphRAG's Bedrock call!\")"
   ]
  },
  {
   "cell_type": "code",
   "execution_count": null,
   "id": "05058155-3272-4ae6-bab8-520a269de867",
   "metadata": {},
   "outputs": [
    {
     "name": "stderr",
     "output_type": "stream",
     "text": [
      "INFO:root:📢 Inserting book text into GraphRAG...\n",
      "INFO:nano-graphrag:[New Docs] inserting 1 docs\n",
      "INFO:nano-graphrag:[New Chunks] inserting 42 chunks\n",
      "INFO:nano-graphrag:[Entity Extraction]...\n"
     ]
    }
   ],
   "source": [
    "# ✅ Load Sample Data\n",
    "book_path = \"book.txt\"\n",
    "if not Path(book_path).exists():\n",
    "    raise FileNotFoundError(f\"❌ File {book_path} not found!\")\n",
    "\n",
    "with open(book_path, \"r\", encoding=\"utf-8\") as f:\n",
    "    book_text = f.read()\n",
    "\n",
    "# ✅ Try inserting text into GraphRAG\n",
    "try:\n",
    "    logging.info(\"📢 Inserting book text into GraphRAG...\")\n",
    "    graph_func.insert(book_text)  # 🚀 Now uses your working Bedrock setup!\n",
    "    logging.info(\"✅ Data insertion completed successfully!\")\n",
    "except Exception as e:\n",
    "    logging.error(f\"❌ Failed to insert book text: {e}\")\n",
    "    raise"
   ]
  },
  {
   "cell_type": "code",
   "execution_count": null,
   "id": "eb8b48e0-2b6f-4b62-abaf-974eae7840c4",
   "metadata": {},
   "outputs": [],
   "source": []
  }
 ],
 "metadata": {
  "kernelspec": {
   "display_name": "conda_python3",
   "language": "python",
   "name": "conda_python3"
  },
  "language_info": {
   "codemirror_mode": {
    "name": "ipython",
    "version": 3
   },
   "file_extension": ".py",
   "mimetype": "text/x-python",
   "name": "python",
   "nbconvert_exporter": "python",
   "pygments_lexer": "ipython3",
   "version": "3.10.16"
  }
 },
 "nbformat": 4,
 "nbformat_minor": 5
}
